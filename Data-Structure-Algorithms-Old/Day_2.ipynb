{
 "cells": [
  {
   "cell_type": "code",
   "execution_count": 1,
   "metadata": {},
   "outputs": [],
   "source": [
    "#Binary Search \n",
    "# Shift + Tab to remove indentation "
   ]
  },
  {
   "cell_type": "code",
   "execution_count": null,
   "metadata": {},
   "outputs": [
    {
     "data": {
      "text/plain": [
       "1"
      ]
     },
     "metadata": {},
     "output_type": "display_data"
    }
   ],
   "source": [
    "\n",
    "# Binary Search \n",
    "\n",
    "def binarySearch(arr,target):\n",
    "    start = 0\n",
    "    end = len(arr)-1\n",
    "    while start <= end:\n",
    "        middle = start + (end-start)//2\n",
    "\n",
    "        if target > arr[middle]:\n",
    "            start = middle+1\n",
    "        elif target < arr[middle]:\n",
    "            end = middle-1\n",
    "        else:\n",
    "            return middle\n",
    "    return -1#if not found\n",
    "    \n",
    "binarySearch([ 6, 13, 33, 39, 59, 64, 68, 90, 92, 93],13)"
   ]
  },
  {
   "cell_type": "code",
   "execution_count": 36,
   "metadata": {},
   "outputs": [
    {
     "data": {
      "text/plain": [
       "array([[ 8, 16, 23, 43, 60, 73, 28, 19, 31, 23],\n",
       "       [83,  5, 10, 70, 11, 28, 75,  0, 47, 29],\n",
       "       [75, 60, 14, 32, 88, 52, 70, 81, 67, 98],\n",
       "       [81, 99,  7, 76, 49, 74, 80,  7, 68, 74],\n",
       "       [45, 68,  7, 51, 72, 95, 17,  1, 95, 10]])"
      ]
     },
     "execution_count": 36,
     "metadata": {},
     "output_type": "execute_result"
    }
   ],
   "source": [
    "import numpy as np\n",
    "a = np.random.randint(0,100,size=(5,10))\n",
    "a"
   ]
  },
  {
   "cell_type": "code",
   "execution_count": 45,
   "metadata": {},
   "outputs": [
    {
     "name": "stdout",
     "output_type": "stream",
     "text": [
      "8,16,19,23,23,28,31,43,60,73,\t\t Sum =  324\n",
      "0,5,10,11,28,29,47,70,75,83,\t\t Sum =  358\n",
      "14,32,52,60,67,70,75,81,88,98,\t\t Sum =  637\n",
      "7,7,49,68,74,74,76,80,81,99,\t\t Sum =  615\n",
      "1,7,10,17,45,51,68,72,95,95,\t\t Sum =  461\n"
     ]
    }
   ],
   "source": [
    "for i in a:\n",
    "    sum = 0\n",
    "    for j in i:\n",
    "        print(j,end=',')\n",
    "        sum+=j\n",
    "    print('\\t\\t Sum = ',sum)"
   ]
  },
  {
   "cell_type": "code",
   "execution_count": 46,
   "metadata": {},
   "outputs": [
    {
     "data": {
      "text/plain": [
       "array([[ 8, 16, 19, 23, 23, 28, 31, 43, 60, 73],\n",
       "       [ 0,  5, 10, 11, 28, 29, 47, 70, 75, 83],\n",
       "       [14, 32, 52, 60, 67, 70, 75, 81, 88, 98],\n",
       "       [ 7,  7, 49, 68, 74, 74, 76, 80, 81, 99],\n",
       "       [ 1,  7, 10, 17, 45, 51, 68, 72, 95, 95]])"
      ]
     },
     "execution_count": 46,
     "metadata": {},
     "output_type": "execute_result"
    }
   ],
   "source": [
    "a.sort()\n",
    "a"
   ]
  },
  {
   "cell_type": "code",
   "execution_count": 79,
   "metadata": {},
   "outputs": [
    {
     "data": {
      "text/plain": [
       "[2, 3, 5, 4, 1, 7]"
      ]
     },
     "execution_count": 79,
     "metadata": {},
     "output_type": "execute_result"
    }
   ],
   "source": [
    "#Given the array nums consisting of 2n elements in the form [x1,x2,...,xn,y1,y2,...,yn]. => Return the array in the form [x1,y1,x2,y2,...,xn,yn].\n",
    "\n",
    "def shuffle(nums, n):\n",
    "    l = []\n",
    "    for i in range(n):\n",
    "        l.append(nums[i])\n",
    "        l.append(nums[i+n])\n",
    "    return l\n",
    "\n",
    "shuffle([2,5,1,3,4,7],3)\n",
    "        "
   ]
  },
  {
   "cell_type": "code",
   "execution_count": 82,
   "metadata": {},
   "outputs": [
    {
     "data": {
      "text/plain": [
       "[True, True, True, False, True]"
      ]
     },
     "execution_count": 82,
     "metadata": {},
     "output_type": "execute_result"
    }
   ],
   "source": [
    "# There are n kids with candies. You are given an integer array candies, where each candies[i] represents the number of candies the ith kid has, and an integer extraCandies, denoting the number of extra candies that you have.\n",
    "\n",
    "# Return a boolean array result of length n, where result[i] is true if, after giving the ith kid all the extraCandies, they will have the greatest number of candies among all the kids, or false otherwise.\n",
    "\n",
    "# Note that multiple kids can have the greatest number of candies.\n",
    "\n",
    "def kidsWithCandies(candies, extraCandies):\n",
    "    maxCandy = max(candies)\n",
    "    l = []\n",
    "    for i in candies:\n",
    "        if i+extraCandies >= maxCandy:\n",
    "            l.append(True)\n",
    "        else:\n",
    "            l.append(False)\n",
    "    return l\n",
    "kidsWithCandies([2,3,5,1,3],3)"
   ]
  },
  {
   "cell_type": "code",
   "execution_count": 85,
   "metadata": {},
   "outputs": [
    {
     "data": {
      "text/plain": [
       "4"
      ]
     },
     "execution_count": 85,
     "metadata": {},
     "output_type": "execute_result"
    }
   ],
   "source": [
    "#Given an array of integers nums, return the number of good pairs. A pair (i, j) is called good if nums[i] == nums[j] and i < j.\n",
    "\n",
    "#Output: 4 => Explanation: There are 4 good pairs (0,3), (0,4), (3,4), (2,5) 0-indexed.\n",
    "\n",
    "def numIdenticalPairs(nums):\n",
    "    unique_list = []\n",
    "    for i in nums:\n",
    "        if i not in unique_list:\n",
    "            unique_list.append(i)\n",
    "    c = []\n",
    "    for i in unique_list:\n",
    "        if nums.count(i) > 1:\n",
    "            c.append(nums.count(i))\n",
    "    op = 0\n",
    "    for i in c:\n",
    "        op = op + i*(i-1)//2\n",
    "    return op\n",
    "    \n",
    "numIdenticalPairs([1,2,3,1,1,3])"
   ]
  },
  {
   "cell_type": "code",
   "execution_count": 102,
   "metadata": {},
   "outputs": [
    {
     "data": {
      "text/plain": [
       "[4, 0, 1, 1, 3]"
      ]
     },
     "execution_count": 102,
     "metadata": {},
     "output_type": "execute_result"
    }
   ],
   "source": [
    "#Given the array nums, for each nums[i] find out how many numbers in the array are smaller than it. That is, for each nums[i] you have to count the number of valid j's such that j != i and nums[j] < nums[i].\"\"\"\n",
    "def smallerNumbersThanCurrent(n):\n",
    "    l = []\n",
    "    for i in n:\n",
    "        c = 0\n",
    "        for j in n:\n",
    "            if i > j:\n",
    "                c = c+1\n",
    "        l.append(c)\n",
    "    return l\n",
    "smallerNumbersThanCurrent([8,1,2,2,3])"
   ]
  },
  {
   "cell_type": "code",
   "execution_count": null,
   "metadata": {},
   "outputs": [],
   "source": []
  }
 ],
 "metadata": {
  "kernelspec": {
   "display_name": "Python 3.9.12 ('base')",
   "language": "python",
   "name": "python3"
  },
  "language_info": {
   "codemirror_mode": {
    "name": "ipython",
    "version": 3
   },
   "file_extension": ".py",
   "mimetype": "text/x-python",
   "name": "python",
   "nbconvert_exporter": "python",
   "pygments_lexer": "ipython3",
   "version": "3.9.12"
  },
  "orig_nbformat": 4,
  "vscode": {
   "interpreter": {
    "hash": "8891f3cfb547db503e78f25128202364d60f1c09259e140a1bd236c27b0b7a43"
   }
  }
 },
 "nbformat": 4,
 "nbformat_minor": 2
}
