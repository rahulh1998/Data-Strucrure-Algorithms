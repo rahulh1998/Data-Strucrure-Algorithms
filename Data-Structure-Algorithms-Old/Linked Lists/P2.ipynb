{
 "cells": [
  {
   "cell_type": "code",
   "execution_count": 1,
   "id": "d7bb47c5",
   "metadata": {},
   "outputs": [],
   "source": [
    "#Linked Lists\n",
    "\n",
    "# for deletion at -1 we need to use loop "
   ]
  },
  {
   "cell_type": "code",
   "execution_count": 2,
   "id": "0e16de49",
   "metadata": {},
   "outputs": [],
   "source": [
    "class Node:\n",
    "    def __init__(self,value):\n",
    "        self.next = None\n",
    "        self.value = value\n",
    "\n",
    "class SingleLinkedList:\n",
    "    def __init__(self):\n",
    "        self.head = None\n",
    "        self.tail = None\n",
    "    \n",
    "    def traverse(self):\n",
    "        node = self.head\n",
    "        while node:\n",
    "            print([node.value] , end = ' ')\n",
    "            node = node.next\n",
    "    \n",
    "    def create(self,value):\n",
    "        newNode = Node(value)\n",
    "        self.head = newNode\n",
    "        self.tail = newNode\n",
    "        \n",
    "    def insert(self,location,value):\n",
    "        newNode = Node(value)\n",
    "        if self.head == None:\n",
    "            print('Node cannnot be inserted')   \n",
    "        else:\n",
    "            if location == 0:\n",
    "                newNode.next = self.head  # newNode -> node1\n",
    "                self.head = newNode  #head -> newNode\n",
    "            \n",
    "            elif location == -1:\n",
    "                newNode.next = None\n",
    "                self.tail.next = newNode\n",
    "                self.tail = newNode\n",
    "                \n",
    "            else:\n",
    "                index = 0\n",
    "                tempNode = self.head\n",
    "                while index<location -1:\n",
    "                    tempNode = tempNode.next\n",
    "                    index+=1\n",
    "                nextNode = tempNode.next\n",
    "                newNode.next = nextNode\n",
    "                tempNode.next = newNode\n",
    "    \n",
    "    def delete(self,location):\n",
    "        if self.head== None:\n",
    "            print('Empty')\n",
    "        else:\n",
    "            if location == 0:\n",
    "                self.head = self.head.next\n",
    "            \n",
    "            elif location == -1:\n",
    "                node = self.head\n",
    "                while node:\n",
    "                    if node.next == self.tail:\n",
    "                        break\n",
    "                    node = node.next\n",
    "                node.next = None\n",
    "                self.tail = node\n",
    "        \n",
    "            else:\n",
    "                index = 0\n",
    "                tempNode = self.head\n",
    "                while index<location -1:\n",
    "                    tempNode = tempNode.next\n",
    "                    index+=1\n",
    "                nextNode = tempNode.next\n",
    "                tempNode.next = nextNode.next\n",
    "                \n",
    "sll = SingleLinkedList()\n",
    "sll.create(10)"
   ]
  },
  {
   "cell_type": "code",
   "execution_count": 3,
   "id": "d9c9955a",
   "metadata": {},
   "outputs": [
    {
     "name": "stdout",
     "output_type": "stream",
     "text": [
      "[0] [1] [2] [3] [4] [10] [100] "
     ]
    }
   ],
   "source": [
    "sll.insert(0,0)\n",
    "sll.insert(1,1)\n",
    "sll.insert(2,2)\n",
    "sll.insert(3,3)\n",
    "sll.insert(4,4)\n",
    "sll.insert(-1,100)\n",
    "sll.traverse()"
   ]
  },
  {
   "cell_type": "code",
   "execution_count": 4,
   "id": "3f5669fa",
   "metadata": {},
   "outputs": [
    {
     "name": "stdout",
     "output_type": "stream",
     "text": [
      "[1] [3] [4] [10] "
     ]
    }
   ],
   "source": [
    "sll.delete(0)\n",
    "sll.delete(1)\n",
    "sll.delete(-1)\n",
    "sll.traverse()"
   ]
  },
  {
   "cell_type": "code",
   "execution_count": 5,
   "id": "4e7afad5",
   "metadata": {},
   "outputs": [],
   "source": [
    "# Circular singly linked list"
   ]
  },
  {
   "cell_type": "code",
   "execution_count": 6,
   "id": "74602ed9",
   "metadata": {},
   "outputs": [
    {
     "name": "stdout",
     "output_type": "stream",
     "text": [
      "[0] [1] [2] [3] [4] [5] [6] [10] [100] "
     ]
    }
   ],
   "source": [
    "class CircularSinglyLinkedList:\n",
    "    def __init__(self):\n",
    "        self.head = None\n",
    "        self.tail = None\n",
    "    \n",
    "    def create(self,value):\n",
    "        newNode = Node(value)\n",
    "        self.head = newNode\n",
    "        self.tail = newNode\n",
    "    \n",
    "    def insert(self,location,value):\n",
    "        if self.head == None:\n",
    "            print('Node cannot be inserted')\n",
    "        else:\n",
    "            newNode = Node(value)\n",
    "            if location == 0:\n",
    "                newNode.next = self.head\n",
    "                self.head = newNode\n",
    "            \n",
    "            elif location == -1:\n",
    "                    newNode.next = self.tail.next # here self.tail.next stores the location of head node\n",
    "                    self.tail.next = newNode\n",
    "                    self.tail = newNode\n",
    "\n",
    "            else :\n",
    "                index = 0\n",
    "                tempNode = self.head\n",
    "                while index<location -1:\n",
    "                    tempNode = tempNode.next\n",
    "                    index+=1\n",
    "                nextNode = tempNode.next\n",
    "                newNode.next = nextNode\n",
    "                tempNode.next = newNode\n",
    "    \n",
    "    def delete(self,location):\n",
    "        if self.head== None:\n",
    "            print(\"list is empty\")\n",
    "        else:\n",
    "            if location == 0:\n",
    "                    self.head= self.head.next\n",
    "            \n",
    "            elif location == -1:\n",
    "                    node = self.head\n",
    "                    while node:\n",
    "                        if node.next == self.tail:\n",
    "                            break\n",
    "                        node = node.next    \n",
    "                    node.next == self.head\n",
    "                    self.tail = node\n",
    "            else :\n",
    "                index = 0\n",
    "                tempNode = self.head\n",
    "                while index<location -1:\n",
    "                    tempNode = tempNode.next\n",
    "                    index+=1\n",
    "                nextNode = tempNode.next\n",
    "                tempNode.next = nextNode.next\n",
    "\n",
    "    def traverse(self):\n",
    "        node = self.head\n",
    "        while node:\n",
    "            print([node.value],end = ' ')\n",
    "            node = node.next\n",
    "            if node == self.tail.next:\n",
    "                break\n",
    "\n",
    "csll = CircularSinglyLinkedList()\n",
    "csll.create(10)\n",
    "csll.insert(0,0)\n",
    "csll.insert(1,1)\n",
    "csll.insert(2,2)\n",
    "csll.insert(3,3)\n",
    "csll.insert(4,4)\n",
    "csll.insert(5,5)\n",
    "csll.insert(6,6)\n",
    "csll.insert(-1,100)\n",
    "csll.traverse()"
   ]
  },
  {
   "cell_type": "code",
   "execution_count": 7,
   "id": "f05100a5",
   "metadata": {},
   "outputs": [
    {
     "name": "stdout",
     "output_type": "stream",
     "text": [
      "[1] [3] [5] [6] [10] "
     ]
    }
   ],
   "source": [
    "csll.delete(0)\n",
    "csll.delete(1)\n",
    "csll.delete(2)\n",
    "csll.delete(-1)\n",
    "csll.traverse()"
   ]
  },
  {
   "cell_type": "code",
   "execution_count": 8,
   "id": "54e5dbe6",
   "metadata": {},
   "outputs": [],
   "source": [
    "#Doubly linked List"
   ]
  },
  {
   "cell_type": "code",
   "execution_count": 9,
   "id": "3f4a9dd3",
   "metadata": {},
   "outputs": [
    {
     "name": "stdout",
     "output_type": "stream",
     "text": [
      "[0] [1] [2] [3] [4] [5] [6] [10] "
     ]
    }
   ],
   "source": [
    "class Node:\n",
    "    def __init__(self,value):\n",
    "        self.next = None\n",
    "        self.prev = None\n",
    "        self.value = value\n",
    "\n",
    "class DoublyLinkedList:\n",
    "    def __int__(self):\n",
    "        self.head = None\n",
    "        self.tail = None\n",
    "    \n",
    "    def create(self,value):\n",
    "        newNode = Node(value)\n",
    "        self.head = newNode\n",
    "        self.tail = newNode\n",
    "        newNode.prev = None\n",
    "    \n",
    "    def insert(self,location,value):\n",
    "        newNode = Node(value)\n",
    "        if self.head == None:\n",
    "            print('node cannot be inserted')\n",
    "        else:\n",
    "\n",
    "            if location == 0:\n",
    "                newNode.next = self.head\n",
    "                newNode.prev = None\n",
    "                self.head = newNode\n",
    "\n",
    "            elif location == -1:\n",
    "                newNode.next = None\n",
    "                self.tail.next = newNode\n",
    "                newNode.prev = self.tail\n",
    "                self.tail =newNode\n",
    "\n",
    "            else :\n",
    "                index = 0\n",
    "                tempNode = self.head\n",
    "                while index<location -1:\n",
    "                    tempNode = tempNode.next\n",
    "                    index+=1\n",
    "                nextNode = tempNode.next\n",
    "                newNode.next = nextNode\n",
    "                tempNode.next = newNode\n",
    "                newNode.prev = tempNode\n",
    "                nextNode.prev = newNode\n",
    "    \n",
    "    def delete(self,location):\n",
    "        if self.head == None:\n",
    "            return \"List is empty\"\n",
    "        else:\n",
    "            if location == 0:\n",
    "                if self.head == self.tail:\n",
    "                    self.head = None\n",
    "                    self.tail = None\n",
    "                else:\n",
    "                    self.head = self.head.next\n",
    "                    self.prev = None\n",
    "\n",
    "            elif location == -1:\n",
    "                if self.head == self.tail:\n",
    "                    self.head = None\n",
    "                    self.tail = None\n",
    "                else:\n",
    "                    self.tail = self.tail.prev\n",
    "                    self.tail.next = None\n",
    "            else:\n",
    "                index = 0\n",
    "                tempNode = self.head\n",
    "                while index < location -1:\n",
    "                    tempNode = tempNode.next\n",
    "                    index+=1\n",
    "                nextNode = tempNode.next\n",
    "                tempNode.next = nextNode.next\n",
    "\n",
    "    def traverse(self):\n",
    "        if self.head == None:\n",
    "            print(\"empty list\")\n",
    "        else:\n",
    "            node = self.head\n",
    "            while node:\n",
    "                print([node.value], end = ' ')\n",
    "                node = node.next\n",
    "                \n",
    "dll = DoublyLinkedList()\n",
    "\n",
    "dll.create(6)\n",
    "dll.insert(0,0)\n",
    "dll.insert(1,1)\n",
    "dll.insert(2,2)\n",
    "dll.insert(3,3)\n",
    "dll.insert(4,4)\n",
    "dll.insert(5,5)\n",
    "dll.insert(-1,10)\n",
    "\n",
    "dll.traverse()"
   ]
  },
  {
   "cell_type": "code",
   "execution_count": 10,
   "id": "2e5a1876",
   "metadata": {},
   "outputs": [
    {
     "name": "stdout",
     "output_type": "stream",
     "text": [
      "[1] [2] [4] [5] [6] "
     ]
    }
   ],
   "source": [
    "dll.delete(0)\n",
    "dll.delete(2)\n",
    "dll.delete(-1)\n",
    "dll.traverse()"
   ]
  },
  {
   "cell_type": "code",
   "execution_count": 11,
   "id": "a8411662",
   "metadata": {},
   "outputs": [],
   "source": [
    "# Circular doubly linked list"
   ]
  },
  {
   "cell_type": "code",
   "execution_count": 12,
   "id": "762bd176",
   "metadata": {},
   "outputs": [],
   "source": [
    "class Node:\n",
    "    def __init__(self,value):\n",
    "        self.next = None\n",
    "        self.prev = None\n",
    "        self.value = value\n",
    "        \n",
    "class CircularDoublyLinkedList:\n",
    "    def __init__(self):\n",
    "        self.head = None\n",
    "        self.tail = None\n",
    "    \n",
    "    def create(self,value):\n",
    "        newNode = Node(value)\n",
    "        self.head = newNode\n",
    "        self.tail = newNode\n",
    "        newNode.next = newNode\n",
    "        newNode.prev = newNode\n",
    "    \n",
    "    def insert(self,location,value):\n",
    "        newNode = Node(value)\n",
    "        if self.head == None:\n",
    "            print('List is empty')\n",
    "        \n",
    "        else:\n",
    "            if location == 0:\n",
    "                newNode.next = self.head\n",
    "                self.head.prev = newNode\n",
    "                newNode.prev = self.tail\n",
    "                self.head = newNode\n",
    "                self.tail.next = newNode\n",
    "                \n",
    "            elif location == -1:\n",
    "                newNode.next = self.head\n",
    "                newNode.prev = self.tail\n",
    "                self.tail.next = newNode\n",
    "                self.head.prev = newNode\n",
    "                self.tail = newNode\n",
    "            \n",
    "            else :\n",
    "                index = 0\n",
    "                tempNode = self.head\n",
    "                while index<location -1:\n",
    "                    tempNode = tempNode.next\n",
    "                    index+=1\n",
    "                nextNode = tempNode.next\n",
    "                newNode.next = nextNode\n",
    "                tempNode.next = newNode\n",
    "                newNode.prev = tempNode\n",
    "                nextNode.prev = newNode\n",
    "                \n",
    "    def delete(self,location):\n",
    "        if location==self.head:\n",
    "            print('empty')\n",
    "        else:\n",
    "            if location == 0:\n",
    "                self.head = self.head.next\n",
    "                self.tail.next = self.head\n",
    "                self.head.prev = self.tail\n",
    "                \n",
    "            elif location == -1:\n",
    "                if self.head == self.tail:\n",
    "                    self.head.next = None\n",
    "                    self.head.prev = None\n",
    "                    self.head = None\n",
    "                    self.tail = None\n",
    "                else:\n",
    "                    self.tail = self.tail.prev\n",
    "                    self.tail.next = self.head\n",
    "                    self.head.prev = self.tail\n",
    "            \n",
    "            else:\n",
    "                index = 0\n",
    "                curNode = self.head\n",
    "                while index<location-1:\n",
    "                    curNode = curNode.next\n",
    "                    index+=1\n",
    "                curNode.next = curNode.next.next\n",
    "                curNode.next.prev = curNode\n",
    "                self.traverse()\n",
    "\n",
    "                \n",
    "    def traverse(self): \n",
    "        node = self.head\n",
    "        while node:\n",
    "            print([node.value],end = ' ') \n",
    "            node = node.next\n",
    "            if node == self.tail.next:\n",
    "                break\n",
    "                \n",
    "cdll = CircularDoublyLinkedList()"
   ]
  },
  {
   "cell_type": "code",
   "execution_count": 17,
   "id": "999f8fc4",
   "metadata": {},
   "outputs": [
    {
     "name": "stdout",
     "output_type": "stream",
     "text": [
      "[0] [1] [2] [3] [4] [100] [200] "
     ]
    }
   ],
   "source": [
    "cdll.create(100)\n",
    "cdll.insert(0,0)\n",
    "cdll.insert(1,1)\n",
    "cdll.insert(2,2)\n",
    "cdll.insert(3,3)\n",
    "cdll.insert(4,4)\n",
    "cdll.insert(-1,200)\n",
    "\n",
    "cdll.traverse()"
   ]
  },
  {
   "cell_type": "code",
   "execution_count": 18,
   "id": "98b9dd41",
   "metadata": {},
   "outputs": [
    {
     "name": "stdout",
     "output_type": "stream",
     "text": [
      "[1] [3] [4] [100] [200] "
     ]
    }
   ],
   "source": [
    "cdll.delete(0)\n",
    "cdll.delete(1)\n",
    "cdll.delete(-1)"
   ]
  },
  {
   "cell_type": "code",
   "execution_count": null,
   "id": "6dce6472",
   "metadata": {},
   "outputs": [],
   "source": []
  },
  {
   "cell_type": "code",
   "execution_count": null,
   "id": "7e1d583d",
   "metadata": {},
   "outputs": [],
   "source": []
  }
 ],
 "metadata": {
  "kernelspec": {
   "display_name": "Python 3",
   "language": "python",
   "name": "python3"
  },
  "language_info": {
   "codemirror_mode": {
    "name": "ipython",
    "version": 3
   },
   "file_extension": ".py",
   "mimetype": "text/x-python",
   "name": "python",
   "nbconvert_exporter": "python",
   "pygments_lexer": "ipython3",
   "version": "3.8.8"
  }
 },
 "nbformat": 4,
 "nbformat_minor": 5
}
