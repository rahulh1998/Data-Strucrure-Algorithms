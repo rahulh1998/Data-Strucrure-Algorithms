{
 "cells": [
  {
   "cell_type": "code",
   "execution_count": 1,
   "id": "563b9f83",
   "metadata": {},
   "outputs": [],
   "source": [
    "class Node:\n",
    "    def __init__(self,value):\n",
    "        self.next = None\n",
    "        self.value = value\n",
    "\n",
    "class CircularSinglyLinkedList:\n",
    "    def __init__(self):\n",
    "        self.head = None\n",
    "        self.tail = None\n",
    "    \n",
    "    def __iter__(self):\n",
    "        node = self.head\n",
    "        while node:\n",
    "            yield node\n",
    "            node = node.next\n",
    "            if node == self.tail.next:\n",
    "                break\n",
    "                \n",
    "    def createSSL(self,value): #we need to create an empty node first to begin insertion\n",
    "        node = Node(value)\n",
    "        self.head = node\n",
    "        self.tail = node\n",
    "        node.next = node #since its the only node , its next reference is himself\n",
    "    \n",
    "    def insertSSL(self,location,value):\n",
    "        newNode = Node(value)\n",
    "        if self.head == None :\n",
    "            return \"SSL Doesnt exist\"\n",
    "        else:\n",
    "            if location == 0:\n",
    "                newNode.next = self.head\n",
    "                self.head = newNode\n",
    "                self.tail.next = newNode # linking the tail to the first node\n",
    "            \n",
    "            elif location == -1:\n",
    "                newNode.next = self.tail.next\n",
    "                self.tail.next = newNode\n",
    "                self.tail = newNode\n",
    "            \n",
    "            else:\n",
    "                tempNode = self.head\n",
    "                index = 0\n",
    "                while index < location - 1:\n",
    "                    tempNode = tempNode.next\n",
    "                    index+=1\n",
    "                nextNode = tempNode.next\n",
    "                tempNode.next = newNode\n",
    "                newNode.next = nextNode\n",
    "    \n",
    "    def traversal(self):\n",
    "        if self.head == None:\n",
    "            return \"empty list\"\n",
    "        node = self.head\n",
    "        while node:\n",
    "            print(node.value, end = ' ')\n",
    "            node = node.next\n",
    "            if node == self.tail.next:\n",
    "                break\n",
    "    \n",
    "    def searchSCLL(self,value):\n",
    "        node = self.head\n",
    "        while node:\n",
    "            if node.value == value:\n",
    "                return node.value\n",
    "            node = node.next\n",
    "            if node == self.tail.next:\n",
    "                return f\"{value} doesnot exist\"\n",
    "    \n",
    "    \n",
    "                    \n",
    "SCLL = CircularSinglyLinkedList()    \n",
    "SCLL.createSSL(10)"
   ]
  },
  {
   "cell_type": "code",
   "execution_count": 2,
   "id": "2814c465",
   "metadata": {},
   "outputs": [],
   "source": [
    "SCLL.insertSSL(0,0)"
   ]
  },
  {
   "cell_type": "code",
   "execution_count": 3,
   "id": "ee371e2f",
   "metadata": {},
   "outputs": [
    {
     "name": "stdout",
     "output_type": "stream",
     "text": [
      "[0, 10]\n"
     ]
    }
   ],
   "source": [
    "print([node.value for node in SCLL])"
   ]
  },
  {
   "cell_type": "code",
   "execution_count": 4,
   "id": "9c8ebe13",
   "metadata": {},
   "outputs": [
    {
     "name": "stdout",
     "output_type": "stream",
     "text": [
      "[0, 1, 2, 3, 10, 20]\n"
     ]
    }
   ],
   "source": [
    "SCLL.insertSSL(1,1)\n",
    "SCLL.insertSSL(2,2)\n",
    "SCLL.insertSSL(3,3)\n",
    "SCLL.insertSSL(-1,20)\n",
    "print([node.value for node in SCLL])"
   ]
  },
  {
   "cell_type": "code",
   "execution_count": 5,
   "id": "b583b11c",
   "metadata": {},
   "outputs": [
    {
     "name": "stdout",
     "output_type": "stream",
     "text": [
      "0 1 2 3 10 20 "
     ]
    }
   ],
   "source": [
    "SCLL.traversal()"
   ]
  },
  {
   "cell_type": "code",
   "execution_count": 6,
   "id": "ed53b0c3",
   "metadata": {},
   "outputs": [
    {
     "data": {
      "text/plain": [
       "'324 doesnot exist'"
      ]
     },
     "execution_count": 6,
     "metadata": {},
     "output_type": "execute_result"
    }
   ],
   "source": [
    "SCLL.searchSCLL(324)"
   ]
  },
  {
   "cell_type": "code",
   "execution_count": 7,
   "id": "6e428ffa",
   "metadata": {},
   "outputs": [
    {
     "data": {
      "text/plain": [
       "10"
      ]
     },
     "execution_count": 7,
     "metadata": {},
     "output_type": "execute_result"
    }
   ],
   "source": [
    "SCLL.searchSCLL(10)"
   ]
  },
  {
   "cell_type": "code",
   "execution_count": 8,
   "id": "da45612a",
   "metadata": {},
   "outputs": [],
   "source": [
    "class Node:\n",
    "    def __init__(self,value):\n",
    "        self.next = None\n",
    "        self.value = value\n",
    "\n",
    "class csll:\n",
    "    def __init__(self):\n",
    "        self.head = None\n",
    "        self.tail = None\n",
    "        \n",
    "    def createcsll(self,value):\n",
    "        node = Node(value)\n",
    "        self.head = node\n",
    "        self.tail = node\n",
    "        node.next = node\n",
    "        \n",
    "    def insertcsll(self,location,value):\n",
    "        newNode = Node(value)\n",
    "        if self.head == None:\n",
    "            return \"csll is empty\"\n",
    "        else:\n",
    "            if location == 0:\n",
    "                newNode.next = self.head\n",
    "                self.head = newNode\n",
    "                self.tail.next = newNode\n",
    "                \n",
    "            elif location == -1:\n",
    "                newNode.next = self.tail.next\n",
    "                self.tail.next = newNode\n",
    "                self.tail = newNode\n",
    "                \n",
    "            else :\n",
    "                index= 0\n",
    "                tempNode = self.head\n",
    "                while index < location - 1:\n",
    "                    tempNode = tempNode.next\n",
    "                    index +=1\n",
    "                nextNode = tempNode.next\n",
    "                tempNode.next = newNode\n",
    "                newNode.next = nextNode\n",
    "            \n",
    "    def deleteincsll(self,loc):\n",
    "        if self.head == None:\n",
    "            print(\"EMPTY LIST\")\n",
    "        else :\n",
    "            if location == 0:\n",
    "                if self.head == self.tail: \n",
    "                    self.head.next = None\n",
    "                    self.head = None\n",
    "                    self.tail = None\n",
    "                else:\n",
    "                    self.head = self.head.next\n",
    "                    self.tail.next = self.head\n",
    "            elif location == -1:\n",
    "                if self.head == self.tail:\n",
    "                    self.tail.next = None\n",
    "                    self.tail = None\n",
    "                    self.head = None\n",
    "                elif location == -1:\n",
    "                    node = self.head\n",
    "                    while node:\n",
    "                        if node.next == self.tail:\n",
    "                            break\n",
    "                        node = node.next\n",
    "                    node.next = self.tail\n",
    "                    self.tail = node\n",
    "                        \n",
    "            else :\n",
    "                index= 0\n",
    "                tempNode = self.head\n",
    "                while index < location - 1:\n",
    "                    tempNode = tempNode.next\n",
    "                    index +=1\n",
    "                nextNode = tempNode.next\n",
    "                tempNode.next = newNode.next\n",
    "            \n",
    "    def traverse(self):\n",
    "        if self.head == None:\n",
    "            return \"list is empty\"\n",
    "        node = self.head\n",
    "        while node:\n",
    "            print(node.value)\n",
    "            node = node.next\n",
    "            if node == self.tail.next:\n",
    "                break\n",
    "    "
   ]
  },
  {
   "cell_type": "code",
   "execution_count": 9,
   "id": "acd4b864",
   "metadata": {},
   "outputs": [],
   "source": [
    "csll = csll()\n",
    "csll.createcsll(5)"
   ]
  },
  {
   "cell_type": "code",
   "execution_count": 10,
   "id": "2321be72",
   "metadata": {},
   "outputs": [
    {
     "name": "stdout",
     "output_type": "stream",
     "text": [
      "5\n"
     ]
    }
   ],
   "source": [
    "csll.traverse()"
   ]
  },
  {
   "cell_type": "code",
   "execution_count": 11,
   "id": "2f52578f",
   "metadata": {},
   "outputs": [
    {
     "name": "stdout",
     "output_type": "stream",
     "text": [
      "1\n",
      "2\n",
      "3\n",
      "4\n",
      "5\n",
      "5\n",
      "10\n"
     ]
    }
   ],
   "source": [
    "csll.insertcsll(0,1)\n",
    "csll.insertcsll(1,2)\n",
    "csll.insertcsll(2,3)\n",
    "csll.insertcsll(3,4)\n",
    "csll.insertcsll(4,5)\n",
    "csll.insertcsll(-1,10)\n",
    "csll.traverse()"
   ]
  },
  {
   "cell_type": "code",
   "execution_count": 12,
   "id": "2cb9643a",
   "metadata": {},
   "outputs": [],
   "source": [
    "class Node:\n",
    "    def __init__(self,value):\n",
    "        self.next = None\n",
    "        self.value = value\n",
    "\n",
    "class singlyCLL:\n",
    "    def __init__(self):\n",
    "        self.head = None\n",
    "        self.tail = None\n",
    "    \n",
    "    def __iter__(self):\n",
    "        node = self.head\n",
    "        while node:\n",
    "            yield node\n",
    "            node = node.next\n",
    "            if node == self.tail.next:\n",
    "                break\n",
    "                \n",
    "    def traverse(self):\n",
    "        node = self.head\n",
    "        while node:\n",
    "            print([node.value], end = ' ')\n",
    "            node = node.next\n",
    "            if node == self.tail.next:\n",
    "                break\n",
    "                \n",
    "    def createSCLL(self,value):\n",
    "        node = Node(value)\n",
    "        self.head = node\n",
    "        self.tail = node\n",
    "        self.tail.next = node\n",
    "        \n",
    "    def insert(self,location,value):\n",
    "        newNode = Node(value)\n",
    "        if self.head == None:\n",
    "            print('Empty CSLL')\n",
    "        else:\n",
    "            if location ==  0:\n",
    "                newNode.next = self.head\n",
    "                self.head =newNode\n",
    "                self.tail.next = newNode\n",
    "                \n",
    "            elif location == -1:\n",
    "                newNode.next = self.tail.next\n",
    "                self.tail.next = newNode\n",
    "                self.tail = newNode\n",
    "                \n",
    "            else:\n",
    "                tempNode = self.head\n",
    "                index = 0\n",
    "                while index < location - 1:\n",
    "                    tempNode = tempNode.next\n",
    "                    index+=1\n",
    "                nextNode = tempNode.next\n",
    "                tempNode.next = newNode\n",
    "                newNode.next = nextNode\n",
    "                \n",
    "    def deleteinSCLL(self,location):\n",
    "        if self.head == None:\n",
    "            print('List is empty')\n",
    "        else:\n",
    "            if location == 0:\n",
    "                if self.head == self.tail:\n",
    "                    self.head = None\n",
    "                    self.tail = None\n",
    "                    self.tail.next = None\n",
    "                else :\n",
    "                    self.head = self.head.next \n",
    "                    self.tail.next = self.head\n",
    "                    \n",
    "            elif location == -1: \n",
    "                if self.head == self.tail:\n",
    "                    self.head = None\n",
    "                    self.tail = None\n",
    "                    self.tail.next = None\n",
    "                else:\n",
    "                    node = self.head\n",
    "                    while node is not None:\n",
    "                        if node.next == self.tail:\n",
    "                            break\n",
    "                        node = node.next\n",
    "                    node.next = self.head\n",
    "                    self.tail = node\n",
    "            else :\n",
    "                tempNode = self.head\n",
    "                index = 0\n",
    "                while index < location - 1:\n",
    "                    tempNode = tempNode.next\n",
    "                    index += 1\n",
    "                nextNode = tempNode.next\n",
    "                tempNode.next = nextNode.next\n",
    "                    \n",
    "    def searchinCSLL(self,value):\n",
    "        node = Node(value)\n",
    "        while node:\n",
    "            if node.value == value:\n",
    "                return node.value\n",
    "            node = node.next\n",
    "            if node == self.tail.next:\n",
    "                return \"Value not found\"\n",
    "                        \n",
    "scll2 = singlyCLL()"
   ]
  },
  {
   "cell_type": "code",
   "execution_count": 13,
   "id": "0dcac2e5",
   "metadata": {},
   "outputs": [],
   "source": [
    "scll2.createSCLL(1)"
   ]
  },
  {
   "cell_type": "code",
   "execution_count": 14,
   "id": "a2c1cf3f",
   "metadata": {},
   "outputs": [
    {
     "name": "stdout",
     "output_type": "stream",
     "text": [
      "[1] "
     ]
    }
   ],
   "source": [
    "scll2.traverse()"
   ]
  },
  {
   "cell_type": "code",
   "execution_count": 15,
   "id": "6c0bbc11",
   "metadata": {},
   "outputs": [],
   "source": [
    "scll2.insert(0,0)\n",
    "scll2.insert(1,2)\n",
    "scll2.insert(2,3)\n",
    "scll2.insert(3,4)\n",
    "scll2.insert(-1,5)\n"
   ]
  },
  {
   "cell_type": "code",
   "execution_count": 16,
   "id": "a3eb7c8e",
   "metadata": {},
   "outputs": [
    {
     "name": "stdout",
     "output_type": "stream",
     "text": [
      "[0] [2] [3] [4] [1] [5] "
     ]
    }
   ],
   "source": [
    "scll2.traverse()"
   ]
  },
  {
   "cell_type": "code",
   "execution_count": 17,
   "id": "4a293f55",
   "metadata": {},
   "outputs": [
    {
     "name": "stdout",
     "output_type": "stream",
     "text": [
      "[0] [2] [4] [1] [5] "
     ]
    }
   ],
   "source": [
    "scll2.deleteinSCLL(2)\n",
    "scll2.traverse()"
   ]
  },
  {
   "cell_type": "code",
   "execution_count": 18,
   "id": "48d3d6b4",
   "metadata": {},
   "outputs": [
    {
     "name": "stdout",
     "output_type": "stream",
     "text": [
      "[2] [4] [1] [5] "
     ]
    }
   ],
   "source": [
    "scll2.deleteinSCLL(0)\n",
    "scll2.traverse()"
   ]
  },
  {
   "cell_type": "code",
   "execution_count": 19,
   "id": "1cb8fa9e",
   "metadata": {},
   "outputs": [
    {
     "name": "stdout",
     "output_type": "stream",
     "text": [
      "[2] [4] [1] "
     ]
    }
   ],
   "source": [
    "scll2.deleteinSCLL(-1)\n",
    "scll2.traverse()"
   ]
  },
  {
   "cell_type": "code",
   "execution_count": null,
   "id": "9ba15fea",
   "metadata": {},
   "outputs": [],
   "source": []
  }
 ],
 "metadata": {
  "kernelspec": {
   "display_name": "Python 3",
   "language": "python",
   "name": "python3"
  },
  "language_info": {
   "codemirror_mode": {
    "name": "ipython",
    "version": 3
   },
   "file_extension": ".py",
   "mimetype": "text/x-python",
   "name": "python",
   "nbconvert_exporter": "python",
   "pygments_lexer": "ipython3",
   "version": "3.8.8"
  }
 },
 "nbformat": 4,
 "nbformat_minor": 5
}
