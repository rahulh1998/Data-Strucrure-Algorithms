{
 "cells": [
  {
   "cell_type": "markdown",
   "id": "b73ac4e5",
   "metadata": {},
   "source": [
    "<h1 style = 'background-color:orange;color:white;font-size:50px;text-align:center'>Linked Lists</h1>"
   ]
  },
  {
   "cell_type": "markdown",
   "id": "8e577314",
   "metadata": {},
   "source": [
    "<pre style= \"color:CadetBlue;background-color:#2F4F4F;font-size:15px\"> \n",
    " 1. linked list are the type of data structures which consists of nodes & links\n",
    " 2. A node stores a value & location of the next node\n",
    " 3. Each linked list has a head & tail\n",
    " 4. Head stores the address or reference of the first node of the list\n",
    " 5. Head store the address of the last node of the list\n",
    " 6. Linked lists are not stored in a contigous memory location\n",
    " 7. Insertion & deletion in linked lists are efficient as compare to Arrays\n",
    " 8. Accessing an element in a linked lists are complex\n",
    "\n",
    "</pre>"
   ]
  },
  {
   "cell_type": "markdown",
   "id": "250dc25f",
   "metadata": {},
   "source": [
    " ### Creation of a single linked list"
   ]
  },
  {
   "cell_type": "code",
   "execution_count": 1,
   "id": "67963d80",
   "metadata": {},
   "outputs": [],
   "source": [
    "# !! Node class will have value & next\n",
    "# !! LinkedList class will have head & tail\n",
    "class Node:\n",
    "    def __init__(self,value = None):\n",
    "        self.value = value\n",
    "        self.next = None\n",
    "\n",
    "class SLinkedList:\n",
    "    def __init__(self):\n",
    "        self.head = None\n",
    "        self.tail = None\n",
    "\n",
    "First_ll = SLinkedList() #LL creation\n",
    "node1 = Node(1) #Node Creation\n",
    "node2 = Node(2) #Node Creation\n",
    "\n",
    "First_ll.head = node1\n",
    "First_ll.head.next = node2\n",
    "First_ll.tail = node2"
   ]
  },
  {
   "cell_type": "markdown",
   "id": "6f16cfc9",
   "metadata": {},
   "source": [
    "###  Insertion in a single linked list"
   ]
  },
  {
   "cell_type": "code",
   "execution_count": 2,
   "id": "fca14176",
   "metadata": {},
   "outputs": [],
   "source": [
    "# !! Node class will have value & next\n",
    "# !! LinkedList class will have head & tail\n",
    "class Node:\n",
    "    def __init__(self,value = None):\n",
    "        self.value = value\n",
    "        self.next = None\n",
    "\n",
    "class SLinkedList_Insertion:\n",
    "    def __init__(self):\n",
    "        self.head = None\n",
    "        self.tail = None\n",
    "        \n",
    "    \n",
    "    def __iter__(self):\n",
    "        node = self.head\n",
    "        while node:\n",
    "            yield node\n",
    "            node = node.next\n",
    "            \n",
    "    def insertSLL(self,value,location):\n",
    "        newNode = Node(value)\n",
    "        \n",
    "        if self.head == None: # if the linked list is empty\n",
    "            self.head = newNode\n",
    "            self.tail = newNode\n",
    "        else:\n",
    "            if location == 0:#insertion at the beining of the linked list\n",
    "                newNode.next = self.head  #trick: always link the \"next of newNode\" First!!!! \n",
    "                self.head = newNode\n",
    "    \n",
    "            elif location == -1: #insertion at the end of the linkedlist\n",
    "                newNode.next = None\n",
    "                self.tail.next = newNode\n",
    "                self.tail = newNode\n",
    "    \n",
    "            else : #insertion in the middle of the linked list\n",
    "                tempNode = self.head #setting the pointer at the start of the list\n",
    "                index = 0\n",
    "                while index < location - 1:  # finds the current  \n",
    "                    tempNode  = tempNode.next\n",
    "                    index +=1\n",
    "                nextNode = tempNode.next\n",
    "                tempNode.next = newNode\n",
    "                newNode.next = nextNode\n",
    "                if tempNode == self.tail:\n",
    "                    self.tail = newNode  \n",
    "                    \n",
    "    def traverse(self):\n",
    "        \n",
    "        if self.head == None:\n",
    "            print(\" List is empty\")\n",
    "        else :\n",
    "            node = self.head\n",
    "            while node:\n",
    "                print(node.value)\n",
    "                node = node.next"
   ]
  },
  {
   "cell_type": "markdown",
   "id": "7375af54",
   "metadata": {},
   "source": []
  },
  {
   "cell_type": "code",
   "execution_count": 3,
   "id": "7dd40b9c",
   "metadata": {},
   "outputs": [],
   "source": [
    "# creating a new linkedList from scratch\n",
    "\n",
    "singlylinkedlist = SLinkedList_Insertion()\n",
    "singlylinkedlist.insertSLL(1,1)"
   ]
  },
  {
   "cell_type": "code",
   "execution_count": 4,
   "id": "73e2520a",
   "metadata": {},
   "outputs": [],
   "source": [
    "singlylinkedlist.insertSLL(2,1)"
   ]
  },
  {
   "cell_type": "code",
   "execution_count": 5,
   "id": "71998aef",
   "metadata": {},
   "outputs": [],
   "source": [
    "singlylinkedlist.insertSLL(3,1)"
   ]
  },
  {
   "cell_type": "code",
   "execution_count": 6,
   "id": "b5b0e8b3",
   "metadata": {},
   "outputs": [],
   "source": [
    "singlylinkedlist.insertSLL(4,1)"
   ]
  },
  {
   "cell_type": "code",
   "execution_count": 7,
   "id": "8f91eae6",
   "metadata": {},
   "outputs": [
    {
     "name": "stdout",
     "output_type": "stream",
     "text": [
      "[1, 4, 3, 2]\n"
     ]
    }
   ],
   "source": [
    "print([node.value for node in singlylinkedlist])"
   ]
  },
  {
   "cell_type": "code",
   "execution_count": 8,
   "id": "bb164ee6",
   "metadata": {},
   "outputs": [],
   "source": [
    "singlylinkedlist.insertSLL(19,0)"
   ]
  },
  {
   "cell_type": "code",
   "execution_count": 9,
   "id": "334bb96c",
   "metadata": {},
   "outputs": [
    {
     "name": "stdout",
     "output_type": "stream",
     "text": [
      "19\n",
      "1\n",
      "4\n",
      "3\n",
      "2\n"
     ]
    }
   ],
   "source": [
    "singlylinkedlist.traverse()"
   ]
  },
  {
   "cell_type": "code",
   "execution_count": 10,
   "id": "4b55d4f7",
   "metadata": {},
   "outputs": [],
   "source": [
    "class Node:\n",
    "    def __init__(self,value):\n",
    "        self.next = None\n",
    "        self.value = value\n",
    "        \n",
    "    \n",
    "class SingleLL2:\n",
    "    def __init__(self):\n",
    "        self.head = None\n",
    "        self.tail = None\n",
    "   \n",
    "    \"\"\" # if using print use this function\n",
    "    def __iter__(self):\n",
    "        node = self.head\n",
    "        while node:\n",
    "            yield node #creates some sort of buffer like an iterable!!\n",
    "            node = node.next #updating node\n",
    "    \"\"\"\n",
    "    \n",
    "    def Insert_SLL(self,location,value):\n",
    "        '''\n",
    "            Insert_SLL(self,location,value)\n",
    "        '''\n",
    "        \n",
    "        newNode = Node(value)\n",
    "        if self.head == None:\n",
    "            self.head = newNode\n",
    "            self.tail = newNode\n",
    "        else:\n",
    "            if location == 0:\n",
    "                newNode.next = self.head\n",
    "                self.head = newNode\n",
    "        \n",
    "            elif location == -1:\n",
    "                newNode.next = None \n",
    "                self.tail.next = newNode\n",
    "                self.tail = newNode\n",
    "            \n",
    "            else :\n",
    "                tempNode = self.head \n",
    "                index = 0\n",
    "                while index <location-1: # loc = 5 -> 0<4 : location - 1 as index starts from 0\n",
    "                    tempNode = tempNode.next # when index = 3 && 3<4 :then tempNode will contain location of Node4\n",
    "                                            # ie we will find the current node\n",
    "                    index+=1\n",
    "                nextNode = tempNode.next\n",
    "                tempNode.next = newNode\n",
    "                newNode.next = nextNode\n",
    "                if tempNode == self.tail:\n",
    "                    self.tail = newNode\n",
    "                \n",
    "                    \n",
    "                \n",
    "                \n",
    "    def traversal(self):\n",
    "        \n",
    "        if self.head == None:\n",
    "            print('List is empty')\n",
    "        else:\n",
    "            node = self.head\n",
    "            while node:\n",
    "                print(node.value,end =' ')\n",
    "                node = node.next\n",
    "                \n",
    "    def DeleteInSLL(self,location):\n",
    "        if self.head == None:\n",
    "            return \"List doesn't exist\"\n",
    "        else:\n",
    "            if location == 0:\n",
    "                if self.head == self.tail:\n",
    "                    self.head = None\n",
    "                else:\n",
    "                    self.head = self.head.next\n",
    "            elif location == -1:\n",
    "                if self.head == self.tail:\n",
    "                    self.head = None\n",
    "                else:\n",
    "                    node = self.head\n",
    "                    while node:\n",
    "                        if node.next == self.tail:\n",
    "                            break\n",
    "                        node = node.next\n",
    "                    node.next = None\n",
    "                    self.tail = node\n",
    "            else:\n",
    "                index= 0\n",
    "                tempNode = self.head\n",
    "                while index < location - 1:\n",
    "                    tempNode = tempNode.next\n",
    "                    index+=1\n",
    "                nextNode = tempNode.next\n",
    "                tempNode.next = nextNode.next"
   ]
  },
  {
   "cell_type": "code",
   "execution_count": 11,
   "id": "1a5f2dc5",
   "metadata": {},
   "outputs": [
    {
     "name": "stdout",
     "output_type": "stream",
     "text": [
      "0 1 2 3 4 5 "
     ]
    }
   ],
   "source": [
    "sll2 = SingleLL2()\n",
    "sll2.Insert_SLL(0,0)\n",
    "sll2.Insert_SLL(1,1)\n",
    "sll2.Insert_SLL(2,2)\n",
    "sll2.Insert_SLL(3,3)\n",
    "sll2.Insert_SLL(4,4)\n",
    "sll2.Insert_SLL(-1,5)\n",
    "\n",
    "#print([node.value for node in sll2])\n",
    "traverse = sll2.traversal()"
   ]
  },
  {
   "cell_type": "code",
   "execution_count": 12,
   "id": "b70a7c50",
   "metadata": {},
   "outputs": [
    {
     "name": "stdout",
     "output_type": "stream",
     "text": [
      "1 2 3 4 5 "
     ]
    }
   ],
   "source": [
    "sll2.DeleteInSLL(0)\n",
    "sll2.traversal()"
   ]
  },
  {
   "cell_type": "code",
   "execution_count": 13,
   "id": "d6387d94",
   "metadata": {},
   "outputs": [
    {
     "name": "stdout",
     "output_type": "stream",
     "text": [
      "1 2 3 4 "
     ]
    }
   ],
   "source": [
    "sll2.DeleteInSLL(-1)\n",
    "sll2.traversal()"
   ]
  },
  {
   "cell_type": "code",
   "execution_count": 14,
   "id": "5bf46900",
   "metadata": {},
   "outputs": [
    {
     "name": "stdout",
     "output_type": "stream",
     "text": [
      "1 2 4 "
     ]
    }
   ],
   "source": [
    "sll2.DeleteInSLL(2)\n",
    "sll2.traversal()"
   ]
  },
  {
   "cell_type": "markdown",
   "id": "3eb637e7",
   "metadata": {},
   "source": [
    "#  Final Single List "
   ]
  },
  {
   "cell_type": "code",
   "execution_count": 15,
   "id": "9238ffa7",
   "metadata": {},
   "outputs": [],
   "source": [
    "class Node:\n",
    "    def __init__(self,value):\n",
    "        self.next = None\n",
    "        self.value = value\n",
    "        \n",
    "class Single_Linked_List:\n",
    "    \n",
    "    def __init__(self):\n",
    "        self.head = None\n",
    "        self.tail = None\n",
    "    \n",
    "    def traverse(self):\n",
    "        if self.head is None:\n",
    "            print(\"Linked list is empty\") \n",
    "        \n",
    "        node = self.head\n",
    "        while node:\n",
    "            print(node.value,end = ' ')\n",
    "            node = node.next\n",
    "    \n",
    "    def Insert(self,location,value):\n",
    "        newNode = Node(value)\n",
    "        \n",
    "        if self.head == None:\n",
    "            self.head = newNode\n",
    "            self.tail = newNode\n",
    "        else:\n",
    "            if location == 0:\n",
    "                newNode.next = self.head\n",
    "                self.head = newNode\n",
    "            elif location == -1:\n",
    "                newNode.next = None\n",
    "                self.tail.next = newNode\n",
    "                self.tail = newNode\n",
    "            else:\n",
    "                tempNode = self.head\n",
    "                index = 0\n",
    "                while index < location - 1 :\n",
    "                    tempNode = tempNode.next\n",
    "                    index+=1\n",
    "                nextNode = tempNode.next\n",
    "                tempNode.next = newNode\n",
    "                newNode.next = nextNode\n",
    "                if tempNode == self.tail:\n",
    "                    self.tail = newNode\n",
    " \n",
    "    def SearchSLL(self,value):\n",
    "        if self.head == None:\n",
    "            return \"LL is not present\"\n",
    "        else:\n",
    "            node = self.head\n",
    "            while node:\n",
    "                if node.value == value:\n",
    "                    return node.value\n",
    "                node = node.next\n",
    "            return \"Value is not present in this list\"\n",
    "                    \n",
    "    def DeleteinSLL(self,location):\n",
    "        if self.head is None:\n",
    "            return \" SLL doesnot exist\"\n",
    "        \n",
    "        else:\n",
    "            if location == 0:\n",
    "                if self.head ==self.tail:#only one node is present\n",
    "                    self.head = None\n",
    "                    self.tail = None\n",
    "                else:\n",
    "                    self.head = self.head.next\n",
    "            \n",
    "            elif location == -1:\n",
    "                if self.head ==self.tail:#only one node is present\n",
    "                    self.head = None\n",
    "                    self.tail = None\n",
    "                else:\n",
    "                    node = self.head\n",
    "                    while node:\n",
    "                        if node.next == self.tail:\n",
    "                            break\n",
    "                        node = node.next\n",
    "                    node.next = None\n",
    "                    self.tail = node\n",
    "            else:\n",
    "                index = 0\n",
    "                tempNode = self.head\n",
    "                while index < location - 1:\n",
    "                    tempNode = tempNode.next\n",
    "                    index+=1\n",
    "                nextNode = tempNode.next \n",
    "                tempNode.next = nextNode.next \n",
    "\n",
    "    def DeleteCLL(self):\n",
    "        if self.head is None:\n",
    "            return \"SLL does not exist\"\n",
    "        else :\n",
    "            self.head = None\n",
    "            self.tail = None"
   ]
  },
  {
   "cell_type": "code",
   "execution_count": 16,
   "id": "6eafb9df",
   "metadata": {},
   "outputs": [],
   "source": [
    "SLL = Single_Linked_List()\n",
    "SLL.Insert(0,1)\n",
    "SLL.Insert(-1,5)\n",
    "SLL.Insert(1,2)\n",
    "SLL.Insert(2,3)\n",
    "SLL.Insert(3,4)"
   ]
  },
  {
   "cell_type": "code",
   "execution_count": 17,
   "id": "d4b2def6",
   "metadata": {},
   "outputs": [
    {
     "name": "stdout",
     "output_type": "stream",
     "text": [
      "1 2 3 4 5 "
     ]
    }
   ],
   "source": [
    "SLL.traverse()"
   ]
  },
  {
   "cell_type": "code",
   "execution_count": 18,
   "id": "ec4354f2",
   "metadata": {},
   "outputs": [
    {
     "data": {
      "text/plain": [
       "4"
      ]
     },
     "execution_count": 18,
     "metadata": {},
     "output_type": "execute_result"
    }
   ],
   "source": [
    "SLL.SearchSLL(4)"
   ]
  },
  {
   "cell_type": "code",
   "execution_count": 19,
   "id": "07fc81bc",
   "metadata": {},
   "outputs": [
    {
     "name": "stdout",
     "output_type": "stream",
     "text": [
      "2 3 4 5 "
     ]
    }
   ],
   "source": [
    "SLL.DeleteinSLL(0)\n",
    "SLL.traverse()"
   ]
  },
  {
   "cell_type": "code",
   "execution_count": 20,
   "id": "8ee5922f",
   "metadata": {},
   "outputs": [
    {
     "name": "stdout",
     "output_type": "stream",
     "text": [
      "2 3 4 "
     ]
    }
   ],
   "source": [
    "SLL.DeleteinSLL(-1)\n",
    "SLL.traverse()"
   ]
  },
  {
   "cell_type": "code",
   "execution_count": 21,
   "id": "30ef39fd",
   "metadata": {},
   "outputs": [],
   "source": [
    "# practice\n",
    "\n",
    "class Node:\n",
    "    def __init__(self,value):\n",
    "        self.next = None\n",
    "        self.value = value\n",
    "\n",
    "class SINGLE_LL:\n",
    "    \n",
    "    def __init__(self):\n",
    "        self.head = None\n",
    "        self.tail = None\n",
    "    \n",
    "    def traverse(self):\n",
    "        if self.head == None:\n",
    "            print('Empty list')\n",
    "        else:\n",
    "            node = self.head\n",
    "            while node:\n",
    "                print(node.value,end = ' ')\n",
    "                node =node.next\n",
    "    \n",
    "    def Insert(self,location,value):\n",
    "        newNode = Node(value)\n",
    "        if self.head == None:\n",
    "            self.head = newNode\n",
    "            self.tail = newNode\n",
    "        else:\n",
    "            if location == 0:\n",
    "                newNode.next = self.head\n",
    "                self.head = newNode\n",
    "            \n",
    "            elif location == -1:\n",
    "                newNode.next = None\n",
    "                self.tail.next = newNode\n",
    "                self.tail = newNode\n",
    "            \n",
    "            else :\n",
    "                tempNode = self.head\n",
    "                index = 0\n",
    "                while index < location-1:\n",
    "                    tempNode = tempNode.next\n",
    "                    index = index+1\n",
    "                nextNode = tempNode.next\n",
    "                tempNode.next = newNode\n",
    "                newNode.next = nextNode\n",
    "                if tempNode == self.tail:\n",
    "                    self.tail = newNode\n",
    "    \n",
    "    def search_ll(self,value):\n",
    "        if self.head == None:\n",
    "            return \"empty\"\n",
    "        node = self.head\n",
    "        while node:\n",
    "            if value == node.value:\n",
    "                return node.value\n",
    "            node = node.next\n",
    "        return \" value not present\"\n",
    "    \n",
    "    def deletesll(self,location):\n",
    "        if self.head == None:\n",
    "            return \"empty list\"\n",
    "        else:\n",
    "            if location == 0:\n",
    "                if self.head == self.tail:\n",
    "                    self.head = None\n",
    "                    self.tail = None\n",
    "                else:\n",
    "                    self.head = self.head.next\n",
    "            if location == -1:\n",
    "                if self.head == self.tail:\n",
    "                    self.head = None\n",
    "                else:\n",
    "                    node = self.head\n",
    "                    while node:\n",
    "                        if node.next == self.tail:\n",
    "                            break\n",
    "                        node = node.next\n",
    "                    node.next = None\n",
    "                    self.tail = node\n",
    "            else:\n",
    "                index= 0\n",
    "                tempNode = self.head\n",
    "                while index < location - 1:\n",
    "                    tempNode = tempNode.next\n",
    "                    index+=1\n",
    "                nextNode = tempNode.next\n",
    "                tempNode.next = nextNode.next"
   ]
  },
  {
   "cell_type": "code",
   "execution_count": 22,
   "id": "6ac53f1d",
   "metadata": {},
   "outputs": [],
   "source": [
    "sll = SINGLE_LL()\n",
    "sll.Insert(0,1)\n",
    "sll.Insert(1,2)\n",
    "sll.Insert(2,3)\n",
    "sll.Insert(3,4)\n",
    "sll.Insert(4,5)\n",
    "sll.Insert(2,3)\n",
    "sll.Insert(3,4)\n",
    "sll.Insert(4,5)\n",
    "sll.Insert(2,3)\n",
    "sll.Insert(3,4)\n",
    "sll.Insert(4,5)\n",
    "sll.Insert(-1,10)"
   ]
  },
  {
   "cell_type": "code",
   "execution_count": 23,
   "id": "4d66ce11",
   "metadata": {},
   "outputs": [
    {
     "name": "stdout",
     "output_type": "stream",
     "text": [
      "1 2 3 4 5 3 4 5 3 4 5 10 "
     ]
    }
   ],
   "source": [
    "sll.traverse()"
   ]
  },
  {
   "cell_type": "code",
   "execution_count": 24,
   "id": "08ab4015",
   "metadata": {},
   "outputs": [
    {
     "data": {
      "text/plain": [
       "3"
      ]
     },
     "execution_count": 24,
     "metadata": {},
     "output_type": "execute_result"
    }
   ],
   "source": [
    "sll.search_ll(3)"
   ]
  },
  {
   "cell_type": "code",
   "execution_count": 25,
   "id": "b7780c69",
   "metadata": {},
   "outputs": [],
   "source": [
    "sll.deletesll(2)"
   ]
  },
  {
   "cell_type": "code",
   "execution_count": 26,
   "id": "51988441",
   "metadata": {},
   "outputs": [
    {
     "name": "stdout",
     "output_type": "stream",
     "text": [
      "1 2 4 5 3 4 5 3 4 5 10 "
     ]
    }
   ],
   "source": [
    "sll.traverse()"
   ]
  },
  {
   "cell_type": "code",
   "execution_count": 27,
   "id": "9c42fa48",
   "metadata": {},
   "outputs": [],
   "source": [
    "sll.deletesll(-1)"
   ]
  },
  {
   "cell_type": "code",
   "execution_count": 28,
   "id": "2934fee6",
   "metadata": {},
   "outputs": [
    {
     "name": "stdout",
     "output_type": "stream",
     "text": [
      "1 2 4 5 3 4 5 3 4 5 "
     ]
    }
   ],
   "source": [
    "sll.traverse()"
   ]
  },
  {
   "cell_type": "code",
   "execution_count": null,
   "id": "e072039a",
   "metadata": {},
   "outputs": [],
   "source": []
  }
 ],
 "metadata": {
  "kernelspec": {
   "display_name": "Python 3",
   "language": "python",
   "name": "python3"
  },
  "language_info": {
   "codemirror_mode": {
    "name": "ipython",
    "version": 3
   },
   "file_extension": ".py",
   "mimetype": "text/x-python",
   "name": "python",
   "nbconvert_exporter": "python",
   "pygments_lexer": "ipython3",
   "version": "3.8.8"
  }
 },
 "nbformat": 4,
 "nbformat_minor": 5
}
