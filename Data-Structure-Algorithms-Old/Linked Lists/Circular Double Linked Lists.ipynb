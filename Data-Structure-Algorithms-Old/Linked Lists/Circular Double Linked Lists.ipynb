{
 "cells": [
  {
   "cell_type": "markdown",
   "id": "76c03158",
   "metadata": {},
   "source": [
    "<h1 style = 'background-color:orange;color:white;font-size:50px;text-align:center'><b>Circular Double Linked Lists</b></h1>"
   ]
  },
  {
   "cell_type": "markdown",
   "id": "89dbd659",
   "metadata": {},
   "source": [
    "<pre style= \"color:CadetBlue;background-color:#2F4F4F;font-size:15px\">\n",
    "    1. In Circular Double Linked Lists a node has a previous & next value\n",
    "    2. Last node always points to the first node of the CDLL\n",
    "    3. For iterating through the CDLL use if condition (if node == self.tail.next) to prevent inf loop\n",
    "</pre>"
   ]
  },
  {
   "cell_type": "markdown",
   "id": "90128911",
   "metadata": {},
   "source": [
    "<pre style= \"color:CadetBlue;background-color:#2F4F4F;font-size:15px\">\n",
    "    <div style = 'color:white;font-size:20px'>    Insertion logic : To insert at any given location</div>\n",
    "                #node   =  n1  n2  n3  n4  n5  n6\n",
    "                #value  =  a   b   c   d   e   f\n",
    "                #index  =  0   1   2   3   4   5\n",
    "                                       ^       \n",
    "     let say we want to insert a node at 3rd location\n",
    "     1. We need 2nd node information to insert at 3rd location\n",
    "     2. node n2.next will point to n3\n",
    "     \n",
    "     while index is less than location-1:   index will be - 0 & 1\n",
    "             tempNode = temNode.next \n",
    "             index += 1\n",
    "     \n",
    "     initially tempNode = n1\n",
    "     \n",
    "     when index == 0:\n",
    "          tempNode = tempNode.next    tempNode = n2\n",
    "\n",
    "     when index == 1:\n",
    "          tempNode = tempNode.next    tempNode = n3\n",
    "          \n",
    "     tempNode = self.head\n",
    "            at index 0 : tempNode will store  \n",
    "     \n",
    "\n",
    "</pre>"
   ]
  },
  {
   "cell_type": "code",
   "execution_count": 1,
   "id": "3294537a",
   "metadata": {},
   "outputs": [],
   "source": [
    "class Node:\n",
    "    def __init__(self,value =None):\n",
    "        self.prev = None\n",
    "        self.next = None\n",
    "        self.value = value\n",
    "\n",
    "class cdll:\n",
    "    def __init__(self):\n",
    "        self.head = None\n",
    "        self.tail = None\n",
    "    \n",
    "    def __iter__(self): # for iteration\n",
    "        node = self.head\n",
    "        while node:\n",
    "            yield node\n",
    "            node = node.next\n",
    "            if node == self.tail.next:\n",
    "                break\n",
    "                \n",
    "    def traverse(self): \n",
    "        node = self.head\n",
    "        while node:\n",
    "            print([node.value],end = ' ') \n",
    "            node = node.next\n",
    "            if node == self.tail.next:\n",
    "                break\n",
    "                \n",
    "    def revtraverse(self):\n",
    "        node = self.tail\n",
    "        while node:\n",
    "            print([node.value] ,end = ' ')\n",
    "            node = node.prev\n",
    "            if node == self.head.prev:\n",
    "                break\n",
    "        \n",
    "                \n",
    "    def create(self,value):\n",
    "        node = Node(value)\n",
    "        self.head = node\n",
    "        self.tail = node\n",
    "        node.next = node\n",
    "        node.prev = node\n",
    "    \n",
    "    def insert(self,location,value):\n",
    "        if self.head == None:\n",
    "            return \"CDLL doesnot exist\"\n",
    "        else:\n",
    "            newNode = Node(value)\n",
    "            if location == 0:\n",
    "                newNode.next = self.head\n",
    "                self.head.prev = newNode\n",
    "                self.head = newNode\n",
    "                self.tail.next = newNode\n",
    "                newNode.prev = self.tail\n",
    "            \n",
    "            elif location == -1:\n",
    "                newNode.next = self.head\n",
    "                newNode.prev = self.tail\n",
    "                self.tail.next = newNode\n",
    "                self.tail = newNode\n",
    "                self.head.prev = newNode\n",
    "                                        #tempNode =   t  t\n",
    "            else :                      #value  =  a  b  c  d  e  f\n",
    "                index = 0               #index  =  0  1  2  3  4  5\n",
    "                tempNode = self.head    #                  ^\n",
    "                while index < location -1 :#   0<2 1<2 #0 1  location = 3\n",
    "                    tempNode = tempNode.next#   b   c\n",
    "                    index += 1\n",
    "                nextNode = tempNode.next\n",
    "                newNode.next = nextNode\n",
    "                tempNode.next = newNode\n",
    "                newNode.prev = tempNode\n",
    "                nextNode.prev = newNode\n",
    "    \n",
    "cdll = cdll()"
   ]
  },
  {
   "cell_type": "code",
   "execution_count": 2,
   "id": "6a7a200c",
   "metadata": {},
   "outputs": [
    {
     "name": "stdout",
     "output_type": "stream",
     "text": [
      "[100] "
     ]
    }
   ],
   "source": [
    "cdll.create(100)\n",
    "cdll.traverse()"
   ]
  },
  {
   "cell_type": "code",
   "execution_count": 3,
   "id": "eb75bb9a",
   "metadata": {},
   "outputs": [
    {
     "name": "stdout",
     "output_type": "stream",
     "text": [
      "[1] [2] [3] [4] [5] [100] [200] "
     ]
    }
   ],
   "source": [
    "cdll.insert(0,1)\n",
    "cdll.insert(1,2)\n",
    "cdll.insert(2,3)\n",
    "cdll.insert(3,4)\n",
    "cdll.insert(4,5)\n",
    "cdll.insert(-1,200)\n",
    "\n",
    "cdll.traverse()"
   ]
  },
  {
   "cell_type": "code",
   "execution_count": 4,
   "id": "8016c3c5",
   "metadata": {},
   "outputs": [
    {
     "name": "stdout",
     "output_type": "stream",
     "text": [
      "[200] [100] [5] [4] [3] [2] [1] "
     ]
    }
   ],
   "source": [
    "cdll.revtraverse()"
   ]
  },
  {
   "cell_type": "code",
   "execution_count": 5,
   "id": "d26f830c",
   "metadata": {},
   "outputs": [],
   "source": [
    "class Node:\n",
    "    def __init__(self,value):\n",
    "        self.next = None\n",
    "        self.prev = None\n",
    "        self.value = value\n",
    "\n",
    "class cdll2 :\n",
    "    def __init__(self):\n",
    "        self.head = None\n",
    "        self.tail = None\n",
    "    \n",
    "    def create(self,value):\n",
    "        newNode = Node(value)\n",
    "        self.head = newNode\n",
    "        self.tail = newNode\n",
    "        newNode.next = newNode\n",
    "        newNode.prev = newNode\n",
    "        \n",
    "    def traverse(self):\n",
    "        if self.head == None:\n",
    "            return \"Empty list\"\n",
    "        else: \n",
    "            node = self.head\n",
    "            while node:\n",
    "                print([node.value],end = ' ')\n",
    "                node = node.next\n",
    "                if node == self.tail.next:\n",
    "                    break\n",
    "    \n",
    "    def rev_traverse(self):\n",
    "        if self.head == None:\n",
    "            print('Empty list')\n",
    "        else:\n",
    "            node = self.tail\n",
    "            while node :\n",
    "                print([node.value],end=' ')\n",
    "                node = node.prev\n",
    "                if node == self.head.prev:\n",
    "                    break\n",
    "                    \n",
    "    def search(self,value):\n",
    "        node = self.head\n",
    "        while node:\n",
    "            if node.value == value:\n",
    "                return node.value\n",
    "            if node == self.tail:\n",
    "                return \"value not found\"\n",
    "            node = node.next\n",
    "        \n",
    "    def insert(self,location,value):\n",
    "        if self.head == None:\n",
    "            print('Enpty list')\n",
    "        else:\n",
    "            newNode = Node(value)\n",
    "            if location == 0:\n",
    "                newNode.next = self.head\n",
    "                self.head.prev = newNode\n",
    "                self.head = newNode\n",
    "                newNode.prev = self.tail\n",
    "                self.tail.next = newNode\n",
    "            \n",
    "            elif location == -1:\n",
    "                newNode.next = self.head\n",
    "                newNode.prev = self.tail\n",
    "                self.tail.next = newNode\n",
    "                self.head.prev = newNode\n",
    "                self.tail = newNode\n",
    "                \n",
    "            else:\n",
    "                index = 0\n",
    "                tempNode = self.head\n",
    "                while index<location-1:\n",
    "                    tempNode = tempNode.next\n",
    "                    index+=1\n",
    "                nextNode = tempNode.next\n",
    "                newNode.next = nextNode\n",
    "                newNode.prev = tempNode\n",
    "                tempNode.next = newNode\n",
    "                nextNode.prev = newNode                \n",
    "    \n",
    "        \n",
    "    def delete(self,location):\n",
    "        if self.head == None:\n",
    "            print('List is empty')\n",
    "        else:\n",
    "            if location == 0:\n",
    "                if self.head == self.tail:\n",
    "                    self.head.next = None\n",
    "                    self.tail.prev = None\n",
    "                    self.head = None\n",
    "                    self.tail = None\n",
    "                else:\n",
    "                    self.head = self.head.next\n",
    "                    self.tail.next = self.head\n",
    "                    self.head.prev = self.tail\n",
    "                    self.traverse()\n",
    "            \n",
    "            elif location == -1:\n",
    "                if self.head == self.tail:\n",
    "                    self.head.next = None\n",
    "                    self.head.prev = None\n",
    "                    self.head = None\n",
    "                    self.tail = None\n",
    "                else:\n",
    "                    self.tail = self.tail.prev\n",
    "                    self.tail.next = self.head\n",
    "                    self.head.prev = self.tail\n",
    "                    self.traverse()\n",
    "            else:\n",
    "                index = 0\n",
    "                curNode = self.head\n",
    "                while index<location-1:\n",
    "                    curNode = curNode.next\n",
    "                    index+=1\n",
    "                curNode.next = curNode.next.next\n",
    "                curNode.next.prev = curNode\n",
    "                self.traverse()\n",
    "    \n",
    "    def deleteCDLL(self):\n",
    "        if self.head == None:\n",
    "            print('Empty list')\n",
    "        else:\n",
    "            node = self.head\n",
    "            self.tail.next = None\n",
    "            while node:\n",
    "                node.prev = None\n",
    "                node = node.next\n",
    "            self.head = None\n",
    "            self.tail = None\n",
    "            \n",
    "cll2 = cdll2()"
   ]
  },
  {
   "cell_type": "code",
   "execution_count": 6,
   "id": "8ce807d4",
   "metadata": {},
   "outputs": [
    {
     "name": "stdout",
     "output_type": "stream",
     "text": [
      "[100] "
     ]
    }
   ],
   "source": [
    "cll2.create(100)\n",
    "cll2.traverse()"
   ]
  },
  {
   "cell_type": "code",
   "execution_count": 7,
   "id": "dea5fb7f",
   "metadata": {},
   "outputs": [
    {
     "name": "stdout",
     "output_type": "stream",
     "text": [
      "[0] [1] [2] [3] [4] [5] [100] [200] "
     ]
    }
   ],
   "source": [
    "cll2.insert(0,0)\n",
    "cll2.insert(1,1)\n",
    "cll2.insert(2,2)\n",
    "cll2.insert(3,3)\n",
    "cll2.insert(4,4)\n",
    "cll2.insert(5,5)\n",
    "cll2.insert(-1,200)\n",
    "cll2.traverse()"
   ]
  },
  {
   "cell_type": "code",
   "execution_count": 8,
   "id": "0caf1446",
   "metadata": {},
   "outputs": [
    {
     "name": "stdout",
     "output_type": "stream",
     "text": [
      "[200] [100] [5] [4] [3] [2] [1] [0] "
     ]
    }
   ],
   "source": [
    "cll2.rev_traverse()"
   ]
  },
  {
   "cell_type": "code",
   "execution_count": 9,
   "id": "f7d8d6b4",
   "metadata": {},
   "outputs": [
    {
     "data": {
      "text/plain": [
       "100"
      ]
     },
     "execution_count": 9,
     "metadata": {},
     "output_type": "execute_result"
    }
   ],
   "source": [
    "cll2.search(100)"
   ]
  },
  {
   "cell_type": "code",
   "execution_count": 10,
   "id": "2ec57053",
   "metadata": {},
   "outputs": [
    {
     "name": "stdout",
     "output_type": "stream",
     "text": [
      "[1] [2] [3] [4] [5] [100] [200] "
     ]
    }
   ],
   "source": [
    "cll2.delete(0)"
   ]
  },
  {
   "cell_type": "code",
   "execution_count": 11,
   "id": "db6b0c75",
   "metadata": {},
   "outputs": [
    {
     "name": "stdout",
     "output_type": "stream",
     "text": [
      "[1] [2] [3] [4] [5] [100] "
     ]
    }
   ],
   "source": [
    "cll2.delete(-1)"
   ]
  },
  {
   "cell_type": "code",
   "execution_count": 12,
   "id": "8b251d23",
   "metadata": {},
   "outputs": [],
   "source": [
    "cll2.deleteCDLL()"
   ]
  },
  {
   "cell_type": "code",
   "execution_count": 13,
   "id": "4ccf48e7",
   "metadata": {},
   "outputs": [
    {
     "data": {
      "text/plain": [
       "'Empty list'"
      ]
     },
     "execution_count": 13,
     "metadata": {},
     "output_type": "execute_result"
    }
   ],
   "source": [
    "cll2.traverse()"
   ]
  },
  {
   "cell_type": "code",
   "execution_count": null,
   "id": "b3289730",
   "metadata": {},
   "outputs": [],
   "source": []
  }
 ],
 "metadata": {
  "kernelspec": {
   "display_name": "Python 3",
   "language": "python",
   "name": "python3"
  },
  "language_info": {
   "codemirror_mode": {
    "name": "ipython",
    "version": 3
   },
   "file_extension": ".py",
   "mimetype": "text/x-python",
   "name": "python",
   "nbconvert_exporter": "python",
   "pygments_lexer": "ipython3",
   "version": "3.8.8"
  }
 },
 "nbformat": 4,
 "nbformat_minor": 5
}
