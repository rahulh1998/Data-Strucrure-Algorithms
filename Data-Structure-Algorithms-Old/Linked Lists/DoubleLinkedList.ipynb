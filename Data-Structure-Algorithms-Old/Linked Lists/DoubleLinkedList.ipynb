{
 "cells": [
  {
   "cell_type": "markdown",
   "id": "59195126",
   "metadata": {},
   "source": [
    "# Double Linked list"
   ]
  },
  {
   "cell_type": "code",
   "execution_count": 1,
   "id": "974c9c36",
   "metadata": {},
   "outputs": [],
   "source": [
    "# tempNode in insertion means current node"
   ]
  },
  {
   "cell_type": "code",
   "execution_count": 2,
   "id": "b0a05ba5",
   "metadata": {},
   "outputs": [],
   "source": [
    "class Node:\n",
    "    def __init__(self,value = None):\n",
    "        self.prev = None\n",
    "        self.next = None\n",
    "        self.value = value\n",
    "class DLL:\n",
    "    def __init__(self):\n",
    "        self.head = None\n",
    "        self.tail = None\n",
    "    \n",
    "    def createDll(self,value):\n",
    "        node = Node(value)\n",
    "        self.head = node\n",
    "        self.tail = node\n",
    "        \n",
    "    def traverse(self):\n",
    "        if self.head is None:\n",
    "            print('Empty list')\n",
    "        node = self.head\n",
    "        while node:\n",
    "            print([node.value], end = ' ')\n",
    "            node = node.next\n",
    "            \n",
    "    def rev_traverse(self):\n",
    "        if self.head == None:\n",
    "            return \"No node present\"\n",
    "        node = self.tail\n",
    "        while node :\n",
    "            print([node.value], end = ' ')\n",
    "            node = node.prev    \n",
    "    \n",
    "    def insert(self,location,value):\n",
    "        if self.head == None:\n",
    "            return \"Empty list\"\n",
    "        else:\n",
    "            newNode = Node(value)\n",
    "            if location == 0:\n",
    "                newNode.prev = None\n",
    "                newNode.next = self.head\n",
    "                self.head.prev = newNode\n",
    "                self.head = newNode\n",
    "            \n",
    "            elif location == -1:\n",
    "                newNode.next = None\n",
    "                newNode.prev = self.tail\n",
    "                self.tail.next = newNode\n",
    "                self.tail = newNode\n",
    "            \n",
    "            else:\n",
    "                tempNode = self.head\n",
    "                index = 0\n",
    "                while index < location -1:\n",
    "                    tempNode = tempNode.next\n",
    "                    index+=1\n",
    "                nextNode = tempNode.next\n",
    "                tempNode.next = newNode\n",
    "                newNode.next = nextNode\n",
    "                newNode.prev = tempNode\n",
    "                nextNode.prev = newNode\n",
    "    \n",
    "    def search(self,value):\n",
    "        if self.head == None:\n",
    "            return 'List is empty'\n",
    "        node = self.head\n",
    "        i = 0\n",
    "        while node:\n",
    "            if node.value == value:\n",
    "                return node.value\n",
    "            node = node.next\n",
    "        return 'Element not found'\n",
    "    \n",
    "    def delete(self,location):\n",
    "        if self.head is None:\n",
    "            return \"List is empty\"\n",
    "        else:\n",
    "            if location == 0:\n",
    "                if self.head == self.tail:#only one node\n",
    "                    self.head = None\n",
    "                    self.tail = None\n",
    "                else:\n",
    "                    self.head = self.head.next\n",
    "                    self.prev = None\n",
    "            elif location == -1:\n",
    "                if self.head == self.tail:\n",
    "                    self.head = None\n",
    "                    self.tail = None\n",
    "                else :\n",
    "                    self.tail = self.tail.prev\n",
    "                    self.tail.next = None\n",
    "            \n",
    "            else :\n",
    "                index = 0\n",
    "                curNode = self.head #tempNode = currentNode\n",
    "                while index < location - 1:\n",
    "                    curNode = curNode.next\n",
    "                    index += 1\n",
    "                curNode.next = curNode.next.next\n",
    "                curNode.next.prev = curNode\n",
    "\n",
    "dll = DLL()"
   ]
  },
  {
   "cell_type": "code",
   "execution_count": 3,
   "id": "a116b084",
   "metadata": {},
   "outputs": [
    {
     "name": "stdout",
     "output_type": "stream",
     "text": [
      "['i'] "
     ]
    }
   ],
   "source": [
    "dll.createDll('i')\n",
    "dll.traverse()"
   ]
  },
  {
   "cell_type": "code",
   "execution_count": 4,
   "id": "408ac0db",
   "metadata": {},
   "outputs": [],
   "source": [
    "dll.insert(0,1)\n",
    "dll.insert(1,2)\n",
    "dll.insert(2,3)\n",
    "dll.insert(3,4)\n",
    "dll.insert(4,5)\n",
    "dll.insert(-1,10)\n"
   ]
  },
  {
   "cell_type": "code",
   "execution_count": 5,
   "id": "086e8542",
   "metadata": {},
   "outputs": [
    {
     "name": "stdout",
     "output_type": "stream",
     "text": [
      "[1] [2] [3] [4] [5] ['i'] [10] "
     ]
    }
   ],
   "source": [
    "dll.traverse()"
   ]
  },
  {
   "cell_type": "code",
   "execution_count": 6,
   "id": "c21f3c38",
   "metadata": {},
   "outputs": [
    {
     "name": "stdout",
     "output_type": "stream",
     "text": [
      "[10] ['i'] [5] [4] [3] [2] [1] "
     ]
    }
   ],
   "source": [
    "dll.rev_traverse()"
   ]
  },
  {
   "cell_type": "code",
   "execution_count": 7,
   "id": "07a95052",
   "metadata": {},
   "outputs": [
    {
     "data": {
      "text/plain": [
       "2"
      ]
     },
     "execution_count": 7,
     "metadata": {},
     "output_type": "execute_result"
    }
   ],
   "source": [
    "dll.search(2)"
   ]
  },
  {
   "cell_type": "code",
   "execution_count": 8,
   "id": "a1649e44",
   "metadata": {},
   "outputs": [
    {
     "data": {
      "text/plain": [
       "4"
      ]
     },
     "execution_count": 8,
     "metadata": {},
     "output_type": "execute_result"
    }
   ],
   "source": [
    "dll.search(4)"
   ]
  },
  {
   "cell_type": "code",
   "execution_count": 9,
   "id": "7713c8fb",
   "metadata": {},
   "outputs": [
    {
     "data": {
      "text/plain": [
       "'i'"
      ]
     },
     "execution_count": 9,
     "metadata": {},
     "output_type": "execute_result"
    }
   ],
   "source": [
    "dll.search('i')"
   ]
  },
  {
   "cell_type": "code",
   "execution_count": 10,
   "id": "7a84ccca",
   "metadata": {},
   "outputs": [
    {
     "name": "stdout",
     "output_type": "stream",
     "text": [
      "[1] [2] [3] [4] [5] ['i'] [10] "
     ]
    }
   ],
   "source": [
    "dll.traverse()"
   ]
  },
  {
   "cell_type": "code",
   "execution_count": 11,
   "id": "9cbc3f92",
   "metadata": {},
   "outputs": [
    {
     "name": "stdout",
     "output_type": "stream",
     "text": [
      "[2] [3] [4] [5] ['i'] [10] "
     ]
    }
   ],
   "source": [
    "dll.delete(0)\n",
    "dll.traverse()"
   ]
  },
  {
   "cell_type": "code",
   "execution_count": 12,
   "id": "3f076c8a",
   "metadata": {},
   "outputs": [
    {
     "name": "stdout",
     "output_type": "stream",
     "text": [
      "[2] [3] [4] [5] ['i'] "
     ]
    }
   ],
   "source": [
    "dll.delete(-1)\n",
    "dll.traverse()"
   ]
  },
  {
   "cell_type": "code",
   "execution_count": 13,
   "id": "dc5a2cef",
   "metadata": {},
   "outputs": [
    {
     "name": "stdout",
     "output_type": "stream",
     "text": [
      "[2] [3] [5] ['i'] "
     ]
    }
   ],
   "source": [
    "dll.delete(2)\n",
    "dll.traverse()"
   ]
  }
 ],
 "metadata": {
  "kernelspec": {
   "display_name": "Python 3",
   "language": "python",
   "name": "python3"
  },
  "language_info": {
   "codemirror_mode": {
    "name": "ipython",
    "version": 3
   },
   "file_extension": ".py",
   "mimetype": "text/x-python",
   "name": "python",
   "nbconvert_exporter": "python",
   "pygments_lexer": "ipython3",
   "version": "3.8.8"
  }
 },
 "nbformat": 4,
 "nbformat_minor": 5
}
