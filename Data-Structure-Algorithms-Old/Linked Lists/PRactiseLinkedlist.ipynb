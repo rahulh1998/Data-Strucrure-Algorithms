{
 "cells": [
  {
   "cell_type": "markdown",
   "id": "b628e06d",
   "metadata": {},
   "source": [
    "<h1 style=\"background-color:orange;color:white;font-size:50px;text-align:center\">Single Linked List</h1>"
   ]
  },
  {
   "cell_type": "code",
   "execution_count": 1,
   "id": "629f58c7",
   "metadata": {},
   "outputs": [],
   "source": [
    "class Node:\n",
    "    def __init__(self,value):\n",
    "        self.next = None\n",
    "        self.value =value"
   ]
  },
  {
   "cell_type": "code",
   "execution_count": 2,
   "id": "b71a5600",
   "metadata": {},
   "outputs": [],
   "source": [
    "class SingleLinkedList:\n",
    "    def __init__(self):\n",
    "        self.head = None\n",
    "        self.tail = None\n",
    "    \n",
    "    def create(self,value):\n",
    "        newNode = Node(value)\n",
    "        self.head = newNode\n",
    "        self.tail = newNode\n",
    "    \n",
    "    def insert(self,location,value):\n",
    "        newNode = Node(value)\n",
    "        if self.head == None:\n",
    "            print('Node cannot be inserted')\n",
    "        else:\n",
    "            if location == 0:\n",
    "                newNode.next = self.head\n",
    "                self.head = newNode\n",
    "            \n",
    "            elif location == -1:\n",
    "                newNode.next = None\n",
    "                self.tail.next = newNode\n",
    "                self.tail = newNode\n",
    "            \n",
    "            else:\n",
    "                index = 0\n",
    "                tempNode = self.head\n",
    "                while index < location -1:\n",
    "                    tempNode = tempNode.next\n",
    "                    index+=1\n",
    "                nextNode = tempNode.next\n",
    "                tempNode.next = newNode\n",
    "                newNode.next = nextNode\n",
    "                if tempNode == self.tail:\n",
    "                    self.tail = newNode\n",
    "    \n",
    "    def traverse(self):\n",
    "        node = self.head\n",
    "        while node:\n",
    "            print([node.value],end = ' ')\n",
    "            node = node.next             # only apply conditions CircularLL\n",
    "    \n",
    "    def delete(self,location):\n",
    "        if self.head is None:\n",
    "            print('Empty')\n",
    "        else:\n",
    "            if location == 0:\n",
    "                self.head = self.head.next\n",
    "            \n",
    "            elif location == -1:\n",
    "                node = self.head\n",
    "                while node:\n",
    "                    if node.next == self.tail:\n",
    "                        break\n",
    "                    node = node.next\n",
    "                node.next = None\n",
    "                self.tail = Node\n",
    "            \n",
    "            else:\n",
    "                index = 0\n",
    "                tempNode = self.head\n",
    "                while index < location -1:\n",
    "                    tempNode = tempNode.next\n",
    "                    index+=1\n",
    "                nextNode = tempNode.next\n",
    "                tempNode.next = nextNode.next"
   ]
  },
  {
   "cell_type": "code",
   "execution_count": 3,
   "id": "2a0eb064",
   "metadata": {},
   "outputs": [
    {
     "name": "stdout",
     "output_type": "stream",
     "text": [
      "[0] [1] [2] [3] [4] [10] [100] "
     ]
    }
   ],
   "source": [
    "sll = SingleLinkedList()\n",
    "sll.create(10)\n",
    "sll.insert(0,0)\n",
    "sll.insert(1,1)\n",
    "sll.insert(2,2)\n",
    "sll.insert(3,3)\n",
    "sll.insert(4,4)\n",
    "sll.insert(-1,100)\n",
    "sll.traverse()"
   ]
  },
  {
   "cell_type": "code",
   "execution_count": 4,
   "id": "a25e811a",
   "metadata": {},
   "outputs": [
    {
     "name": "stdout",
     "output_type": "stream",
     "text": [
      "[1] [3] [4] [10] "
     ]
    }
   ],
   "source": [
    "sll.delete(0)\n",
    "sll.delete(1)\n",
    "sll.delete(-1)\n",
    "sll.traverse()"
   ]
  },
  {
   "cell_type": "markdown",
   "id": "0d828596",
   "metadata": {},
   "source": [
    "<h1 style=\"background-color:orange;color:white;font-size:50px;text-align:center\">Circular Single Linked List</h1>"
   ]
  },
  {
   "cell_type": "code",
   "execution_count": 5,
   "id": "5ebd7a84",
   "metadata": {},
   "outputs": [],
   "source": [
    "# here last node next value points towards head"
   ]
  },
  {
   "cell_type": "code",
   "execution_count": 6,
   "id": "8330bc6b",
   "metadata": {},
   "outputs": [],
   "source": [
    "class CircularSingleLinkedList:\n",
    "    def __init__(self):\n",
    "        self.head = None\n",
    "        self.tail = None\n",
    "    \n",
    "    def traverse(self):\n",
    "        if self.head == None:\n",
    "            print(\"Node cannot be inserted\")\n",
    "        else:\n",
    "            node = self.head\n",
    "            while node:\n",
    "                print([node.value],end = ' ')\n",
    "                node = node.next\n",
    "                if node == self.tail.next:\n",
    "                    break\n",
    "    \n",
    "    def create(self,value):\n",
    "        newNode = Node(value)\n",
    "        self.head = newNode\n",
    "        self.tail = newNode\n",
    "    \n",
    "    def insert(self,location,value):\n",
    "        newNode = Node(value)\n",
    "        \n",
    "        if self.head == None:\n",
    "            self.head = newNode\n",
    "            self.tail = newNode\n",
    "        else:\n",
    "            if location == 0:\n",
    "                newNode.next = self.head\n",
    "                self.head = newNode\n",
    "                \n",
    "            elif location == -1:\n",
    "                newNode.next = self.tail.next\n",
    "                self.tail.next = newNode\n",
    "                self.tail = newNode\n",
    "            \n",
    "            else:\n",
    "                index = 0\n",
    "                tempNode = self.head\n",
    "                while index < location -1:\n",
    "                    tempNode = tempNode.next\n",
    "                    index+=1\n",
    "                nextNode = tempNode.next\n",
    "                tempNode.next = newNode\n",
    "                newNode.next = nextNode\n",
    "                \n",
    "    def delete(self,location):\n",
    "        if self.head == None:\n",
    "            print(\"Empty\")\n",
    "        else:\n",
    "            if location == 0:\n",
    "                if self.head == self.tail:\n",
    "                    self.head = None\n",
    "                    self.tail = None\n",
    "                else :\n",
    "                    self.head = self.head.next\n",
    "            \n",
    "            elif location == -1:\n",
    "                node = self.head\n",
    "                while node:\n",
    "                    if node.next== self.tail:\n",
    "                        break\n",
    "                    node = node.next\n",
    "                node.next = self.head\n",
    "                self.tail = node\n",
    "            \n",
    "            else:\n",
    "                index = 0\n",
    "                tempNode = self.head\n",
    "                while index < location -1:\n",
    "                    tempNode = tempNode.next\n",
    "                    index+=1\n",
    "                nextNode = tempNode.next\n",
    "                tempNode.next = nextNode.next\n",
    "\n",
    "csll = CircularSingleLinkedList()"
   ]
  },
  {
   "cell_type": "code",
   "execution_count": 7,
   "id": "13169b7b",
   "metadata": {},
   "outputs": [
    {
     "name": "stdout",
     "output_type": "stream",
     "text": [
      "[0] [1] [2] [3] [4] [5] [6] [10] [100] "
     ]
    }
   ],
   "source": [
    "csll.create(10)\n",
    "csll.insert(0,0)\n",
    "csll.insert(1,1)\n",
    "csll.insert(2,2)\n",
    "csll.insert(3,3)\n",
    "csll.insert(4,4)\n",
    "csll.insert(5,5)\n",
    "csll.insert(6,6)\n",
    "csll.insert(-1,100)\n",
    "csll.traverse()"
   ]
  },
  {
   "cell_type": "code",
   "execution_count": 8,
   "id": "dce87d4d",
   "metadata": {},
   "outputs": [
    {
     "name": "stdout",
     "output_type": "stream",
     "text": [
      "[1] [3] [5] [6] [10] "
     ]
    }
   ],
   "source": [
    "csll.delete(0)\n",
    "csll.delete(1)\n",
    "csll.delete(2)\n",
    "csll.delete(-1)\n",
    "csll.traverse()"
   ]
  },
  {
   "cell_type": "markdown",
   "id": "86a334a9",
   "metadata": {},
   "source": [
    "<h1 style=\"background-color:orange;color:white;font-size:50px;text-align:center\">Doubly Linked List</h1>"
   ]
  },
  {
   "cell_type": "code",
   "execution_count": 9,
   "id": "5b84a4e4",
   "metadata": {},
   "outputs": [],
   "source": [
    "# first node prev & last node next is none"
   ]
  },
  {
   "cell_type": "code",
   "execution_count": 10,
   "id": "fcdadddf",
   "metadata": {},
   "outputs": [
    {
     "name": "stdout",
     "output_type": "stream",
     "text": [
      "[0] [1] [2] [3] [4] [5] [6] [10] "
     ]
    }
   ],
   "source": [
    "class Node:\n",
    "    def __init__(self,value):\n",
    "        self.next = None\n",
    "        self.prev = None\n",
    "        self.value = value\n",
    "        \n",
    "class DoublyLinkedList:\n",
    "    def __init__(self):\n",
    "        self.head = None\n",
    "        self.tail = None\n",
    "    \n",
    "    def traverse(self):\n",
    "        node = self.head\n",
    "        while node:\n",
    "            print([node.value], end = ' ')\n",
    "            node = node.next\n",
    "            \n",
    "    def create(self,value):\n",
    "        newNode = Node(value)\n",
    "        self.head = newNode\n",
    "        self.tail = newNode\n",
    "        newNode.prev = None\n",
    "        \n",
    "    def insert(self,location,value):\n",
    "        newNode = Node(value)\n",
    "        \n",
    "        if self.head == None:\n",
    "            print('Node cannot be inserted')\n",
    "        else:\n",
    "            if location == 0:\n",
    "                newNode.prev = None\n",
    "                newNode.next = self.head\n",
    "                self.head.prev = newNode\n",
    "                self.head = newNode\n",
    "                \n",
    "            elif location == -1:\n",
    "                newNode.next = None\n",
    "                self.tail.next = newNode\n",
    "                newNode.prev = self.tail\n",
    "                self.tail = newNode\n",
    "            \n",
    "            else:\n",
    "                index = 0\n",
    "                tempNode = self.head\n",
    "                while index < location -1:\n",
    "                    tempNode = tempNode.next\n",
    "                    index+=1\n",
    "                nextNode = tempNode.next\n",
    "                tempNode.next = newNode\n",
    "                newNode.prev = tempNode\n",
    "                newNode.next = nextNode\n",
    "                nextNode.prev = newNode\n",
    "    \n",
    "    def rev_traverse(self):\n",
    "        node = self.tail\n",
    "        while node:\n",
    "            print([node.value],end = ' ')\n",
    "            node = node.prev\n",
    "            \n",
    "    def search(self,value):\n",
    "        node = self.head\n",
    "        while node:\n",
    "            if node.value== value:\n",
    "                return node.value\n",
    "            node = node.next\n",
    "        return \"Not present\"   \n",
    "    \n",
    "    def delete(self,location):\n",
    "        if self.head == None:\n",
    "            return \"List is empty\"\n",
    "        else:\n",
    "            if location == 0:\n",
    "                if self.head == self.tail:\n",
    "                    self.head = None\n",
    "                    self.tail = None\n",
    "                else:\n",
    "                    self.head = self.head.next\n",
    "                    self.prev = None\n",
    "                \n",
    "            elif location == -1:\n",
    "                if self.head == self.tail:\n",
    "                    self.head = None\n",
    "                    self.tail = None\n",
    "                else:\n",
    "                    self.tail = self.tail.prev\n",
    "                    self.tail.next = None\n",
    "            else:\n",
    "                index = 0\n",
    "                tempNode = self.head\n",
    "                while index < location -1:\n",
    "                    tempNode = tempNode.next\n",
    "                    index+=1\n",
    "                nextNode = tempNode.next\n",
    "                tempNode.next = nextNode.next\n",
    "                \n",
    "dll = DoublyLinkedList()\n",
    "\n",
    "dll.create(6)\n",
    "dll.insert(0,0)\n",
    "dll.insert(1,1)\n",
    "dll.insert(2,2)\n",
    "dll.insert(3,3)\n",
    "dll.insert(4,4)\n",
    "dll.insert(5,5)\n",
    "dll.insert(-1,10)\n",
    "\n",
    "dll.traverse()"
   ]
  },
  {
   "cell_type": "code",
   "execution_count": 11,
   "id": "eb559571",
   "metadata": {},
   "outputs": [
    {
     "name": "stdout",
     "output_type": "stream",
     "text": [
      "[10] [6] [5] [4] [3] [2] [1] [0] "
     ]
    }
   ],
   "source": [
    "dll.rev_traverse()"
   ]
  },
  {
   "cell_type": "code",
   "execution_count": 12,
   "id": "ebf5c647",
   "metadata": {},
   "outputs": [
    {
     "data": {
      "text/plain": [
       "1"
      ]
     },
     "execution_count": 12,
     "metadata": {},
     "output_type": "execute_result"
    }
   ],
   "source": [
    "dll.search(1)"
   ]
  },
  {
   "cell_type": "code",
   "execution_count": 13,
   "id": "4b333f2d",
   "metadata": {},
   "outputs": [
    {
     "data": {
      "text/plain": [
       "'Not present'"
      ]
     },
     "execution_count": 13,
     "metadata": {},
     "output_type": "execute_result"
    }
   ],
   "source": [
    "dll.search(11)"
   ]
  },
  {
   "cell_type": "code",
   "execution_count": 14,
   "id": "e689210b",
   "metadata": {},
   "outputs": [
    {
     "name": "stdout",
     "output_type": "stream",
     "text": [
      "[1] [2] [4] [5] [6] "
     ]
    }
   ],
   "source": [
    "dll.delete(0)\n",
    "dll.delete(2)\n",
    "dll.delete(-1)\n",
    "dll.traverse()"
   ]
  },
  {
   "cell_type": "markdown",
   "id": "e86940b6",
   "metadata": {},
   "source": [
    "<h1 style=\"background-color:orange;color:white;font-size:50px;text-align:center\">Circular Doubly Linked List</h1>"
   ]
  }
 ],
 "metadata": {
  "kernelspec": {
   "display_name": "Python 3",
   "language": "python",
   "name": "python3"
  },
  "language_info": {
   "codemirror_mode": {
    "name": "ipython",
    "version": 3
   },
   "file_extension": ".py",
   "mimetype": "text/x-python",
   "name": "python",
   "nbconvert_exporter": "python",
   "pygments_lexer": "ipython3",
   "version": "3.8.8"
  }
 },
 "nbformat": 4,
 "nbformat_minor": 5
}
