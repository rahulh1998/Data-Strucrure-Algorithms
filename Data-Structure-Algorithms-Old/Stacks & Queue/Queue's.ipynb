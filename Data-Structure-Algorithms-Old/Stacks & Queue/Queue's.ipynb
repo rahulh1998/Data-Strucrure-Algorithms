{
 "cells": [
  {
   "cell_type": "code",
   "execution_count": 1,
   "id": "97e37a54",
   "metadata": {},
   "outputs": [],
   "source": [
    "# Queue uses FIFO Method\n",
    "# Insertion & deletion are called as enque & deque resp.\n",
    "# First element Inserted will get Out First"
   ]
  },
  {
   "cell_type": "code",
   "execution_count": 2,
   "id": "7a74ba61",
   "metadata": {},
   "outputs": [
    {
     "data": {
      "text/plain": [
       "True"
      ]
     },
     "execution_count": 2,
     "metadata": {},
     "output_type": "execute_result"
    }
   ],
   "source": [
    "# Queue using Python Lists\n",
    "\n",
    "class LIST_QUEUE:\n",
    "    def __init__(self):\n",
    "        self.list = []\n",
    "    \n",
    "    def display(self):\n",
    "        val = [print(str(x)) for x in self.list]\n",
    "               \n",
    "    def isEmpty(self):\n",
    "        if len(self.list) == 0:\n",
    "            return True\n",
    "        else:\n",
    "            return False\n",
    "    \n",
    "    def peek(self):\n",
    "        return self.list[0]\n",
    "    \n",
    "    def enque(self,value):\n",
    "        return self.list.append(value)\n",
    "    \n",
    "    def deque(self):\n",
    "        return self.list.pop(0)\n",
    "        \n",
    "    \n",
    "lq = LIST_QUEUE()\n",
    "lq.isEmpty()"
   ]
  },
  {
   "cell_type": "code",
   "execution_count": 3,
   "id": "f19bc667",
   "metadata": {},
   "outputs": [],
   "source": [
    "lq.enque(1)\n",
    "lq.enque(2)\n",
    "lq.enque(3)"
   ]
  },
  {
   "cell_type": "code",
   "execution_count": 4,
   "id": "f5e8becc",
   "metadata": {},
   "outputs": [
    {
     "name": "stdout",
     "output_type": "stream",
     "text": [
      "1\n",
      "2\n",
      "3\n"
     ]
    }
   ],
   "source": [
    "lq.display()"
   ]
  },
  {
   "cell_type": "code",
   "execution_count": 5,
   "id": "05f3fdbe",
   "metadata": {},
   "outputs": [
    {
     "data": {
      "text/plain": [
       "1"
      ]
     },
     "execution_count": 5,
     "metadata": {},
     "output_type": "execute_result"
    }
   ],
   "source": [
    "lq.deque()"
   ]
  },
  {
   "cell_type": "code",
   "execution_count": 6,
   "id": "18ab6ad6",
   "metadata": {},
   "outputs": [
    {
     "data": {
      "text/plain": [
       "2"
      ]
     },
     "execution_count": 6,
     "metadata": {},
     "output_type": "execute_result"
    }
   ],
   "source": [
    "lq.peek()"
   ]
  },
  {
   "cell_type": "code",
   "execution_count": 7,
   "id": "60e38c18",
   "metadata": {},
   "outputs": [],
   "source": [
    "# Queues\n",
    "\n",
    "class Node:\n",
    "    def __init__(self,value):\n",
    "        self.value = value\n",
    "        self.next = None\n",
    "\n",
    "class Queue: #FIFO\n",
    "    def __init__(self):\n",
    "        self.head = None\n",
    "        self.tail = None\n",
    "    \n",
    "    def isEmpty(self):\n",
    "        if self.head == None:\n",
    "            return True\n",
    "        else:\n",
    "            return False\n",
    "    \n",
    "    def enqueue(self,value):\n",
    "        newNode = Node(value)\n",
    "        if self.isEmpty():\n",
    "            self.head = newNode\n",
    "            self.tail = newNode\n",
    "        else:\n",
    "            self.tail.next = newNode\n",
    "            self.tail = newNode\n",
    "        \n",
    "    def dequeue(self):\n",
    "        if self.isEmpty():\n",
    "            return \n",
    "        else:\n",
    "            self.head = self.head.next\n",
    "    \n",
    "    def display(self):\n",
    "        if self.isEmpty():\n",
    "            return\n",
    "        else:\n",
    "            node = self.head\n",
    "            while node:\n",
    "                print([node.value])\n",
    "                node = node.next\n",
    "    \n",
    "    def peek(self):\n",
    "        if self.head == None:\n",
    "            return\n",
    "        return self.head.value\n",
    "    \n",
    "q = Queue()\n",
    "q.enqueue(1)\n",
    "q.enqueue(2)\n",
    "q.enqueue(3)\n",
    "q.enqueue(4)\n",
    "q.enqueue(5)\n",
    "q.enqueue(6)\n",
    "q.enqueue(7)\n",
    "q.enqueue(8)"
   ]
  },
  {
   "cell_type": "code",
   "execution_count": 8,
   "id": "2ec4681b",
   "metadata": {},
   "outputs": [
    {
     "name": "stdout",
     "output_type": "stream",
     "text": [
      "[1]\n",
      "[2]\n",
      "[3]\n",
      "[4]\n",
      "[5]\n",
      "[6]\n",
      "[7]\n",
      "[8]\n"
     ]
    }
   ],
   "source": [
    "q.display()"
   ]
  },
  {
   "cell_type": "code",
   "execution_count": 9,
   "id": "d56fb4dc",
   "metadata": {},
   "outputs": [
    {
     "data": {
      "text/plain": [
       "2"
      ]
     },
     "execution_count": 9,
     "metadata": {},
     "output_type": "execute_result"
    }
   ],
   "source": [
    "q.dequeue()\n",
    "q.peek()"
   ]
  },
  {
   "cell_type": "code",
   "execution_count": 10,
   "id": "0f5dbeab",
   "metadata": {},
   "outputs": [
    {
     "name": "stdout",
     "output_type": "stream",
     "text": [
      "[2]\n",
      "[3]\n",
      "[4]\n",
      "[5]\n",
      "[6]\n",
      "[7]\n",
      "[8]\n"
     ]
    }
   ],
   "source": [
    "q.display()"
   ]
  },
  {
   "cell_type": "code",
   "execution_count": null,
   "id": "e8c5c17e",
   "metadata": {},
   "outputs": [],
   "source": []
  }
 ],
 "metadata": {
  "kernelspec": {
   "display_name": "Python 3",
   "language": "python",
   "name": "python3"
  },
  "language_info": {
   "codemirror_mode": {
    "name": "ipython",
    "version": 3
   },
   "file_extension": ".py",
   "mimetype": "text/x-python",
   "name": "python",
   "nbconvert_exporter": "python",
   "pygments_lexer": "ipython3",
   "version": "3.8.8"
  }
 },
 "nbformat": 4,
 "nbformat_minor": 5
}
