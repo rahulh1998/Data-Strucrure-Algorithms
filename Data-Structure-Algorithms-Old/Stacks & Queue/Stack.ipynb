{
 "cells": [
  {
   "cell_type": "code",
   "execution_count": 1,
   "id": "815b78da",
   "metadata": {},
   "outputs": [
    {
     "name": "stdout",
     "output_type": "stream",
     "text": [
      "5\n",
      "4\n",
      "3\n",
      "2\n",
      "1\n"
     ]
    }
   ],
   "source": [
    "#stack without limit\n",
    "class Stack:\n",
    "    def __init__(self):\n",
    "        self.list = []\n",
    "\n",
    "    def __str__(self):\n",
    "        val = self.list[::-1]\n",
    "        val = [str(x) for x in val]\n",
    "        return '\\n'.join(val)\n",
    "    \n",
    "    def push(self,value):\n",
    "        return self.list.append(value)\n",
    "    \n",
    "    def isEmpty(self):\n",
    "        if len(self.list) == 0:\n",
    "            return True\n",
    "        else:\n",
    "            return False\n",
    "    \n",
    "    def pop(self):\n",
    "        return self.list.pop()\n",
    "    \n",
    "    def peek(self):\n",
    "        if self.isEmpty():\n",
    "            return \"Empty\"\n",
    "        else:\n",
    "            return self.list[len(self.list)-1]\n",
    "\n",
    "s = Stack()\n",
    "s.push(1)\n",
    "s.push(2)\n",
    "s.push(3)\n",
    "s.push(4)\n",
    "s.push(5)\n",
    "print(s)"
   ]
  },
  {
   "cell_type": "code",
   "execution_count": 2,
   "id": "3c3adbec",
   "metadata": {},
   "outputs": [
    {
     "data": {
      "text/plain": [
       "False"
      ]
     },
     "execution_count": 2,
     "metadata": {},
     "output_type": "execute_result"
    }
   ],
   "source": [
    "s.isEmpty()"
   ]
  },
  {
   "cell_type": "code",
   "execution_count": 3,
   "id": "e2880dc4",
   "metadata": {},
   "outputs": [
    {
     "data": {
      "text/plain": [
       "5"
      ]
     },
     "execution_count": 3,
     "metadata": {},
     "output_type": "execute_result"
    }
   ],
   "source": [
    "s.pop()"
   ]
  },
  {
   "cell_type": "code",
   "execution_count": 4,
   "id": "605ce19f",
   "metadata": {},
   "outputs": [
    {
     "data": {
      "text/plain": [
       "4"
      ]
     },
     "execution_count": 4,
     "metadata": {},
     "output_type": "execute_result"
    }
   ],
   "source": [
    "s.peek()\n",
    "#displays the topmost element of the queue or last element of the queue"
   ]
  },
  {
   "cell_type": "code",
   "execution_count": 5,
   "id": "dee8a10f",
   "metadata": {},
   "outputs": [],
   "source": [
    "# stack with limit\n",
    "class LStack:\n",
    "    def __init__(self,limit):\n",
    "        self.list = []\n",
    "        self.limit = limit\n",
    "    \n",
    "    def __str__(self):\n",
    "        val = self.list[::-1]\n",
    "        val = [str(x) for x in val]\n",
    "        return '\\n'.join(val)\n",
    "    \n",
    "    def isFull(self):\n",
    "        if len(self.list) == self.limit:\n",
    "            return True\n",
    "        else :\n",
    "            return False\n",
    "    \n",
    "    def isEmpty(self):\n",
    "        if len(self.list) == 0:\n",
    "            return True\n",
    "        else :\n",
    "            return False\n",
    "    \n",
    "    def push(self,value):\n",
    "        if self.isFull():\n",
    "            return 'List is full'\n",
    "        else:\n",
    "            self.list.append(value)\n",
    "    \n",
    "    def pop(self):\n",
    "        if isEmpty():\n",
    "            return 'Empty List'\n",
    "        else :\n",
    "            return self.list.pop()\n",
    "    \n",
    "    def peek(self):\n",
    "        return self.list[-1]\n",
    "\n",
    "l = LStack(5)\n",
    "l.push(1)\n",
    "l.push(2)\n",
    "l.push(3)\n",
    "l.push(4)\n",
    "l.push(5)"
   ]
  },
  {
   "cell_type": "code",
   "execution_count": 6,
   "id": "fd293d87",
   "metadata": {},
   "outputs": [
    {
     "name": "stdout",
     "output_type": "stream",
     "text": [
      "5\n",
      "4\n",
      "3\n",
      "2\n",
      "1\n"
     ]
    }
   ],
   "source": [
    "print(l)"
   ]
  },
  {
   "cell_type": "code",
   "execution_count": 7,
   "id": "04cbd441",
   "metadata": {},
   "outputs": [
    {
     "data": {
      "text/plain": [
       "True"
      ]
     },
     "execution_count": 7,
     "metadata": {},
     "output_type": "execute_result"
    }
   ],
   "source": [
    "l.isFull()"
   ]
  },
  {
   "cell_type": "code",
   "execution_count": 8,
   "id": "601a081d",
   "metadata": {},
   "outputs": [
    {
     "data": {
      "text/plain": [
       "5"
      ]
     },
     "execution_count": 8,
     "metadata": {},
     "output_type": "execute_result"
    }
   ],
   "source": [
    "l.peek()"
   ]
  },
  {
   "cell_type": "code",
   "execution_count": 9,
   "id": "3c547800",
   "metadata": {},
   "outputs": [],
   "source": [
    "#stack using linked list\n",
    "class Node:\n",
    "    def __init__(self,value):\n",
    "        self.next = None\n",
    "        self.value = value\n",
    "\n",
    "class Linked_List_Stack:\n",
    "    def __init__(self):\n",
    "        self.head = None\n",
    "        self.tail = None\n",
    "      \n",
    "    def isEmpty(self):\n",
    "        if self.head == None:\n",
    "            return True\n",
    "        else :\n",
    "            return False\n",
    "    \n",
    "    def display(self):\n",
    "        node = self.head\n",
    "        if self.isEmpty():\n",
    "            return \"Stack is empty\"\n",
    "        else:\n",
    "            node = self.head\n",
    "            while node:\n",
    "                print([node.value],end = '\\n')\n",
    "                node = node.next\n",
    "    \n",
    "    def push(self,value):\n",
    "        newNode = Node(value)\n",
    "        if self.head == None:\n",
    "            self.head = newNode\n",
    "            self.tail = newNode\n",
    "        else:\n",
    "            newNode.next = self.head\n",
    "            self.head = newNode\n",
    "    \n",
    "    def pop(self):\n",
    "        if self.isEmpty():\n",
    "            return \"No element is present in stack\"\n",
    "        else:\n",
    "            node = self.head\n",
    "            print(node.value)\n",
    "            self.head = self.head.next\n",
    "            \n",
    "    def peek(self):\n",
    "        if self.isEmpty():\n",
    "            return \"No element is present in stack\"\n",
    "        else:\n",
    "            node = self.head\n",
    "            print([node.value])\n",
    "            \n",
    "    \n",
    "    def delete(self):\n",
    "        if self.isEmpty():\n",
    "            return \"Empty\"\n",
    "        else:\n",
    "            self.head = None\n",
    "            self.tail = None\n",
    "\n",
    "lls = Linked_List_Stack()            "
   ]
  },
  {
   "cell_type": "code",
   "execution_count": 10,
   "id": "e813d84b",
   "metadata": {},
   "outputs": [
    {
     "data": {
      "text/plain": [
       "True"
      ]
     },
     "execution_count": 10,
     "metadata": {},
     "output_type": "execute_result"
    }
   ],
   "source": [
    "lls.isEmpty()"
   ]
  },
  {
   "cell_type": "code",
   "execution_count": 11,
   "id": "798df47b",
   "metadata": {},
   "outputs": [
    {
     "data": {
      "text/plain": [
       "'No element is present in stack'"
      ]
     },
     "execution_count": 11,
     "metadata": {},
     "output_type": "execute_result"
    }
   ],
   "source": [
    "lls.peek()"
   ]
  },
  {
   "cell_type": "code",
   "execution_count": 12,
   "id": "dbc6aae0",
   "metadata": {},
   "outputs": [],
   "source": [
    "lls.push(9)\n",
    "lls.push(8)\n",
    "lls.push(7)\n",
    "lls.push(6)\n",
    "lls.push(5)\n",
    "lls.push(4)"
   ]
  },
  {
   "cell_type": "code",
   "execution_count": 13,
   "id": "146f69fd",
   "metadata": {},
   "outputs": [
    {
     "name": "stdout",
     "output_type": "stream",
     "text": [
      "[4]\n",
      "[5]\n",
      "[6]\n",
      "[7]\n",
      "[8]\n",
      "[9]\n"
     ]
    }
   ],
   "source": [
    "lls.display()"
   ]
  },
  {
   "cell_type": "code",
   "execution_count": 14,
   "id": "5fb56496",
   "metadata": {},
   "outputs": [
    {
     "name": "stdout",
     "output_type": "stream",
     "text": [
      "4\n"
     ]
    }
   ],
   "source": [
    "lls.pop()"
   ]
  },
  {
   "cell_type": "code",
   "execution_count": 15,
   "id": "03afc5a4",
   "metadata": {},
   "outputs": [
    {
     "name": "stdout",
     "output_type": "stream",
     "text": [
      "[5]\n"
     ]
    }
   ],
   "source": [
    "lls.peek()"
   ]
  },
  {
   "cell_type": "code",
   "execution_count": null,
   "id": "7d4f3209",
   "metadata": {},
   "outputs": [],
   "source": []
  }
 ],
 "metadata": {
  "kernelspec": {
   "display_name": "Python 3",
   "language": "python",
   "name": "python3"
  },
  "language_info": {
   "codemirror_mode": {
    "name": "ipython",
    "version": 3
   },
   "file_extension": ".py",
   "mimetype": "text/x-python",
   "name": "python",
   "nbconvert_exporter": "python",
   "pygments_lexer": "ipython3",
   "version": "3.8.8"
  }
 },
 "nbformat": 4,
 "nbformat_minor": 5
}
