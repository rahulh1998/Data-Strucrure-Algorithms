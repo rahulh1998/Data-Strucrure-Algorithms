{
 "cells": [
  {
   "cell_type": "code",
   "execution_count": 1,
   "id": "f1a359bc",
   "metadata": {},
   "outputs": [
    {
     "name": "stdout",
     "output_type": "stream",
     "text": [
      "drinks\n",
      "----cold\n",
      "--------alcoholic\n",
      "--------Non_Alco\n",
      "----hot\n",
      "--------tea\n",
      "--------coffee\n",
      "\n"
     ]
    }
   ],
   "source": [
    "# Basic Tree\n",
    "class TreeNode:\n",
    "    \n",
    "    def __init__(self,data,children = []):\n",
    "        self.data = data\n",
    "        self.children = children\n",
    "\n",
    "    def __str__(self,level = 0):\n",
    "        ret = \"----\"*level + str(self.data) + '\\n' #for displaying the nodes\n",
    "        for child in self.children:\n",
    "            ret+= child.__str__(level+1) # works when a new node is added in a tree\n",
    "        return ret\n",
    "    \n",
    "    def addChild(self,treenode):\n",
    "        self.children.append(treenode)\n",
    "\n",
    "tree = TreeNode('drinks',[])\n",
    "cold = TreeNode('cold',[])\n",
    "hot = TreeNode('hot',[])\n",
    "tree.addChild(cold)\n",
    "tree.addChild(hot)\n",
    "coffee = TreeNode('coffee',[])\n",
    "tea = TreeNode('tea',[])\n",
    "alcoholic = TreeNode('alcoholic',[])\n",
    "non_alco = TreeNode('Non_Alco',[])\n",
    "cold.addChild(alcoholic)\n",
    "cold.addChild(non_alco)\n",
    "hot.addChild(tea)\n",
    "hot.addChild(coffee)\n",
    "print(tree)"
   ]
  },
  {
   "cell_type": "code",
   "execution_count": 2,
   "id": "0f2bb3ce",
   "metadata": {},
   "outputs": [
    {
     "data": {
      "text/plain": [
       "'node inserted sucessfully'"
      ]
     },
     "execution_count": 2,
     "metadata": {},
     "output_type": "execute_result"
    }
   ],
   "source": [
    "# BASIC TREE TEMPLATE\n",
    "\n",
    "class BinaryTree:\n",
    "    def __init__(self,size):\n",
    "        self.custom_list = size*[None]\n",
    "        self.last_used_index = 0\n",
    "        self.maxSize = size\n",
    "        \n",
    "    def insertNode(self,value):\n",
    "        if self.last_used_index+1 == self.maxSize:\n",
    "            return \"Binary Tree is full\"\n",
    "        self.custom_list[self.last_used_index+1] = value\n",
    "        self.last_used_index+=1\n",
    "        return \"node inserted sucessfully\"\n",
    "    \n",
    "    def searchNode(self,nodeValue):\n",
    "        for i in range(len(self.custom_list)):\n",
    "            if self.custom_list[i] == nodeValue:\n",
    "                return \"Success\"\n",
    "            return \"Not found\"\n",
    "    \n",
    "newBT = BinaryTree(8)\n",
    "newBT.insertNode(\"Drinks\")\n",
    "newBT.insertNode(\"Hot\")\n",
    "newBT.insertNode(\"Cold\")"
   ]
  },
  {
   "cell_type": "code",
   "execution_count": 3,
   "id": "cd492421",
   "metadata": {},
   "outputs": [
    {
     "data": {
      "text/plain": [
       "[None, 'Drinks', 'Hot', 'Cold', None, None, None, None]"
      ]
     },
     "execution_count": 3,
     "metadata": {},
     "output_type": "execute_result"
    }
   ],
   "source": [
    "newBT.custom_list"
   ]
  },
  {
   "cell_type": "code",
   "execution_count": 4,
   "id": "43227f01",
   "metadata": {},
   "outputs": [
    {
     "data": {
      "text/plain": [
       "'Not found'"
      ]
     },
     "execution_count": 4,
     "metadata": {},
     "output_type": "execute_result"
    }
   ],
   "source": [
    "newBT.searchNode('Cold')"
   ]
  },
  {
   "cell_type": "code",
   "execution_count": 5,
   "id": "c64c6a87",
   "metadata": {},
   "outputs": [
    {
     "data": {
      "text/plain": [
       "'Not found'"
      ]
     },
     "execution_count": 5,
     "metadata": {},
     "output_type": "execute_result"
    }
   ],
   "source": [
    "newBT.searchNode('Cold123')"
   ]
  },
  {
   "cell_type": "markdown",
   "id": "683ce234",
   "metadata": {},
   "source": [
    "# Pre-order Traversal"
   ]
  },
  {
   "cell_type": "code",
   "execution_count": 6,
   "id": "9c9d2547",
   "metadata": {},
   "outputs": [],
   "source": [
    "class BinaryTree:\n",
    "    \n",
    "    def __init__(self,size):\n",
    "        self.customlist = size*[None]\n",
    "        self.lastUsedIndex = 0\n",
    "        self.maxSize = size\n",
    "    \n",
    "    def insertNode(self,nodeValue):\n",
    "        if self.lastUsedIndex == self.maxSize :\n",
    "            return \"List is full\"\n",
    "        else:\n",
    "            self.customlist[self.lastUsedIndex+1] = nodeValue\n",
    "            self.lastUsedIndex +=1\n",
    "    \n",
    "    def preOrderTraversal(self,index):\n",
    "        if index > self.lastUsedIndex:\n",
    "            return 'Index out of range'\n",
    "        else:\n",
    "            print(self.customlist[index], index)\n",
    "            self.preOrderTraversal(index*2)#print left subtree\n",
    "            self.preOrderTraversal(index*2 + 1)#print right subtree\n",
    "            \n",
    "    def inOrderTraversal(self,index):\n",
    "        if index > self.lastUsedIndex:\n",
    "            return 'Index out of range'\n",
    "        else:\n",
    "            self.inOrderTraversal(index*2) # tea hot \n",
    "            print(self.customlist[index], index)\n",
    "            self.inOrderTraversal(index*2 + 1)# coffee cold\n",
    "            \n",
    "    def postOrderTraversal(self,index):\n",
    "        if index > self.lastUsedIndex:\n",
    "            return\n",
    "        self.postOrderTraversal(index*2)\n",
    "        self.postOrderTraversal(index*2+1)\n",
    "        print(self.customlist[index])\n",
    "    \n",
    "    def levelOrderTraversal(self,index):\n",
    "        for i in range(1,self.lastUsedIndex +1):\n",
    "            print(self.customlist[i])\n",
    "    \n",
    "    def deleteNode(self,value):\n",
    "        if self.lastUsedIndex == 0:\n",
    "            return\n",
    "        else:\n",
    "            for i in range(1,self.lastUsedIndex+1):\n",
    "                if self.customlist[i]==value:\n",
    "                    self.customlist[i] = self.customlist[self.lastUsedIndex]\n",
    "                    self.customlist[self.lastUsedIndex] = None\n",
    "                    self.lastUsedIndex-=1\n",
    "                    print(\"Successfully Deleted\")\n",
    "\n",
    "    \n",
    "newBT = BinaryTree(8)\n",
    "newBT.insertNode(\"Drinks\")\n",
    "newBT.insertNode(\"Hot\")\n",
    "newBT.insertNode(\"Cold\")\n",
    "newBT.insertNode(\"Tea\")\n",
    "newBT.insertNode(\"Coffee\")"
   ]
  },
  {
   "cell_type": "code",
   "execution_count": 7,
   "id": "5d134310",
   "metadata": {},
   "outputs": [
    {
     "data": {
      "text/plain": [
       "[None, 'Drinks', 'Hot', 'Cold', 'Tea', 'Coffee', None, None]"
      ]
     },
     "execution_count": 7,
     "metadata": {},
     "output_type": "execute_result"
    }
   ],
   "source": [
    "newBT.customlist"
   ]
  },
  {
   "cell_type": "code",
   "execution_count": 8,
   "id": "70d1a62e",
   "metadata": {},
   "outputs": [
    {
     "name": "stdout",
     "output_type": "stream",
     "text": [
      "Drinks 1\n",
      "Hot 2\n",
      "Tea 4\n",
      "Coffee 5\n",
      "Cold 3\n"
     ]
    }
   ],
   "source": [
    "newBT.preOrderTraversal(1)"
   ]
  },
  {
   "cell_type": "code",
   "execution_count": 9,
   "id": "554f1561",
   "metadata": {},
   "outputs": [
    {
     "name": "stdout",
     "output_type": "stream",
     "text": [
      "Tea 4\n",
      "Hot 2\n",
      "Coffee 5\n",
      "Drinks 1\n",
      "Cold 3\n"
     ]
    }
   ],
   "source": [
    "newBT.inOrderTraversal(1)"
   ]
  },
  {
   "cell_type": "code",
   "execution_count": 10,
   "id": "7458d108",
   "metadata": {},
   "outputs": [
    {
     "name": "stdout",
     "output_type": "stream",
     "text": [
      "Tea\n",
      "Coffee\n",
      "Hot\n",
      "Cold\n",
      "Drinks\n"
     ]
    }
   ],
   "source": [
    "newBT.postOrderTraversal(1)"
   ]
  },
  {
   "cell_type": "code",
   "execution_count": 11,
   "id": "51aec588",
   "metadata": {},
   "outputs": [
    {
     "name": "stdout",
     "output_type": "stream",
     "text": [
      "Drinks\n",
      "Hot\n",
      "Cold\n",
      "Tea\n",
      "Coffee\n"
     ]
    }
   ],
   "source": [
    "newBT.levelOrderTraversal(1)"
   ]
  },
  {
   "cell_type": "code",
   "execution_count": 12,
   "id": "b29bb67a",
   "metadata": {},
   "outputs": [
    {
     "name": "stdout",
     "output_type": "stream",
     "text": [
      "Successfully Deleted\n"
     ]
    }
   ],
   "source": [
    "newBT.deleteNode('Hot')"
   ]
  },
  {
   "cell_type": "code",
   "execution_count": 13,
   "id": "cdfd8064",
   "metadata": {},
   "outputs": [],
   "source": [
    "# PRactice\n",
    "\n",
    "\n",
    "class BT_LIST:\n",
    "    def __init__(self,size):\n",
    "        self.customList = size*[None]\n",
    "        self.lastUsedIndex = 0\n",
    "        self.maxSize = size\n",
    "    \n",
    "    def insertNode(self,nodeValue):\n",
    "        if self.lastUsedIndex == self.maxSize :\n",
    "            return \"List is full\"\n",
    "        else:\n",
    "            self.customlist[self.lastUsedIndex+1] = nodeValue\n",
    "            self.lastUsedIndex +=1\n",
    "    \n",
    "    def searchNode(self,value):\n",
    "        for i in range(1,self.lastUsedIndex+1):\n",
    "            if self.customList[i] == value:\n",
    "                print('Success')\n",
    "        print('Not found')\n",
    "    \n",
    "    def preOrderTraversal(self,index):\n",
    "        if index > self.lastUsedIndex:\n",
    "            return\n",
    "        else :\n",
    "            print(self.customList[index])\n",
    "            self.preOrderTraversal(index**2)\n",
    "            self.preOrderTraversal(index**2+1)\n",
    "   \n",
    "    def inOrderTraversal(self,index):\n",
    "        if index > self.lastUsedIndex:\n",
    "            return\n",
    "        else :\n",
    "            self.inOrderTraversal(index**2)\n",
    "            print(self.customList[index])            \n",
    "            self.inOrderTraversal(index**2+1)\n",
    "\n",
    "    def postOrderTraversal(self,index):\n",
    "        if index > self.lastUsedIndex:\n",
    "            return\n",
    "        else :\n",
    "            self.postOrderTraversal(index**2)\n",
    "            self.postOrderTraversal(index**2+1)\n",
    "            print(self.customList[index])\n",
    "            \n",
    "            \n",
    "    def levelOrderTraversal(self,index):\n",
    "            for i in range(1,self.lastUsedIndex+1):\n",
    "                print(self.customList[i])"
   ]
  },
  {
   "cell_type": "code",
   "execution_count": 14,
   "id": "9bccd602",
   "metadata": {},
   "outputs": [
    {
     "ename": "IndexError",
     "evalue": "list assignment index out of range",
     "output_type": "error",
     "traceback": [
      "\u001b[1;31m---------------------------------------------------------------------------\u001b[0m",
      "\u001b[1;31mIndexError\u001b[0m                                Traceback (most recent call last)",
      "\u001b[1;32m<ipython-input-14-1a3bc36d1ee9>\u001b[0m in \u001b[0;36m<module>\u001b[1;34m\u001b[0m\n\u001b[0;32m      3\u001b[0m \u001b[0mnewBT\u001b[0m\u001b[1;33m.\u001b[0m\u001b[0minsertNode\u001b[0m\u001b[1;33m(\u001b[0m\u001b[1;34m\"Hot\"\u001b[0m\u001b[1;33m)\u001b[0m\u001b[1;33m\u001b[0m\u001b[1;33m\u001b[0m\u001b[0m\n\u001b[0;32m      4\u001b[0m \u001b[0mnewBT\u001b[0m\u001b[1;33m.\u001b[0m\u001b[0minsertNode\u001b[0m\u001b[1;33m(\u001b[0m\u001b[1;34m\"Cold\"\u001b[0m\u001b[1;33m)\u001b[0m\u001b[1;33m\u001b[0m\u001b[1;33m\u001b[0m\u001b[0m\n\u001b[1;32m----> 5\u001b[1;33m \u001b[0mnewBT\u001b[0m\u001b[1;33m.\u001b[0m\u001b[0minsertNode\u001b[0m\u001b[1;33m(\u001b[0m\u001b[1;34m\"Tea\"\u001b[0m\u001b[1;33m)\u001b[0m\u001b[1;33m\u001b[0m\u001b[1;33m\u001b[0m\u001b[0m\n\u001b[0m\u001b[0;32m      6\u001b[0m \u001b[0mnewBT\u001b[0m\u001b[1;33m.\u001b[0m\u001b[0minsertNode\u001b[0m\u001b[1;33m(\u001b[0m\u001b[1;34m\"Coffee\"\u001b[0m\u001b[1;33m)\u001b[0m\u001b[1;33m\u001b[0m\u001b[1;33m\u001b[0m\u001b[0m\n",
      "\u001b[1;32m<ipython-input-6-dbadcec222be>\u001b[0m in \u001b[0;36minsertNode\u001b[1;34m(self, nodeValue)\u001b[0m\n\u001b[0;32m     10\u001b[0m             \u001b[1;32mreturn\u001b[0m \u001b[1;34m\"List is full\"\u001b[0m\u001b[1;33m\u001b[0m\u001b[1;33m\u001b[0m\u001b[0m\n\u001b[0;32m     11\u001b[0m         \u001b[1;32melse\u001b[0m\u001b[1;33m:\u001b[0m\u001b[1;33m\u001b[0m\u001b[1;33m\u001b[0m\u001b[0m\n\u001b[1;32m---> 12\u001b[1;33m             \u001b[0mself\u001b[0m\u001b[1;33m.\u001b[0m\u001b[0mcustomlist\u001b[0m\u001b[1;33m[\u001b[0m\u001b[0mself\u001b[0m\u001b[1;33m.\u001b[0m\u001b[0mlastUsedIndex\u001b[0m\u001b[1;33m+\u001b[0m\u001b[1;36m1\u001b[0m\u001b[1;33m]\u001b[0m \u001b[1;33m=\u001b[0m \u001b[0mnodeValue\u001b[0m\u001b[1;33m\u001b[0m\u001b[1;33m\u001b[0m\u001b[0m\n\u001b[0m\u001b[0;32m     13\u001b[0m             \u001b[0mself\u001b[0m\u001b[1;33m.\u001b[0m\u001b[0mlastUsedIndex\u001b[0m \u001b[1;33m+=\u001b[0m\u001b[1;36m1\u001b[0m\u001b[1;33m\u001b[0m\u001b[1;33m\u001b[0m\u001b[0m\n\u001b[0;32m     14\u001b[0m \u001b[1;33m\u001b[0m\u001b[0m\n",
      "\u001b[1;31mIndexError\u001b[0m: list assignment index out of range"
     ]
    }
   ],
   "source": [
    "BT_LIST = BinaryTree(8)\n",
    "newBT.insertNode(\"Drinks\")\n",
    "newBT.insertNode(\"Hot\")\n",
    "newBT.insertNode(\"Cold\")\n",
    "newBT.insertNode(\"Tea\")\n",
    "newBT.insertNode(\"Coffee\")"
   ]
  },
  {
   "cell_type": "code",
   "execution_count": null,
   "id": "82e70ced",
   "metadata": {},
   "outputs": [],
   "source": []
  },
  {
   "cell_type": "code",
   "execution_count": null,
   "id": "8239488a",
   "metadata": {},
   "outputs": [],
   "source": []
  },
  {
   "cell_type": "code",
   "execution_count": null,
   "id": "2f7a6bd2",
   "metadata": {},
   "outputs": [],
   "source": []
  }
 ],
 "metadata": {
  "kernelspec": {
   "display_name": "Python 3",
   "language": "python",
   "name": "python3"
  },
  "language_info": {
   "codemirror_mode": {
    "name": "ipython",
    "version": 3
   },
   "file_extension": ".py",
   "mimetype": "text/x-python",
   "name": "python",
   "nbconvert_exporter": "python",
   "pygments_lexer": "ipython3",
   "version": "3.8.8"
  }
 },
 "nbformat": 4,
 "nbformat_minor": 5
}
