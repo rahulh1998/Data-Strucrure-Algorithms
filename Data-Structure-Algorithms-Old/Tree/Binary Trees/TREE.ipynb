{
 "cells": [
  {
   "cell_type": "markdown",
   "id": "c34dcef7",
   "metadata": {},
   "source": [
    "<h1 style= 'background-color:DarkSalmon;font-size:80px;color:white;text-align:center'> Trees</h1>"
   ]
  },
  {
   "cell_type": "markdown",
   "id": "d82396e0",
   "metadata": {},
   "source": [
    "<pre style= 'background-color:#34495E ;font-size:15px;color:white;'> \n",
    "    Trees are a type of non-linear data structure that is used to store data in a hierarichal manner.\n",
    "    Types of Binary trees:\n",
    "            1. Perfect Tree : All nodes in same level & have 2 children \n",
    "            2. Balanced Tree : Equal distance of each node from root node\n",
    "            3. Complete  : All the levels have 2 nodes in each parent node except the last level\n",
    "            4. Full Tree : Each node has either 0 or 2 children\n",
    "\n",
    "</pre>"
   ]
  },
  {
   "cell_type": "markdown",
   "id": "451388fd",
   "metadata": {},
   "source": [
    "<pre style= 'background-color:#34495E ;font-size:15px;color:white'> \n",
    "    PreOrder Traversal : \n",
    "        In this traversal method, first we access the root node then the left & then the right node.\n",
    "        If left node has children then the children will be accessed & then the right node.\n",
    "       \n",
    "                                   1. ROOTNODE\n",
    "                                         |\n",
    "                                   2. LEFT CHILD\n",
    "                                         |\n",
    "                                   3. RIGHT CHILD\n",
    "</pre>"
   ]
  },
  {
   "cell_type": "code",
   "execution_count": 1,
   "id": "03b1a965",
   "metadata": {},
   "outputs": [
    {
     "name": "stdout",
     "output_type": "stream",
     "text": [
      "Drinks\n",
      "   Hot\n",
      "   Cold\n"
     ]
    }
   ],
   "source": [
    "# Binary Tree using Linked Lists\n",
    "# Binary trees have at most one node - LeftChild && RightChild\n",
    "\n",
    "class TreeNode:\n",
    "    def __init__(self,value):\n",
    "        self.value = value\n",
    "        self.leftChild = None\n",
    "        self.rightChild = None\n",
    "\n",
    "        \n",
    "newBT = TreeNode('Drinks')\n",
    "hot = TreeNode('Hot')\n",
    "cold = TreeNode('Cold')\n",
    "\n",
    "newBT.leftChild = hot\n",
    "newBT.rightChild = cold\n",
    "\n",
    "\n",
    "def preOrderTraversal(rootnode):\n",
    "    if not rootnode:\n",
    "        return\n",
    "    print(rootnode.value)\n",
    "    print(\"  \",rootnode.leftChild.value)\n",
    "    print(\"  \",rootnode.rightChild.value)\n",
    "\n",
    "preOrderTraversal(newBT)"
   ]
  },
  {
   "cell_type": "code",
   "execution_count": 2,
   "id": "e23d8714",
   "metadata": {},
   "outputs": [
    {
     "name": "stdout",
     "output_type": "stream",
     "text": [
      "Drinks\n",
      "   Hot\n",
      "   Cold\n"
     ]
    }
   ],
   "source": [
    "# ALL FUNCTIONS AS A PART OF THE CLASS\n",
    "\n",
    "# Binary Tree using Linked Lists\n",
    "# Binary trees have at most one node - LeftChild && RightChild\n",
    "\n",
    "\n",
    "class TreeNode:\n",
    "    def __init__(self,value):\n",
    "        self.value = value\n",
    "        self.leftChild = None\n",
    "        self.rightChild = None\n",
    "\n",
    "        \n",
    "    def preOrderTraversal(self, rootnode):\n",
    "        if not rootnode:\n",
    "            return\n",
    "        print(rootnode.value)\n",
    "        print(\"  \",rootnode.leftChild.value)\n",
    "        print(\"  \",rootnode.rightChild.value)\n",
    "\n",
    "newBT = TreeNode('Drinks')\n",
    "hot = TreeNode('Hot')\n",
    "cold = TreeNode('Cold')\n",
    "\n",
    "newBT.leftChild = hot\n",
    "newBT.rightChild = cold\n",
    "\n",
    "newBT.preOrderTraversal(newBT)"
   ]
  },
  {
   "cell_type": "markdown",
   "id": "0288c0b9",
   "metadata": {},
   "source": [
    "<pre style= 'background-color:#34495E ;font-size:15px;color:white'> \n",
    "    InOrder Traversal : \n",
    "        In this traversal method, first we access the LEFT SUBTREE then the NODE & then the RIGHT SUBTREE.\n",
    "        Consider the leftmode node consisting of two leaf nodes, in that case the left node will be accessed \n",
    "        then the Parent Node & after that the right node.\n",
    "       \n",
    "                                   1. LEFT SUBTREE\n",
    "                                         |\n",
    "                                   2.   NODE\n",
    "                                         |\n",
    "                                   3. RIGHT SUBTREE\n",
    "                                   \n",
    "</pre>"
   ]
  },
  {
   "cell_type": "code",
   "execution_count": 3,
   "id": "eae24291",
   "metadata": {},
   "outputs": [
    {
     "name": "stdout",
     "output_type": "stream",
     "text": [
      "Hot\n",
      "Drinks\n",
      "Cold\n"
     ]
    }
   ],
   "source": [
    "class TreeNode:\n",
    "    def __init__(self, value ):\n",
    "        self.value = value\n",
    "        self.leftChild = None\n",
    "        self.rightChild = None\n",
    "    \n",
    "    def inOrderTraversal(self,rootnode):\n",
    "        if rootnode is None:\n",
    "            return\n",
    "        self.inOrderTraversal(rootnode.leftChild)\n",
    "        print(rootnode.value)\n",
    "        self.inOrderTraversal(rootnode.rightChild)        \n",
    "newBT = TreeNode('Drinks')\n",
    "hot = TreeNode('Hot')\n",
    "cold = TreeNode('Cold')\n",
    "\n",
    "newBT.leftChild = hot\n",
    "newBT.rightChild = cold\n",
    "\n",
    "newBT.inOrderTraversal(newBT)\n",
    "    "
   ]
  },
  {
   "cell_type": "markdown",
   "id": "6d4ad3ac",
   "metadata": {},
   "source": [
    "<pre style= 'background-color:#34495E ;font-size:15px;color:white'> \n",
    "    PostOrder Traversal : \n",
    "        In this traversal method, first we access the LEFT SUBTREE then the RIGHT SUBTREE & THEN Node.\n",
    "       \n",
    "                                   1. LEFT SUBTREE\n",
    "                                         |\n",
    "                                   2. RIGHT SUBTREE   \n",
    "                                         |\n",
    "                                   3.  NODE\n",
    "                                   \n",
    "</pre>"
   ]
  },
  {
   "cell_type": "code",
   "execution_count": 4,
   "id": "94055940",
   "metadata": {},
   "outputs": [
    {
     "name": "stdout",
     "output_type": "stream",
     "text": [
      "Hot\n",
      "Cold\n",
      "Drinks\n"
     ]
    }
   ],
   "source": [
    "class TreeNode:\n",
    "    def __init__(self, value ):\n",
    "        self.value = value\n",
    "        self.leftChild = None\n",
    "        self.rightChild = None\n",
    "    \n",
    "    def postOrderTraversal(self,rootnode):\n",
    "        if rootnode is None:\n",
    "            return\n",
    "        self.postOrderTraversal(rootnode.leftChild)\n",
    "        self.postOrderTraversal(rootnode.rightChild)        \n",
    "        print(rootnode.value)\n",
    "newBT = TreeNode('Drinks')\n",
    "hot = TreeNode('Hot')\n",
    "cold = TreeNode('Cold')\n",
    "\n",
    "newBT.leftChild = hot\n",
    "newBT.rightChild = cold\n",
    "\n",
    "\n",
    "newBT.postOrderTraversal(newBT)\n",
    "    "
   ]
  },
  {
   "cell_type": "markdown",
   "id": "e2fc4f10",
   "metadata": {},
   "source": [
    "<pre style= 'background-color:#34495E ;font-size:15px;color:white'> \n",
    "    LevelOrder Traversal : \n",
    "        In this traversal method, first we access the Node then LEFT SUBTREE & then the RIGHT SUBTREE .\n",
    "       \n",
    "                                   1.      NODE\n",
    "                                            |\n",
    "                                   2.   LEFT NODE \n",
    "                                            |\n",
    "                                   3.  RIGHT NODE  \n",
    "                                   \n",
    "</pre>\n",
    "\n"
   ]
  },
  {
   "cell_type": "code",
   "execution_count": 5,
   "id": "deb5b193",
   "metadata": {},
   "outputs": [
    {
     "name": "stdout",
     "output_type": "stream",
     "text": [
      "Drinks\n",
      "Hot\n",
      "cold\n",
      "tea\n",
      "coffee\n",
      "beer\n",
      "rum\n"
     ]
    }
   ],
   "source": [
    "class Node:\n",
    "    def __init__(self, value=None):\n",
    "        self.value = value\n",
    "        self.next = None\n",
    "    \n",
    "    def __str__(self):\n",
    "        return str(self.value)\n",
    "    \n",
    "class LinkedList:\n",
    "    def __init__(self):\n",
    "        self.head = None\n",
    "        self.tail = None\n",
    "    \n",
    "    def __iter__(self):\n",
    "        curNode = self.head\n",
    "        while curNode:\n",
    "            yield curNode\n",
    "            curNode = curNode.next\n",
    "\n",
    "class Queue:\n",
    "    def __init__(self):\n",
    "        self.linkedList = LinkedList()\n",
    "    \n",
    "    def __str__(self):\n",
    "        values = [str(x) for x in self.linkedList]\n",
    "        return ' '.join(values)\n",
    "    \n",
    "    def enqueue(self, value):\n",
    "        newNode = Node(value)\n",
    "        if self.linkedList.head == None:\n",
    "            self.linkedList.head = newNode\n",
    "            self.linkedList.tail = newNode\n",
    "        else:\n",
    "            self.linkedList.tail.next = newNode\n",
    "            self.linkedList.tail = newNode\n",
    "    \n",
    "    def isEmpty(self):\n",
    "        if self.linkedList.head == None:\n",
    "            return True\n",
    "        else:\n",
    "            return False\n",
    "    \n",
    "    def dequeue(self):\n",
    "        if self.isEmpty():\n",
    "            return \"There is not any node in the Queue\"\n",
    "        else:\n",
    "            tempNode = self.linkedList.head\n",
    "            if self.linkedList.head == self.linkedList.tail:\n",
    "                self.linkedList.head = None\n",
    "                self.linkedList.tail = None\n",
    "            else:\n",
    "                self.linkedList.head = self.linkedList.head.next\n",
    "            return tempNode\n",
    "    \n",
    "    def peek(self):\n",
    "        if self.isEmpty():\n",
    "            return \"There is not any node in the Queue\"\n",
    "        else:\n",
    "            return self.linkedList.head\n",
    "    \n",
    "    def delete(self):\n",
    "        self.linkedList.head = None\n",
    "        self.linkedList.tail = None\n",
    " \n",
    "    \n",
    "class tree:\n",
    "    def __init__(self,data):\n",
    "        self.data = data\n",
    "        self.leftChild = None\n",
    "        self.rightChild = None\n",
    "    \n",
    "    def LevelOrderTraversal(self,rootnode):\n",
    "        if rootnode is None:\n",
    "            return\n",
    "        queue = Queue()\n",
    "        queue.enqueue(rootnode)\n",
    "        while not(queue.isEmpty()): #untill queue is not null\n",
    "            root = queue.dequeue()\n",
    "            print(root.value.data)\n",
    "            if(root.value.leftChild is not None) :\n",
    "                queue.enqueue(root.value.leftChild)\n",
    "            if(root.value.rightChild is not None):\n",
    "                queue.enqueue(root.value.rightChild)\n",
    "            \n",
    "beverages = tree(\"Drinks\")\n",
    "hot = tree('Hot')\n",
    "cold = tree('cold')\n",
    "hot.leftChild = tree('tea')\n",
    "hot.rightChild = tree('coffee')\n",
    "cold.leftChild = tree('beer')\n",
    "cold.rightChild = tree('rum')\n",
    "beverages.leftChild = hot\n",
    "beverages.rightChild = cold\n",
    "\n",
    "beverages.LevelOrderTraversal(beverages)"
   ]
  },
  {
   "cell_type": "markdown",
   "id": "7c763ca0",
   "metadata": {},
   "source": [
    "# Searching BT"
   ]
  },
  {
   "cell_type": "code",
   "execution_count": 6,
   "id": "e893869f",
   "metadata": {},
   "outputs": [
    {
     "data": {
      "text/plain": [
       "'success'"
      ]
     },
     "execution_count": 6,
     "metadata": {},
     "output_type": "execute_result"
    }
   ],
   "source": [
    "class Node:\n",
    "    def __init__(self, value=None):\n",
    "        self.value = value\n",
    "        self.next = None\n",
    "    \n",
    "    def __str__(self):\n",
    "        return str(self.value)\n",
    "    \n",
    "class LinkedList:\n",
    "    def __init__(self):\n",
    "        self.head = None\n",
    "        self.tail = None\n",
    "    \n",
    "    def __iter__(self):\n",
    "        curNode = self.head\n",
    "        while curNode:\n",
    "            yield curNode\n",
    "            curNode = curNode.next\n",
    "\n",
    "class Queue:\n",
    "    def __init__(self):\n",
    "        self.linkedList = LinkedList()\n",
    "    \n",
    "    def __str__(self):\n",
    "        values = [str(x) for x in self.linkedList]\n",
    "        return ' '.join(values)\n",
    "    \n",
    "    def enqueue(self, value):\n",
    "        newNode = Node(value)\n",
    "        if self.linkedList.head == None:\n",
    "            self.linkedList.head = newNode\n",
    "            self.linkedList.tail = newNode\n",
    "        else:\n",
    "            self.linkedList.tail.next = newNode\n",
    "            self.linkedList.tail = newNode\n",
    "    \n",
    "    def isEmpty(self):\n",
    "        if self.linkedList.head == None:\n",
    "            return True\n",
    "        else:\n",
    "            return False\n",
    "    \n",
    "    def dequeue(self):\n",
    "        if self.isEmpty():\n",
    "            return \"There is not any node in the Queue\"\n",
    "        else:\n",
    "            tempNode = self.linkedList.head\n",
    "            if self.linkedList.head == self.linkedList.tail:\n",
    "                self.linkedList.head = None\n",
    "                self.linkedList.tail = None\n",
    "            else:\n",
    "                self.linkedList.head = self.linkedList.head.next\n",
    "            return tempNode\n",
    "    \n",
    "    def peek(self):\n",
    "        if self.isEmpty():\n",
    "            return \"There is not any node in the Queue\"\n",
    "        else:\n",
    "            return self.linkedList.head\n",
    "    \n",
    "    def delete(self):\n",
    "        self.linkedList.head = None\n",
    "        self.linkedList.tail = None\n",
    " \n",
    "    \n",
    "class tree:\n",
    "    def __init__(self,data):\n",
    "        self.data = data\n",
    "        self.leftChild = None\n",
    "        self.rightChild = None\n",
    "    \n",
    "    def LevelOrderTraversal(self,rootnode):\n",
    "        if rootnode is None:\n",
    "            return\n",
    "        queue = Queue()\n",
    "        queue.enqueue(rootnode)\n",
    "        while not(queue.isEmpty()): #untill queue is not null\n",
    "            root = queue.dequeue()\n",
    "            print(root.value.data)\n",
    "            if(root.value.leftChild is not None) :\n",
    "                queue.enqueue(root.value.leftChild)\n",
    "            if(root.value.rightChild is not None):\n",
    "                queue.enqueue(root.value.rightChild)\n",
    "                \n",
    "    def searchBT(self,rootnode,Searchvalue):\n",
    "            if rootnode is None:\n",
    "                return\n",
    "            queue = Queue()\n",
    "            queue.enqueue(rootnode)\n",
    "            while not(queue.isEmpty()): #untill queue is not null\n",
    "                root = queue.dequeue()\n",
    "                if root.value.data == Searchvalue:\n",
    "                    return 'success'\n",
    "                if(root.value.leftChild is not None) :\n",
    "                    queue.enqueue(root.value.leftChild)\n",
    "                if(root.value.rightChild is not None):\n",
    "                    queue.enqueue(root.value.rightChild)\n",
    "            return('Unsuccessful')\n",
    "        \n",
    "beverages = tree(\"Drinks\")\n",
    "hot = tree('Hot')\n",
    "cold = tree('cold')\n",
    "hot.leftChild = tree('tea')\n",
    "hot.rightChild = tree('coffee')\n",
    "cold.leftChild = tree('beer')\n",
    "cold.rightChild = tree('rum')\n",
    "beverages.leftChild = hot\n",
    "beverages.rightChild = cold\n",
    "\n",
    "beverages.searchBT(beverages,'tea')"
   ]
  },
  {
   "cell_type": "markdown",
   "id": "712b09ff",
   "metadata": {},
   "source": [
    "# Delete a BT"
   ]
  },
  {
   "cell_type": "code",
   "execution_count": 7,
   "id": "25f9e929",
   "metadata": {},
   "outputs": [
    {
     "data": {
      "text/plain": [
       "'tree deleted successfully'"
      ]
     },
     "execution_count": 7,
     "metadata": {},
     "output_type": "execute_result"
    }
   ],
   "source": [
    "class TreeNode:\n",
    "    def __init__(self, value ):\n",
    "        self.value = value\n",
    "        self.leftChild = None\n",
    "        self.rightChild = None\n",
    "    \n",
    "    def deleteBT(self,rootnode):\n",
    "        self.leftChild =None\n",
    "        self.rightChild = None\n",
    "        self.value = None\n",
    "        return \"tree deleted successfully\"\n",
    "        \n",
    "        \n",
    "newBT = TreeNode('Drinks')\n",
    "hot = TreeNode('Hot')\n",
    "cold = TreeNode('Cold')\n",
    "\n",
    "newBT.leftChild = hot\n",
    "newBT.rightChild = cold\n",
    "\n",
    "\n",
    "newBT.deleteBT(newBT)\n",
    "    "
   ]
  },
  {
   "cell_type": "code",
   "execution_count": 8,
   "id": "988d5efa",
   "metadata": {},
   "outputs": [
    {
     "name": "stdout",
     "output_type": "stream",
     "text": [
      "drinks\n",
      "----cold\n",
      "--------alcoholic\n",
      "--------Non_Alco\n",
      "----hot\n",
      "--------tea\n",
      "--------coffee\n",
      "\n"
     ]
    }
   ],
   "source": [
    "# Basic Tree\n",
    "class TreeNode:\n",
    "    \n",
    "    def __init__(self,data,children = []):\n",
    "        self.data = data\n",
    "        self.children = children\n",
    "\n",
    "    def __str__(self,level = 0):\n",
    "        ret = \"----\"*level + str(self.data) + '\\n' #for displaying the nodes\n",
    "        for child in self.children:\n",
    "            ret+= child.__str__(level+1) # works when a new node is added in a tree\n",
    "        return ret\n",
    "    \n",
    "    def addChild(self,treenode):\n",
    "        self.children.append(treenode)\n",
    "\n",
    "tree = TreeNode('drinks',[])\n",
    "cold = TreeNode('cold',[])\n",
    "hot = TreeNode('hot',[])\n",
    "tree.addChild(cold)\n",
    "tree.addChild(hot)\n",
    "coffee = TreeNode('coffee',[])\n",
    "tea = TreeNode('tea',[])\n",
    "alcoholic = TreeNode('alcoholic',[])\n",
    "non_alco = TreeNode('Non_Alco',[])\n",
    "cold.addChild(alcoholic)\n",
    "cold.addChild(non_alco)\n",
    "hot.addChild(tea)\n",
    "hot.addChild(coffee)\n",
    "print(tree)"
   ]
  },
  {
   "cell_type": "code",
   "execution_count": null,
   "id": "5c809174",
   "metadata": {},
   "outputs": [],
   "source": []
  },
  {
   "cell_type": "code",
   "execution_count": null,
   "id": "f9b38ac0",
   "metadata": {},
   "outputs": [],
   "source": []
  },
  {
   "cell_type": "code",
   "execution_count": null,
   "id": "ece19b25",
   "metadata": {},
   "outputs": [],
   "source": []
  },
  {
   "cell_type": "code",
   "execution_count": null,
   "id": "74ed523b",
   "metadata": {},
   "outputs": [],
   "source": []
  },
  {
   "cell_type": "code",
   "execution_count": null,
   "id": "37045d4f",
   "metadata": {},
   "outputs": [],
   "source": []
  }
 ],
 "metadata": {
  "kernelspec": {
   "display_name": "Python 3",
   "language": "python",
   "name": "python3"
  },
  "language_info": {
   "codemirror_mode": {
    "name": "ipython",
    "version": 3
   },
   "file_extension": ".py",
   "mimetype": "text/x-python",
   "name": "python",
   "nbconvert_exporter": "python",
   "pygments_lexer": "ipython3",
   "version": "3.8.8"
  }
 },
 "nbformat": 4,
 "nbformat_minor": 5
}
