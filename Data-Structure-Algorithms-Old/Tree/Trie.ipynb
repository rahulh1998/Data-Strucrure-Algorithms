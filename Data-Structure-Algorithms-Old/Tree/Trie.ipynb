{
 "cells": [
  {
   "cell_type": "markdown",
   "id": "52f619d0",
   "metadata": {},
   "source": [
    "<h1 style= 'background-color:DarkSalmon;font-size:80px;color:white;text-align:center'> TRIE</h1>"
   ]
  },
  {
   "cell_type": "markdown",
   "id": "e68f7356",
   "metadata": {},
   "source": [
    "### Dictionary Basics Refresh"
   ]
  },
  {
   "cell_type": "code",
   "execution_count": 1,
   "id": "e5e875d9",
   "metadata": {},
   "outputs": [],
   "source": [
    "d = {\n",
    "    'a'  : [1,2,3],\n",
    "    'b'  : [5,6,7]\n",
    "}"
   ]
  },
  {
   "cell_type": "code",
   "execution_count": 2,
   "id": "a1c41f06",
   "metadata": {},
   "outputs": [
    {
     "data": {
      "text/plain": [
       "[5, 6, 7]"
      ]
     },
     "execution_count": 2,
     "metadata": {},
     "output_type": "execute_result"
    }
   ],
   "source": [
    "d.get('b')"
   ]
  },
  {
   "cell_type": "code",
   "execution_count": 3,
   "id": "484a620d",
   "metadata": {},
   "outputs": [
    {
     "data": {
      "text/plain": [
       "{'a': [1, 2, 3], 'b': 'hello'}"
      ]
     },
     "execution_count": 3,
     "metadata": {},
     "output_type": "execute_result"
    }
   ],
   "source": [
    "d.update({'b':'hello'})\n",
    "d"
   ]
  },
  {
   "cell_type": "code",
   "execution_count": 4,
   "id": "616f1a4c",
   "metadata": {},
   "outputs": [
    {
     "data": {
      "text/plain": [
       "{'a': [1, 2, 3], 'b': 'hello', 'Rahul': 'Hirondi'}"
      ]
     },
     "execution_count": 4,
     "metadata": {},
     "output_type": "execute_result"
    }
   ],
   "source": [
    "d.update({'Rahul':'Hirondi'}) #Adds new key pair if this key pair doesn't exist in the Dictionary\n",
    "d"
   ]
  },
  {
   "cell_type": "markdown",
   "id": "e15dc5cb",
   "metadata": {},
   "source": [
    "<h1 style= 'background-color:DarkSalmon;font-size:40px;color:white;text-align:center'> Trie Data Structure</h1>"
   ]
  },
  {
   "cell_type": "code",
   "execution_count": 13,
   "id": "65cc450f",
   "metadata": {},
   "outputs": [],
   "source": [
    "class TrieNode:\n",
    "    def __init__(self):\n",
    "        self.children = {}\n",
    "        self.endOfString = False\n",
    "        \n",
    "class Trie:\n",
    "    def __init__(self):\n",
    "        self.root = TrieNode()\n",
    "        \n",
    "    def insertString(self, word):\n",
    "        current = self.root\n",
    "        for i in word:\n",
    "            ch = i\n",
    "            node = current.children.get(ch)\n",
    "            if node == None:\n",
    "                node = TrieNode()\n",
    "                current.children.update({ch:node})\n",
    "            current = node\n",
    "        current.endOfString = True\n",
    "        print(\"Successfully inserted\")\n",
    "         \n",
    "    def searchString(self,word):\n",
    "        current = self.root\n",
    "        for i in word:\n",
    "            node = current.children.get(i)\n",
    "            if node == None:\n",
    "                return False\n",
    "            current = node\n",
    "        \n",
    "        if current.endOfString == True:\n",
    "            return True\n",
    "        else:\n",
    "            return False\n",
    "        \n",
    "        "
   ]
  },
  {
   "cell_type": "code",
   "execution_count": 14,
   "id": "afecd827",
   "metadata": {},
   "outputs": [
    {
     "name": "stdout",
     "output_type": "stream",
     "text": [
      "Successfully inserted\n",
      "Successfully inserted\n",
      "True\n"
     ]
    }
   ],
   "source": [
    "newTrie = Trie()\n",
    "newTrie.insertString(\"App\")\n",
    "newTrie.insertString(\"Appl\")\n",
    "print(newTrie.searchString(\"App\"))"
   ]
  },
  {
   "cell_type": "code",
   "execution_count": null,
   "id": "a79f4080",
   "metadata": {},
   "outputs": [],
   "source": []
  }
 ],
 "metadata": {
  "kernelspec": {
   "display_name": "Python 3",
   "language": "python",
   "name": "python3"
  },
  "language_info": {
   "codemirror_mode": {
    "name": "ipython",
    "version": 3
   },
   "file_extension": ".py",
   "mimetype": "text/x-python",
   "name": "python",
   "nbconvert_exporter": "python",
   "pygments_lexer": "ipython3",
   "version": "3.8.8"
  }
 },
 "nbformat": 4,
 "nbformat_minor": 5
}
