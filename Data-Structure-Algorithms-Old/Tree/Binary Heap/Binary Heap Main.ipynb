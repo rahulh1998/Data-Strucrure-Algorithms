{
 "cells": [
  {
   "cell_type": "markdown",
   "id": "4c4b6d95",
   "metadata": {},
   "source": [
    "<h1 style= 'background-color:DarkSalmon;font-size:80px;color:white;text-align:center'> Binary Heap</h1>"
   ]
  },
  {
   "cell_type": "markdown",
   "id": "bd824c98",
   "metadata": {},
   "source": [
    "<pre style= 'background-color:#34495E ;font-size:15px;color:white;'> \n",
    "    Binary heap are a type of binary tree in which node value is always greater/smaller than its child node.\n",
    "    Two types of binary heap-\n",
    "        1. Min Binary Heap\n",
    "        2. Max Binary Heap\n",
    "        \n",
    "    Key Pointers:\n",
    "        1. We use index = 1 as it makes our mathematical calulation easier. \n",
    "        2. For finding left child we use : 2X (Where X is the index of the rootnode)\n",
    "        3. For finding Right child we use : 2X+1 (Where X is the index of the rootnode)\n",
    "        4. Peek() is used to get the first element of the heap\n",
    "        5. Size of heap means no of elements present in the heap\n",
    "        5.\n",
    "        \n",
    "        \n",
    "</pre>"
   ]
  },
  {
   "cell_type": "code",
   "execution_count": 1,
   "id": "ddd40746",
   "metadata": {},
   "outputs": [],
   "source": [
    "class Heap:\n",
    "    def __init__(self,size):\n",
    "        self.customList = (size+1)*[None]\n",
    "        self.maxSize = size+1\n",
    "        self.heapSize = 0\n",
    "        \n",
    "def levelOrderTraversal(rootnode):\n",
    "    if not rootnode:\n",
    "        return \n",
    "    else:\n",
    "        for i in range(1,rootnode.heapSize+1):\n",
    "            print(rootnode.customList[i])\n",
    "\n",
    "def heapifyInsertNode(rootnode,index,heapType):\n",
    "    parent = int(index/2)\n",
    "    if index <=1:\n",
    "        return \n",
    "    else:\n",
    "        if heapType == \"Min\":\n",
    "            if rootnode.customList[parent] > rootnode.customList[index]:\n",
    "                temp = rootnode.customList[parent]\n",
    "                rootnode.customList[parent] = rootnode.customList[index]\n",
    "                rootnode.customList[index] = temp\n",
    "            heapifyInsertNode(rootnode,parent,heapType)\n",
    "        \n",
    "        else:\n",
    "            if rootnode.customList[parent] < rootnode.customList[index]:\n",
    "                temp = rootnode.customList[parent]\n",
    "                rootnode.customList[parent] = rootnode.customList[index]\n",
    "                rootnode.customList[index] = temp\n",
    "            heapifyInsertNode(rootnode,parent,heapType)\n",
    "            \n",
    "def insertNode(rootnode,nodevalue, heapType):\n",
    "    if rootnode.heapSize +1 == rootnode.maxSize:\n",
    "        return \"Heap is full\"\n",
    "    else:\n",
    "        rootnode.customList[rootnode.heapSize+1] = nodevalue\n",
    "        rootnode.heapSize +=1\n",
    "        \n",
    "        heapifyInsertNode(rootnode,rootnode.heapSize,heapType)\n",
    "        return \"Value has been successfully inserted\"\n",
    "\n",
    "def heapifyTreeExtract(rootnode,index,heapType):\n",
    "    leftChildIndex = index*2\n",
    "    rightChildIndex = index*2+1\n",
    "    swapChild = 0\n",
    "    \n",
    "    if rootnode.heapSize < rootnode.leftChildIndex: # single or no node\n",
    "        return \n",
    "    elif rootnode.heapSize == leftChildIndex: # Two nodes : one is parent & another is leftchild\n",
    "        if heapType == \"Min\":\n",
    "            if rootnode.customList[index] > rootnode.customList[leftChildIndex]:\n",
    "                temp = rootnode.customList[index]\n",
    "                rootnode.customList[index] = rootnode.customList[leftChildIndex]\n",
    "                rootnode.customList[leftChildIndex] = temp\n",
    "                return \n",
    "            \n",
    "        else:\n",
    "            if rootnode.customList[index] < rootnode.customList[leftChildIndex]:\n",
    "                temp = rootnode.customList[index]\n",
    "                rootnode.customList[index] = rootnode.customList[leftChildIndex]\n",
    "                rootnode.customList[leftChildIndex] = temp\n",
    "                return \n",
    "    else: # three nodes -> parent,leftChild & rightChild\n",
    "        if heapType == \"Min\":\n",
    "            if rootnode.customList[leftChildIndex] < rootnode.customList[rightChildIndex]:\n",
    "                swapChild =  leftChildIndex\n",
    "            else :\n",
    "                swapChild = rightChildIndex\n",
    "                \n",
    "            if rootnode.customList[index] > rootnode.customList[swapChild]:\n",
    "                temp = rootnode.customList[index]\n",
    "                rootnode.customList[index] = rootnode.customList[swapChild]\n",
    "                rootnode.customList[swapChild] = temp\n",
    "                heapifyInsertNode(rootnode,swapChild,heapType)\n",
    "                \n",
    "        else:\n",
    "            if rootnode.customList[leftChildIndex] > rootnode.customList[rightChildIndex]:\n",
    "                swapChild =  leftChildIndex\n",
    "            else :\n",
    "                swapChild = rightChildIndex\n",
    "                \n",
    "            if rootnode.customList[index] < rootnode.customList[swapChild]:\n",
    "                temp = rootnode.customList[index]\n",
    "                rootnode.customList[index] = rootnode.customList[swapChild]\n",
    "                rootnode.customList[swapChild] = temp\n",
    "                heapifyInsertNode(rootnode,swapChild,heapType)\n",
    "    \n",
    "def extractNode(rootnode,heapType):\n",
    "    if rootnode.heapSize == 0:\n",
    "        return\n",
    "    else:\n",
    "        extractedNode = rootnode.customList[1]\n",
    "        rootnode.customList[1] = rootnode.customList[rootnode.heapSize]\n",
    "        rootnode.customList[rootnode.heapSize] = None\n",
    "        rootnode.heapSize -= 1\n",
    "        heapifyTreeExtract(rootnode, 1, heapType)\n",
    "        return extractedNode\n",
    "    \n",
    "def deleteEntireBP(rootNode):\n",
    "    rootNode.customList = None"
   ]
  },
  {
   "cell_type": "code",
   "execution_count": 2,
   "id": "8dbd0a00",
   "metadata": {},
   "outputs": [
    {
     "name": "stdout",
     "output_type": "stream",
     "text": [
      "5\n",
      "4\n",
      "3\n",
      "2\n",
      "1\n"
     ]
    }
   ],
   "source": [
    "newHeap = Heap(5)\n",
    "\n",
    "insertNode(newHeap, 5, \"Max\")\n",
    "insertNode(newHeap, 4, \"Max\")\n",
    "insertNode(newHeap, 3, \"Max\")\n",
    "insertNode(newHeap, 2, \"Max\")\n",
    "insertNode(newHeap, 1, \"Max\")\n",
    "levelOrderTraversal(newHeap)\n"
   ]
  },
  {
   "cell_type": "code",
   "execution_count": 3,
   "id": "00558308",
   "metadata": {},
   "outputs": [
    {
     "name": "stdout",
     "output_type": "stream",
     "text": [
      "1\n",
      "2\n",
      "4\n",
      "5\n",
      "3\n"
     ]
    }
   ],
   "source": [
    "newHeap = Heap(5)\n",
    "\n",
    "insertNode(newHeap, 5, \"Min\")\n",
    "insertNode(newHeap, 4, \"Min\")\n",
    "insertNode(newHeap, 3, \"Min\")\n",
    "insertNode(newHeap, 2, \"Min\")\n",
    "insertNode(newHeap, 1, \"Min\")\n",
    "levelOrderTraversal(newHeap)\n"
   ]
  },
  {
   "cell_type": "code",
   "execution_count": null,
   "id": "bfb62481",
   "metadata": {},
   "outputs": [],
   "source": []
  }
 ],
 "metadata": {
  "kernelspec": {
   "display_name": "Python 3",
   "language": "python",
   "name": "python3"
  },
  "language_info": {
   "codemirror_mode": {
    "name": "ipython",
    "version": 3
   },
   "file_extension": ".py",
   "mimetype": "text/x-python",
   "name": "python",
   "nbconvert_exporter": "python",
   "pygments_lexer": "ipython3",
   "version": "3.8.8"
  }
 },
 "nbformat": 4,
 "nbformat_minor": 5
}
