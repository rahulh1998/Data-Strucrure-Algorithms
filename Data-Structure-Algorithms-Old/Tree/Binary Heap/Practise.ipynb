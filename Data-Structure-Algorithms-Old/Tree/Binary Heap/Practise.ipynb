{
 "cells": [
  {
   "cell_type": "code",
   "execution_count": 1,
   "id": "efd63c83",
   "metadata": {},
   "outputs": [],
   "source": [
    "class Heap:\n",
    "    def __init__(self,size):\n",
    "        self.customList = [None]*(size+1)\n",
    "        self.maxSize = size+1\n",
    "        self.heapSize = 0\n",
    "        \n",
    "def levelOrderTraversal(rootnode):\n",
    "    if not rootnode:\n",
    "        return\n",
    "    for i in range(1,rootnode.heapSize+1):\n",
    "        print(rootnode.customList[i])\n",
    "    \n",
    "def heapifyTreeInsert(rootnode,index,heapType):\n",
    "    if index <= 1:\n",
    "        return\n",
    "    parent = index//2\n",
    "    if heapType == \"Min\":\n",
    "        if rootnode.customList[index] < rootnode.customList[parent]:\n",
    "            temp = rootnode.customList[index]\n",
    "            rootnode.customList[index] = rootnode.customList[parent]\n",
    "            rootnode.customList[parent] = temp\n",
    "            heapifyTreeInsert(rootnode,parent,heapType)\n",
    "    else:\n",
    "        if rootnode.customList[index] > rootnode.customList[parent]:\n",
    "            temp = rootnode.customList[index]\n",
    "            rootnode.customList[index] = rootnode.customList[parent]\n",
    "            rootnode.customList[parent] = temp\n",
    "            heapifyTreeInsert(rootnode,parent,heapType)\n",
    "\n",
    "def insertNode(rootnode,nodeValue,heapType):\n",
    "    if rootnode.heapSize+1 == rootnode.maxSize:\n",
    "        return \"Heap is full\"\n",
    "    else:\n",
    "        rootnode.customList[rootnode.heapSize+1] = nodeValue\n",
    "        rootnode.heapSize+=1\n",
    "        heapifyTreeInsert(rootnode,rootnode.heapSize,heapType)\n",
    "        return \"Node inserted successfully\"\n",
    "\n",
    "def heapifyTreeExtract(rootnode, index, heapType):\n",
    "    leftChildIndex = 2*index\n",
    "    rightChildIndex = 2*index + 1\n",
    "    swapchild = 0\n",
    "    \n",
    "    if rootnode.heapSize < leftChildIndex:\n",
    "        return\n",
    "    \n",
    "    elif rootnode.heapSize == leftChildIndex:\n",
    "        if heapType == \"Min\":\n",
    "            if rootnode.customList[index] > rootnode.customList[leftChildIndex]:\n",
    "                temp = rootnode.customList[index]\n",
    "                rootnode.customList[index] = rootnode.customList[leftChildIndex]\n",
    "                rootnode.customList[leftChildIndex] = temp\n",
    "                heapifyTreeInsert(rootnode,leftChildIndex,heapType)\n",
    "        else:\n",
    "            if rootnode.customList[index] < rootnode.customList[leftChildIndex]:\n",
    "                temp = rootnode.customList[index]\n",
    "                rootnode.customList[index] = rootnode.customList[leftChildIndex]\n",
    "                rootnode.customList[leftChildIndex] = temp\n",
    "                heapifyTreeInsert(rootnode,leftChildIndex,heapType)\n",
    "    else:\n",
    "        if rootnode.customList[leftChildIndex] < rootnode.customList[rightChildIndex]:\n",
    "            swapchild = leftChildIndex\n",
    "        else:\n",
    "            swapchild = rightChildIndex\n",
    "        \n",
    "        if heapType == Min:\n",
    "            if rootnode.customList[index] > rootnode.customList[swapchild]:\n",
    "                temp = rootnode.customList[index]\n",
    "                rootnode.customList[index] = rootnode.customList[swapchild]\n",
    "                rootnode.customList[index] = temp\n",
    "                heapifyTreeInsert(rootnode,swapchild,heapType)\n",
    "        else:\n",
    "            if rootnode.customList[index] < rootnode.customList[swapchild]:\n",
    "                temp = rootnode.customList[index]\n",
    "                rootnode.customList[index] = rootnode.customList[swapchild]\n",
    "                rootnode.customList[index] = temp\n",
    "                heapifyTreeInsert(rootnode,swapchild,heapType)\n",
    "\n",
    "def heapifyExtract(rootnode,heapType):\n",
    "    extractedNode = rootnode.customList[1]\n",
    "    rootnode.customList[1] = rootnode.customList[heapSize+1]\n",
    "    rootnode.heapSize-=1\n",
    "    heapifyTreeExtract(rootnode,heapSize,heapType)\n",
    "    return extractedNode"
   ]
  },
  {
   "cell_type": "code",
   "execution_count": 2,
   "id": "dccfd5fc",
   "metadata": {},
   "outputs": [
    {
     "name": "stdout",
     "output_type": "stream",
     "text": [
      "5\n",
      "4\n",
      "3\n",
      "2\n",
      "1\n"
     ]
    }
   ],
   "source": [
    "newHeap = Heap(5)\n",
    "insertNode(newHeap, 5, \"Max\")\n",
    "insertNode(newHeap, 4, \"Max\")\n",
    "insertNode(newHeap, 3, \"Max\")\n",
    "insertNode(newHeap, 2, \"Max\")\n",
    "insertNode(newHeap, 1, \"Max\")\n",
    "levelOrderTraversal(newHeap)"
   ]
  },
  {
   "cell_type": "code",
   "execution_count": 3,
   "id": "2bebeba0",
   "metadata": {},
   "outputs": [
    {
     "name": "stdout",
     "output_type": "stream",
     "text": [
      "1\n",
      "2\n",
      "4\n",
      "5\n",
      "3\n"
     ]
    }
   ],
   "source": [
    "newHeap = Heap(5)\n",
    "insertNode(newHeap, 5, \"Min\")\n",
    "insertNode(newHeap, 4, \"Min\")\n",
    "insertNode(newHeap, 3, \"Min\")\n",
    "insertNode(newHeap, 2, \"Min\")\n",
    "insertNode(newHeap, 1, \"Min\")\n",
    "levelOrderTraversal(newHeap)"
   ]
  },
  {
   "cell_type": "code",
   "execution_count": null,
   "id": "66d67b75",
   "metadata": {},
   "outputs": [],
   "source": []
  },
  {
   "cell_type": "code",
   "execution_count": null,
   "id": "6216e1c1",
   "metadata": {},
   "outputs": [],
   "source": []
  }
 ],
 "metadata": {
  "kernelspec": {
   "display_name": "Python 3",
   "language": "python",
   "name": "python3"
  },
  "language_info": {
   "codemirror_mode": {
    "name": "ipython",
    "version": 3
   },
   "file_extension": ".py",
   "mimetype": "text/x-python",
   "name": "python",
   "nbconvert_exporter": "python",
   "pygments_lexer": "ipython3",
   "version": "3.8.8"
  }
 },
 "nbformat": 4,
 "nbformat_minor": 5
}
