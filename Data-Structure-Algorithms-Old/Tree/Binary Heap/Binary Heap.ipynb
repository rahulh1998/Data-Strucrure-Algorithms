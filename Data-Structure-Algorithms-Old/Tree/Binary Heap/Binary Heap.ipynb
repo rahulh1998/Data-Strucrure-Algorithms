{
 "cells": [
  {
   "cell_type": "markdown",
   "id": "d7016329",
   "metadata": {},
   "source": [
    "<h1 style= 'background-color:DarkSalmon;font-size:80px;color:white;text-align:center'> Binary Heap</h1>"
   ]
  },
  {
   "cell_type": "markdown",
   "id": "dba26afa",
   "metadata": {},
   "source": [
    "<pre style= 'background-color:#34495E ;font-size:15px;color:white;'> \n",
    "    Binary heap are a type of binary tree in which node value is always greater/smaller than its child node.\n",
    "    Two types of binary heap-\n",
    "        1. Min Binary Heap\n",
    "        2. Max Binary Heap\n",
    "        \n",
    "    Key Pointers:\n",
    "        1. We use index = 1 as it makes our mathematical calulation easier. \n",
    "        2. For finding left child we use : 2X (Where X is the index of the rootnode)\n",
    "        3. For finding Right child we use : 2X+1 (Where X is the index of the rootnode)\n",
    "        4. Peek() is used to get the first element of the heap\n",
    "        5. Size of heap means no of elements present in the heap\n",
    "        5.\n",
    "        \n",
    "        \n",
    "</pre>"
   ]
  },
  {
   "cell_type": "code",
   "execution_count": 1,
   "id": "16d1ffaa",
   "metadata": {},
   "outputs": [],
   "source": [
    "class Heap:\n",
    "    def __init__(self,size):\n",
    "        self.customList = (size+1)*[None]\n",
    "        self.heapSize = 0\n",
    "        self.maxSize = size + 1\n",
    "        \n",
    "def peek(rootnode):\n",
    "    if not rootnode:\n",
    "        return\n",
    "    else:\n",
    "        rootnode.customList[1]\n",
    "            \n",
    "def sizeOfHeap(rootnode):\n",
    "    if not rootnode:\n",
    "        return\n",
    "    else:\n",
    "        return rootnode.heapSize\n",
    "        \n",
    "def levelOrderTraversal(rootnode):\n",
    "    if not rootnode:\n",
    "        return \n",
    "    else:\n",
    "        for i in range(1,rootnode.heapSize + 1):\n",
    "            print(rootnode.customList[i])\n",
    "                \n",
    "def heapifyTreeInsert( rootnode,index,heapType) :\n",
    "    parentIndex = index//2\n",
    "    if index <=1:\n",
    "        return\n",
    "    if heapType == 'Min':\n",
    "        if rootnode.customList[parentIndex]> rootnode.customList[index]:\n",
    "            temp = rootnode.customList[parentIndex]\n",
    "            rootnode.customList[parentIndex] = rootnode.customList[index]\n",
    "            rootnode.customList[index] = temp\n",
    "            \n",
    "        heapifyTreeInsert(rootnode,parentIndex,heapType)\n",
    "        \n",
    "    elif heapType == 'Max':\n",
    "        if rootnode.customList[parentIndex]<rootnode.customList[index]:\n",
    "            temp = rootnode.customList[parentIndex]\n",
    "            rootnode.customList[parentIndex] = rootnode.customList[index]\n",
    "            rootnode.customList[index] = temp\n",
    "        heapifyTreeInsert(rootnode,parentIndex,heapType)\n",
    "\n",
    "def insertNode(rootnode,nodeValue,heapType):\n",
    "    if rootnode.heapSize+1 == rootnode.maxSize:\n",
    "        return \" Heap is full\"\n",
    "    else:\n",
    "        rootnode.customList[rootnode.heapSize+1] = nodeValue\n",
    "        rootnode.heapSize +=1\n",
    "        heapifyTreeInsert(rootnode, rootnode.heapSize, heapType)\n",
    "        return \"Value has been successfully inserted\"\n"
   ]
  },
  {
   "cell_type": "code",
   "execution_count": 2,
   "id": "1791e480",
   "metadata": {},
   "outputs": [
    {
     "data": {
      "text/plain": [
       "' Heap is full'"
      ]
     },
     "execution_count": 2,
     "metadata": {},
     "output_type": "execute_result"
    }
   ],
   "source": [
    "h = Heap(5)\n",
    "insertNode(h,1,'Min')\n",
    "insertNode(h,3,'Min')\n",
    "insertNode(h,4,'Min')\n",
    "insertNode(h,2,'Min')\n",
    "insertNode(h,5,'Min')\n",
    "insertNode(h,10,'Min')"
   ]
  },
  {
   "cell_type": "code",
   "execution_count": 3,
   "id": "7f577c6a",
   "metadata": {},
   "outputs": [
    {
     "name": "stdout",
     "output_type": "stream",
     "text": [
      "1\n",
      "2\n",
      "4\n",
      "3\n",
      "5\n"
     ]
    }
   ],
   "source": [
    "levelOrderTraversal(h)"
   ]
  },
  {
   "cell_type": "code",
   "execution_count": 4,
   "id": "b27d28b6",
   "metadata": {},
   "outputs": [
    {
     "data": {
      "text/plain": [
       "' Heap is full'"
      ]
     },
     "execution_count": 4,
     "metadata": {},
     "output_type": "execute_result"
    }
   ],
   "source": [
    "h = Heap(5)\n",
    "insertNode(h,1,'Max')\n",
    "insertNode(h,3,'Max')\n",
    "insertNode(h,4,'Max')\n",
    "insertNode(h,2,'Max')\n",
    "insertNode(h,5,'Max')\n",
    "insertNode(h,10,'Max')"
   ]
  },
  {
   "cell_type": "code",
   "execution_count": 5,
   "id": "e2cc10c0",
   "metadata": {},
   "outputs": [
    {
     "name": "stdout",
     "output_type": "stream",
     "text": [
      "5\n",
      "4\n",
      "3\n",
      "1\n",
      "2\n"
     ]
    }
   ],
   "source": [
    "levelOrderTraversal(h)"
   ]
  },
  {
   "cell_type": "code",
   "execution_count": 27,
   "id": "215edf2f",
   "metadata": {},
   "outputs": [],
   "source": [
    "# This is just an revision ipynb\n",
    "class Heap:\n",
    "    def __init__(self,size):\n",
    "        self.customlist = (size+1)*[None]\n",
    "        self.heapsize = 0\n",
    "        self.maxSize = size+1\n",
    "        \n",
    "def levelOrderTraversal(rootnode):\n",
    "    for i in range(1,rootnode.heapsize+1):\n",
    "        print(rootnode.customlist[i])\n",
    "\n",
    "def heapifyTreeInsert(rootnode,index,heaptype):\n",
    "    parent = index//2\n",
    "    if index <= 1:\n",
    "        return \n",
    "    else:\n",
    "        if heaptype == \"Min\":\n",
    "            if  rootnode.customlist[parent] > rootnode.customlist[index]:\n",
    "                temp = rootnode.customlist[parent]\n",
    "                rootnode.customlist[parent] = rootnode.customlist[index]\n",
    "                rootnode.customlist[index] = temp\n",
    "            heapifyTreeInsert(rootnode,parent,heaptype)\n",
    "        else:\n",
    "            if rootnode.customlist[parent] < rootnode.customlist[index]:\n",
    "                temp = rootnode.customlist[parent]\n",
    "                rootnode.customlist[parent] = rootnode.customlist[index]\n",
    "                rootnode.customlist[index] = temp\n",
    "            heapifyTreeInsert(rootnode,parent,heaptype)\n",
    "\n",
    "def insertNode(rootnode,nodevalue,heaptype):\n",
    "    if rootnode.heapsize+1 == rootnode.maxSize:\n",
    "        return \"Heap is full\"\n",
    "    else:\n",
    "        rootnode.customlist[rootnode.heapsize+1] = nodevalue\n",
    "        rootnode.heapsize+=1\n",
    "        heapifyTreeInsert(rootnode,rootnode.heapsize,heaptype)\n",
    "        return('Node inserted successfully')\n",
    "    \n",
    "def heapifyTreeExtract(rootnode,index,heaptype):\n",
    "    leftChildIndex = index*2\n",
    "    rightChildIndex = index*2+1\n",
    "    swapchild = 0\n",
    "\n",
    "    if rootnode.heapsize < rootnode.leftChildIndex:\n",
    "        return\n",
    "    elif rootnode.heapsize == leftChildIndex:\n",
    "        if heaptype == \"Min\":\n",
    "            if rootnode.customlist[index] > rootnode.customlist[leftChildIndex]:\n",
    "                temp = rootnode.customlist[index]\n",
    "                rootnode.customlist[index] = rootnode.customlist[leftChildIndex]\n",
    "                rootnode.customlist[leftChildIndex] = temp\n",
    "                heapifyTreeInsert(rootnode,leftChildIndex,heaptype)\n",
    "        else:\n",
    "            if rootnode.customlist[index] < rootnode.customlist[leftChildIndex]:\n",
    "                temp = rootnode.customlist[index]\n",
    "                rootnode.customlist[index] = rootnode.customlist[leftChildIndex]\n",
    "                rootnode.customlist[leftChildIndex] = temp\n",
    "                heapifyTreeInsert(rootnode,leftChildIndex,heaptype)\n",
    "    else:\n",
    "        if rootnode.customlist[leftChildIndex] > rootnode.customlist[rightChildIndex]:\n",
    "            swapchild = leftChildIndex\n",
    "        else:\n",
    "            swapchild = rightChildIndex\n",
    "            if heaptype == \"Min\":\n",
    "                if rootnode.customlist[index]>rootnode.customlist[swapchild]:\n",
    "                    temp = rootnode.customlist[index]\n",
    "                    rootnode.customlist[index] = rootnode.customlist[swapchild]\n",
    "                    rootnode.customlist[swapchild] = temp\n",
    "                    heapifyTreeInsert(rootnode,swapchild,heaptype)\n",
    "            else:\n",
    "                if rootnode.customlist[index]<rootnode.customlist[swapchild]:\n",
    "                    temp = rootnode.customlist[index]\n",
    "                    rootnode.customlist[index] = rootnode.customlist[swapchild]\n",
    "                    rootnode.customlist[swapchild] = temp\n",
    "                    heapifyTreeInsert(rootnode,swapchild,heaptype)\n",
    "\n",
    "def extractNode(rootnode,heaptype):\n",
    "    if rootnode.heapsize == 0:\n",
    "        return \n",
    "    else:\n",
    "        extractedNode = rootnode.customlist[1]\n",
    "        rootnode.customlist[1] = rootnode.customlist[heapsize+1]\n",
    "        rootnode.customlist[heapsize+1] = None\n",
    "        rootnode.heapsize-=1\n",
    "        heapifyTreeInsert(rootnode,1,heaptype)\n",
    "        return(extractedNode)"
   ]
  },
  {
   "cell_type": "code",
   "execution_count": 28,
   "id": "efb2566d",
   "metadata": {},
   "outputs": [
    {
     "name": "stdout",
     "output_type": "stream",
     "text": [
      "5\n",
      "4\n",
      "3\n",
      "2\n",
      "1\n"
     ]
    }
   ],
   "source": [
    "newHeap = Heap(5)\n",
    "\n",
    "insertNode(newHeap, 5, \"Max\")\n",
    "insertNode(newHeap, 4, \"Max\")\n",
    "insertNode(newHeap, 3, \"Max\")\n",
    "insertNode(newHeap, 2, \"Max\")\n",
    "insertNode(newHeap, 1, \"Max\")\n",
    "levelOrderTraversal(newHeap)\n"
   ]
  },
  {
   "cell_type": "code",
   "execution_count": 29,
   "id": "bb02bcac",
   "metadata": {},
   "outputs": [
    {
     "name": "stdout",
     "output_type": "stream",
     "text": [
      "1\n",
      "2\n",
      "4\n",
      "5\n",
      "3\n"
     ]
    }
   ],
   "source": [
    "newHeap = Heap(5)\n",
    "\n",
    "insertNode(newHeap, 5, \"Min\")\n",
    "insertNode(newHeap, 4, \"Min\")\n",
    "insertNode(newHeap, 3, \"Min\")\n",
    "insertNode(newHeap, 2, \"Min\")\n",
    "insertNode(newHeap, 1, \"Min\")\n",
    "levelOrderTraversal(newHeap)\n"
   ]
  },
  {
   "cell_type": "code",
   "execution_count": null,
   "id": "7fc21e15",
   "metadata": {},
   "outputs": [],
   "source": []
  }
 ],
 "metadata": {
  "kernelspec": {
   "display_name": "Python 3",
   "language": "python",
   "name": "python3"
  },
  "language_info": {
   "codemirror_mode": {
    "name": "ipython",
    "version": 3
   },
   "file_extension": ".py",
   "mimetype": "text/x-python",
   "name": "python",
   "nbconvert_exporter": "python",
   "pygments_lexer": "ipython3",
   "version": "3.8.8"
  }
 },
 "nbformat": 4,
 "nbformat_minor": 5
}
