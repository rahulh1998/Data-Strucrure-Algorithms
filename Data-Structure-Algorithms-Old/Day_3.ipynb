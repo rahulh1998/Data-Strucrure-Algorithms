{
 "cells": [
  {
   "cell_type": "code",
   "execution_count": 1,
   "metadata": {},
   "outputs": [],
   "source": [
    "# Binary Search Interview Questions"
   ]
  },
  {
   "cell_type": "code",
   "execution_count": 12,
   "metadata": {},
   "outputs": [],
   "source": [
    "def ceilingOfaNumber(arr,target): # smallest higher number >= target\n",
    "    start = 0 \n",
    "    end = len(arr) - 1\n",
    "    \n",
    "    \n",
    "    while start <= end:\n",
    "        mid = start + (end - start)//2\n",
    "\n",
    "        if target > arr[mid]:\n",
    "            start = mid + 1\n",
    "        \n",
    "        elif target < arr[mid]:\n",
    "            end = mid -1\n",
    "        \n",
    "        else:\n",
    "            return mid \n",
    "           \n",
    "    return start\n",
    "    \n",
    "    ceilingOfaNumber([0, 1, 2, 3, 4, 5, 6,  8, 9],7)"
   ]
  },
  {
   "cell_type": "code",
   "execution_count": 1,
   "metadata": {},
   "outputs": [
    {
     "data": {
      "text/plain": [
       "'c'"
      ]
     },
     "execution_count": 1,
     "metadata": {},
     "output_type": "execute_result"
    }
   ],
   "source": [
    "# Smallest letter greater than target in a sorted array \n",
    "\n",
    "def nextGreatestLetter(letters,target):\n",
    "    start = 0\n",
    "    end = len(letters) -1\n",
    "    \n",
    "    while start <= end:\n",
    "        mid = start + (end -start)//2\n",
    "        \n",
    "        if target < letters[mid]:\n",
    "            end = mid -1\n",
    "        else:\n",
    "            start = mid+1\n",
    "            \n",
    "    \n",
    "    return letters[start%len(letters)]\n",
    "\n",
    "nextGreatestLetter(letters = [\"c\",\"f\",\"j\"], target = \"a\")"
   ]
  },
  {
   "cell_type": "code",
   "execution_count": 13,
   "metadata": {},
   "outputs": [
    {
     "data": {
      "text/plain": [
       "6"
      ]
     },
     "execution_count": 13,
     "metadata": {},
     "output_type": "execute_result"
    }
   ],
   "source": [
    "def floorOfaNumber(arr,target): # highest smaller number <= target\n",
    "    start = 0 \n",
    "    end = len(arr) - 1\n",
    "    \n",
    "    \n",
    "    while start <= end:\n",
    "        mid = start + (end - start)//2\n",
    "\n",
    "        if target > arr[mid]:\n",
    "            start = mid + 1\n",
    "        \n",
    "        elif target < arr[mid]:\n",
    "            end = mid -1\n",
    "        \n",
    "        else:\n",
    "            return mid \n",
    "           \n",
    "    return end\n",
    "    \n",
    "floorOfaNumber([0, 1, 2, 3, 4, 5, 6,  8, 9],7)\n",
    "\n",
    "\n",
    "#[5, 6,  8, 9] #s = 5 end = 9 mid = 5+9//2 = 7\n",
    "                # mid = 7     mid[arrary] = 8     target = 7 \n",
    "                # target < mid[array]   7<8  end = mid-1    7-1 = 6    end = 6\n",
    "                # "
   ]
  },
  {
   "cell_type": "code",
   "execution_count": 15,
   "metadata": {},
   "outputs": [
    {
     "data": {
      "text/plain": [
       "97"
      ]
     },
     "execution_count": 15,
     "metadata": {},
     "output_type": "execute_result"
    }
   ],
   "source": [
    "ord('a')"
   ]
  },
  {
   "cell_type": "code",
   "execution_count": 25,
   "metadata": {},
   "outputs": [
    {
     "data": {
      "text/plain": [
       "[1, 2]"
      ]
     },
     "execution_count": 25,
     "metadata": {},
     "output_type": "execute_result"
    }
   ],
   "source": [
    "#first & last position of element in a sorted array - with O(n) complexity  #LeetCode Medium\n",
    "nums =  [5,7,7,8,8,10] \n",
    "target = 7\n",
    "op = [3,4] \n",
    "\n",
    "def firstLastPosition(nums,target):\n",
    "    start = 0\n",
    "    end = len(nums) - 1\n",
    "\n",
    "    l = []\n",
    "    for i in range(len(nums)):\n",
    "        if target == nums[i]:\n",
    "            l.append(i)\n",
    "    if len(l) >=1:\n",
    "        return [l[0],l[-1]]\n",
    "    else:\n",
    "        return [-1,-1]\n",
    "\n",
    "\n",
    "firstLastPosition(nums,target)"
   ]
  },
  {
   "cell_type": "code",
   "execution_count": 27,
   "metadata": {},
   "outputs": [
    {
     "data": {
      "text/plain": [
       "[3, 10]"
      ]
     },
     "execution_count": 27,
     "metadata": {},
     "output_type": "execute_result"
    }
   ],
   "source": [
    "#first & last position of element in a sorted array - with O(logn)) complexity # Leetcode Medium\n",
    "nums =  [5,7,7,8,8,8,8,8,8,8,8,10] \n",
    "target = 8\n",
    "\n",
    "def firstLastPosition(nums,target):\n",
    "    i = 0\n",
    "    l = []\n",
    "    end = len(nums)-1\n",
    "    while i <= end:\n",
    "        if target == nums[i]:\n",
    "            l.append(i)\n",
    "        i +=1\n",
    "    if len(l)>=1:\n",
    "        return [l[0],l[-1]]\n",
    "    else:\n",
    "        return [-1,-1]\n",
    "\n",
    "firstLastPosition(nums,target)"
   ]
  },
  {
   "cell_type": "code",
   "execution_count": 1,
   "metadata": {},
   "outputs": [
    {
     "data": {
      "text/plain": [
       "[3, 10]"
      ]
     },
     "execution_count": 1,
     "metadata": {},
     "output_type": "execute_result"
    }
   ],
   "source": [
    "# #first & last position of element in a sorted array  using binary search\n",
    "\n",
    "nums =  [5,7,7,8,8,8,8,8,8,8,8,10] \n",
    "target = 8\n",
    "\n",
    "def firstLastPosition(nums,target):\n",
    "    ans = [-1,-1]\n",
    "\n",
    "    ans[0] = search(nums,target,True)\n",
    "    \n",
    "    if ans[0]!= -1:\n",
    "        ans[1] = search(nums,target,False)\n",
    "\n",
    "    return ans\n",
    "\n",
    "def search(nums,target,isStartIndex):\n",
    "    start = 0 \n",
    "    end = len(nums) - 1\n",
    "    ans = -1\n",
    "\n",
    "    while start<=end:\n",
    "        mid = start + (end - start)//2\n",
    "\n",
    "        if target > nums[mid]:\n",
    "            start = mid +1\n",
    "\n",
    "        elif target < nums[mid]:\n",
    "            end = mid -1 \n",
    "        \n",
    "        else:\n",
    "            #possible ans\n",
    "            ans = mid\n",
    "            if isStartIndex:\n",
    "                end = mid -1\n",
    "            else:\n",
    "                start = mid + 1\n",
    "\n",
    "    return ans\n",
    "\n",
    "firstLastPosition(nums,target)"
   ]
  },
  {
   "cell_type": "code",
   "execution_count": 3,
   "metadata": {},
   "outputs": [
    {
     "data": {
      "text/plain": [
       "7"
      ]
     },
     "execution_count": 3,
     "metadata": {},
     "output_type": "execute_result"
    }
   ],
   "source": [
    "## Mountain array - Brute force\n",
    "\n",
    "nums = [1,3,5,7,6,4,2] # op should be 7\n",
    "\n",
    "\n",
    "def mountainArray(nums):\n",
    "    start = 0\n",
    "    while nums[start] < nums[start+1]:\n",
    "        start+=1\n",
    "    return (nums[start])\n",
    "\n",
    "mountainArray(nums)\n"
   ]
  },
  {
   "cell_type": "code",
   "execution_count": 21,
   "metadata": {},
   "outputs": [
    {
     "data": {
      "text/plain": [
       "5"
      ]
     },
     "execution_count": 21,
     "metadata": {},
     "output_type": "execute_result"
    }
   ],
   "source": [
    "## Mountain array - Binary Search   \n",
    "\n",
    "nums = [1,3,5,7,8,9,6,4,2] # op should be 5\n",
    "\n",
    "def mountainArray(nums):\n",
    "    start = 0 \n",
    "    end = len(nums) -1\n",
    "    while start < end:\n",
    "        mid = start + (end-start)//2 \n",
    "        if nums[mid] > nums[mid + 1]:\n",
    "            end = mid\n",
    "        else:\n",
    "            start = mid +1 \n",
    "    return start \n",
    "\n",
    "mountainArray(nums)"
   ]
  },
  {
   "cell_type": "code",
   "execution_count": 15,
   "metadata": {},
   "outputs": [
    {
     "data": {
      "text/plain": [
       "9"
      ]
     },
     "execution_count": 15,
     "metadata": {},
     "output_type": "execute_result"
    }
   ],
   "source": [
    "#162. Find Peak Element - LeetCode Medium & Exact Same Solution or Maximum element in an unsorted array\n",
    "\n",
    "nums = [1,2,1,3,5,4,6,2,3,9,4]\n",
    "def findPeakElement(nums):\n",
    "    start = 0 \n",
    "    end = len(nums) -1\n",
    "    while start < end:\n",
    "        mid = start + (end-start)//2 \n",
    "        if nums[mid] > nums[mid + 1]:\n",
    "            end = mid\n",
    "        else:\n",
    "            start = mid +1 \n",
    "    return start \n",
    "findPeakElement(nums)"
   ]
  },
  {
   "cell_type": "code",
   "execution_count": 23,
   "metadata": {},
   "outputs": [
    {
     "name": "stdout",
     "output_type": "stream",
     "text": [
      "-1\n"
     ]
    }
   ],
   "source": [
    "# 33. Search in Rotated Sorted Array \n",
    "\n",
    "nums = [ 4,5,6,7,0,1,2]\n",
    "target = 0 # op = 4\n",
    "\n",
    "#find pivot first\n",
    "\n",
    "def getPivot(nums):\n",
    "    start = 0\n",
    "    end = len(nums)-1\n",
    "    while start<end:\n",
    "        mid = start + (end -start)//2\n",
    "        if nums[mid] > nums[mid+1]:\n",
    "            end = mid\n",
    "        else:\n",
    "            start = mid + 1\n",
    "    return start\n",
    "\n",
    "pivot = getPivot(nums)\n",
    "\n",
    "def search2(nums,start,end,target):\n",
    "    while start <= end:\n",
    "        mid = start + (end - start)//2\n",
    "        if nums[mid] > target:\n",
    "            end = mid -1 \n",
    "        elif nums[mid] < target :\n",
    "            start = mid + 1\n",
    "        else :\n",
    "            return mid\n",
    "    return -1 \n",
    "\n",
    "ans1 = search2(nums,0,pivot,target)\n",
    "if ans1 != -1:\n",
    "    print(ans1)\n",
    "else:\n",
    "    ans2 = search2(nums,pivot+1 ,len(nums)-1 ,target)\n",
    "    print(ans2)\n"
   ]
  }
 ],
 "metadata": {
  "interpreter": {
   "hash": "b3ba2566441a7c06988d0923437866b63cedc61552a5af99d1f4fb67d367b25f"
  },
  "kernelspec": {
   "display_name": "Python 3.9.7 ('base')",
   "language": "python",
   "name": "python3"
  },
  "language_info": {
   "codemirror_mode": {
    "name": "ipython",
    "version": 3
   },
   "file_extension": ".py",
   "mimetype": "text/x-python",
   "name": "python",
   "nbconvert_exporter": "python",
   "pygments_lexer": "ipython3",
   "version": "3.9.7"
  },
  "orig_nbformat": 4
 },
 "nbformat": 4,
 "nbformat_minor": 2
}
