{
 "cells": [
  {
   "cell_type": "code",
   "execution_count": 1,
   "metadata": {},
   "outputs": [],
   "source": [
    "# Largest \n",
    "import numpy as np\n",
    "\n",
    "# n = int(input('Enter a number'))\n",
    "# n1 = int(input('Enter a number'))\n",
    "# n2 = int(input('Enter a number'))\n",
    "n,n1,n2 = 1,2,3\n",
    "# max([n,n1,n2]\n",
    "# print(np.max([n,n1,n2]))\n"
   ]
  },
  {
   "cell_type": "code",
   "execution_count": 2,
   "metadata": {},
   "outputs": [
    {
     "data": {
      "text/plain": [
       "True"
      ]
     },
     "execution_count": 2,
     "metadata": {},
     "output_type": "execute_result"
    }
   ],
   "source": [
    "# Case Check\n",
    "\n",
    "s = \"Sasfhwajkfhkjhk\"\n",
    "s[0].isupper()"
   ]
  },
  {
   "cell_type": "code",
   "execution_count": 3,
   "metadata": {},
   "outputs": [
    {
     "data": {
      "text/plain": [
       "13"
      ]
     },
     "execution_count": 3,
     "metadata": {},
     "output_type": "execute_result"
    }
   ],
   "source": [
    "# fibonacci series\n",
    "# 0 1 1 2 \n",
    "a = 0\n",
    "b = 1\n",
    "# n = 7\n",
    "l = [a,b]\n",
    "for i in range(7):\n",
    "    sum = a+b\n",
    "    a = b\n",
    "    b = sum\n",
    "    l.append(sum)\n",
    "a"
   ]
  },
  {
   "cell_type": "code",
   "execution_count": 4,
   "metadata": {},
   "outputs": [
    {
     "data": {
      "text/plain": [
       "4"
      ]
     },
     "execution_count": 4,
     "metadata": {},
     "output_type": "execute_result"
    }
   ],
   "source": [
    "# Count occurances\n",
    "\n",
    "# Approach 1\n",
    "\n",
    "# #given number\n",
    "# n = 1263781728937787291377972173987\n",
    "# # digit you want to find the occurance of !!\n",
    "# number = 7\n",
    "# list(str(n)).count(f'{number}')\n",
    "\n",
    "## Approach 2\n",
    "\n",
    "n = 127878787\n",
    "\n",
    "count = 0\n",
    "while n> 0:\n",
    "    a = n%10\n",
    "    if a == 7:\n",
    "        count +=1\n",
    "    n=n//10\n",
    "\n",
    "count"
   ]
  },
  {
   "cell_type": "code",
   "execution_count": 5,
   "metadata": {},
   "outputs": [
    {
     "data": {
      "text/plain": [
       "1"
      ]
     },
     "execution_count": 5,
     "metadata": {},
     "output_type": "execute_result"
    }
   ],
   "source": [
    "# Factorial\n",
    "\n",
    "n = 0\n",
    "\n",
    "fact = 1\n",
    "assert (n >= 0)  and (type(n) == int), 'n should be a positive integer'\n",
    "\n",
    "for i in range(1,n+1):\n",
    "    if n == 0:\n",
    "        fact = 1\n",
    "    else:\n",
    "        fact = fact * i\n",
    "\n",
    "fact"
   ]
  },
  {
   "cell_type": "code",
   "execution_count": 6,
   "metadata": {},
   "outputs": [
    {
     "name": "stdout",
     "output_type": "stream",
     "text": [
      "Not a prime\n"
     ]
    }
   ],
   "source": [
    "# isPrime \n",
    "n = 30\n",
    "c = 0 \n",
    "for i in range(2,int(n**0.5)): #range(2,n) also works\n",
    "    if n%i == 0:\n",
    "        c+=1\n",
    "if c == 0:\n",
    "    print('Prime')\n",
    "else:\n",
    "    print('Not a prime')"
   ]
  },
  {
   "cell_type": "code",
   "execution_count": 7,
   "metadata": {},
   "outputs": [
    {
     "name": "stdout",
     "output_type": "stream",
     "text": [
      "Armstrong Number\n"
     ]
    }
   ],
   "source": [
    "# Armstrong number\n",
    "\n",
    "n = 153\n",
    "n2 = n\n",
    "sum = 0\n",
    "while n > 0:\n",
    "    r = (n%10)**3\n",
    "    sum += r\n",
    "    n = n//10\n",
    "if sum == n2:\n",
    "    print('Armstrong Number')\n",
    "else:\n",
    "    print(\"Ordinary Number\")"
   ]
  },
  {
   "cell_type": "code",
   "execution_count": 8,
   "metadata": {},
   "outputs": [],
   "source": [
    "#Arrays\n",
    "\n",
    "a = list(range(10))\n"
   ]
  },
  {
   "cell_type": "code",
   "execution_count": 9,
   "metadata": {},
   "outputs": [],
   "source": [
    "# linear search\n",
    "\n",
    "a = list(range(10))\n",
    "n= 32\n",
    "if len(a) == 0:\n",
    "    print('-1')\n",
    "    \n",
    "for i in range(len(a)):\n",
    "    if a[i] == n:\n",
    "        print(f'Element found at index',i)\n"
   ]
  },
  {
   "cell_type": "code",
   "execution_count": 10,
   "metadata": {},
   "outputs": [
    {
     "name": "stdout",
     "output_type": "stream",
     "text": [
      "756\n",
      "262\n",
      "362\n",
      "54\n",
      "898\n",
      "238\n",
      "498\n",
      "241\n",
      "286\n",
      "852\n",
      "73\n",
      "888\n",
      "181\n",
      "689\n",
      "124\n",
      "513\n",
      "10\n",
      "543\n",
      "905\n",
      "403\n"
     ]
    }
   ],
   "source": [
    "# traversing a 2d array \n",
    "\n",
    "a = np.random.randint(0,1000,10)\n",
    "b = np.random.randint(0,1000,10)\n",
    "l = [a,b]\n",
    "\n",
    "for i in range(len(l)):\n",
    "    for j in range(len(l[i])):\n",
    "        print(l[i][j])\n"
   ]
  },
  {
   "cell_type": "code",
   "execution_count": 11,
   "metadata": {},
   "outputs": [
    {
     "name": "stdout",
     "output_type": "stream",
     "text": [
      "word found at index 1\n"
     ]
    }
   ],
   "source": [
    "# Linear search in strings\n",
    "\n",
    "s = 'hey lets see if we can find a pattern in the string'\n",
    "# 'lets' in s\n",
    "\n",
    "word = 'lets'\n",
    "for i in range(len(s.split())):\n",
    "    if s.split()[i] == word:\n",
    "        print(f'word found at index {i}')"
   ]
  },
  {
   "cell_type": "code",
   "execution_count": 12,
   "metadata": {},
   "outputs": [
    {
     "name": "stdout",
     "output_type": "stream",
     "text": [
      "148\n"
     ]
    }
   ],
   "source": [
    "# find min/max in a 1d array without any function\n",
    "\n",
    "import numpy\n",
    "a = np.random.randint(100,1000,50)\n",
    "\n",
    "min = a[0]\n",
    "for i in range(len(a)):\n",
    "    if min > a[i]:\n",
    "        min = a[i]\n",
    "print(min)"
   ]
  },
  {
   "cell_type": "code",
   "execution_count": 13,
   "metadata": {},
   "outputs": [
    {
     "data": {
      "text/plain": [
       "[array([756, 262, 362,  54, 898, 238, 498, 241, 286, 852]),\n",
       " array([ 73, 888, 181, 689, 124, 513,  10, 543, 905, 403])]"
      ]
     },
     "execution_count": 13,
     "metadata": {},
     "output_type": "execute_result"
    }
   ],
   "source": [
    "l"
   ]
  },
  {
   "cell_type": "code",
   "execution_count": 14,
   "metadata": {},
   "outputs": [
    {
     "data": {
      "text/plain": [
       "73"
      ]
     },
     "execution_count": 14,
     "metadata": {},
     "output_type": "execute_result"
    }
   ],
   "source": [
    "l[1][0]"
   ]
  },
  {
   "cell_type": "code",
   "execution_count": 15,
   "metadata": {},
   "outputs": [
    {
     "name": "stdout",
     "output_type": "stream",
     "text": [
      "[array([290, 283, 199, 712, 534, 260,  49, 458,  54, 858]), array([328, 126, 620, 155, 921, 223, 293, 858, 487, 927])]\n"
     ]
    },
    {
     "data": {
      "text/plain": [
       "49"
      ]
     },
     "execution_count": 15,
     "metadata": {},
     "output_type": "execute_result"
    }
   ],
   "source": [
    "# Searching in a 2d array\n",
    "a = np.random.randint(0,1000,10)\n",
    "b = np.random.randint(0,1000,10)\n",
    "l = [a,b]\n",
    "\n",
    "print(l)\n",
    "\n",
    "min = l[0][0]\n",
    "for i in range(len(l)):\n",
    "    for j in range(len(l[i])):\n",
    "        if min > l[i][j]:\n",
    "            min = l[i][j]\n",
    "\n",
    "min"
   ]
  },
  {
   "cell_type": "code",
   "execution_count": 16,
   "metadata": {},
   "outputs": [
    {
     "data": {
      "text/plain": [
       "2"
      ]
     },
     "execution_count": 16,
     "metadata": {},
     "output_type": "execute_result"
    }
   ],
   "source": [
    "# Find Numbers with Even Number of Digits ## Approach 1\n",
    "\n",
    "def findNumbers(nums):\n",
    "    c = 0\n",
    "    for i in range(len(nums)):\n",
    "        if len(str(nums[i]))%2 == 0:\n",
    "            c+=1\n",
    "    return c\n",
    "\n",
    "findNumbers([12,345,2,6,7896])"
   ]
  },
  {
   "cell_type": "code",
   "execution_count": 25,
   "metadata": {},
   "outputs": [
    {
     "data": {
      "text/plain": [
       "6"
      ]
     },
     "execution_count": 25,
     "metadata": {},
     "output_type": "execute_result"
    }
   ],
   "source": [
    "# Find Numbers with Even Number of Digits ## Approach 2\n",
    "import math\n",
    "int(math.log10(123456)) + 1 "
   ]
  },
  {
   "cell_type": "code",
   "execution_count": 17,
   "metadata": {},
   "outputs": [
    {
     "name": "stdout",
     "output_type": "stream",
     "text": [
      "6\n"
     ]
    }
   ],
   "source": [
    "# Find Numbers with Even Number of Digits ## Approach 3\n",
    "\n",
    "nums = [12,345,2,6,7896,12,12,12,21]\n",
    "\n",
    "#first creating a function that checks even or odd\n",
    "def isEven(num):\n",
    "    c = 0\n",
    "    while num>0:\n",
    "        num = num//10\n",
    "        c+=1\n",
    "    if c%2==0:\n",
    "        return True\n",
    "    else:\n",
    "        return False\n",
    "\n",
    "c = 0\n",
    "for i in nums:\n",
    "    if isEven(i):\n",
    "        c+=1\n",
    "\n",
    "print(c)    \n",
    "\n"
   ]
  },
  {
   "cell_type": "code",
   "execution_count": 18,
   "metadata": {},
   "outputs": [],
   "source": [
    "a = np.random.randint(0,10,3)\n",
    "b = np.random.randint(0,10,3)\n",
    "l = [a,b]"
   ]
  },
  {
   "cell_type": "code",
   "execution_count": 19,
   "metadata": {},
   "outputs": [
    {
     "data": {
      "text/plain": [
       "[array([3, 2, 8]), array([2, 0, 3])]"
      ]
     },
     "execution_count": 19,
     "metadata": {},
     "output_type": "execute_result"
    }
   ],
   "source": [
    "l"
   ]
  },
  {
   "cell_type": "code",
   "execution_count": 20,
   "metadata": {},
   "outputs": [
    {
     "name": "stdout",
     "output_type": "stream",
     "text": [
      "13\n",
      "18\n"
     ]
    }
   ],
   "source": [
    "sum = 0\n",
    "for i in range(len(l)):\n",
    "    for j in range(len(l[i])):\n",
    "        sum+=l[i][j]\n",
    "    print(sum)\n"
   ]
  },
  {
   "cell_type": "code",
   "execution_count": 21,
   "metadata": {},
   "outputs": [
    {
     "name": "stdout",
     "output_type": "stream",
     "text": [
      "17\n"
     ]
    }
   ],
   "source": [
    "# Maximum sum of subarray\n",
    "a = [[2,8,7],[7,1,3],[1,9,5]]\n",
    "l = []\n",
    "for i in a:\n",
    "    sum = 0\n",
    "    for j in i:\n",
    "        sum = sum+j\n",
    "    l.append(sum)\n",
    "\n",
    "print(max(l))"
   ]
  },
  {
   "cell_type": "code",
   "execution_count": 22,
   "metadata": {},
   "outputs": [
    {
     "data": {
      "text/plain": [
       "6"
      ]
     },
     "execution_count": 22,
     "metadata": {},
     "output_type": "execute_result"
    }
   ],
   "source": [
    "# Maximum words in a sentence\n",
    "\n",
    "def mostWordsFound(sentences) -> int:\n",
    "    l = []\n",
    "    for i in sentences:\n",
    "        l.append(len(i.split()))\n",
    "    return max(l)\n",
    "\n",
    "mostWordsFound([\"alice and bob love leetcode\",\"i think so too\",\"this is great thanks very much\"])"
   ]
  },
  {
   "cell_type": "code",
   "execution_count": 23,
   "metadata": {},
   "outputs": [
    {
     "name": "stdout",
     "output_type": "stream",
     "text": [
      "X++\n",
      "X++\n"
     ]
    }
   ],
   "source": [
    "a = [\"--X\",\"X++\",\"X++\"]\n",
    "for i in a:\n",
    "    if i == \"X++\" or i== \"++X\":\n",
    "        print(i)"
   ]
  },
  {
   "cell_type": "code",
   "execution_count": null,
   "metadata": {},
   "outputs": [],
   "source": []
  }
 ],
 "metadata": {
  "kernelspec": {
   "display_name": "Python 3.9.12 64-bit ('base': conda)",
   "language": "python",
   "name": "python3"
  },
  "language_info": {
   "codemirror_mode": {
    "name": "ipython",
    "version": 3
   },
   "file_extension": ".py",
   "mimetype": "text/x-python",
   "name": "python",
   "nbconvert_exporter": "python",
   "pygments_lexer": "ipython3",
   "version": "3.9.12"
  },
  "orig_nbformat": 4,
  "vscode": {
   "interpreter": {
    "hash": "8891f3cfb547db503e78f25128202364d60f1c09259e140a1bd236c27b0b7a43"
   }
  }
 },
 "nbformat": 4,
 "nbformat_minor": 2
}
